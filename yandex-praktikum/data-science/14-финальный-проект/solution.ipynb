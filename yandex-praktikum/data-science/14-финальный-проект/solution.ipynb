{
 "cells": [
  {
   "cell_type": "markdown",
   "metadata": {},
   "source": [
    "# Описание задачи\n",
    "\n",
    "Чтобы оптимизировать производственные расходы, металлургический комбинат ООО «Так закаляем сталь» решил уменьшить потребление электроэнергии на этапе обработки стали. Вам предстоит построить модель, которая предскажет температуру стали."
   ]
  },
  {
   "cell_type": "markdown",
   "metadata": {},
   "source": [
    "### План работы\n",
    "\n",
    "1. Подготовка и анализ данных\n",
    "2. Предобработка данных\n",
    "3. Обучение моделей\n",
    "4. Вывод"
   ]
  },
  {
   "cell_type": "markdown",
   "metadata": {},
   "source": [
    "### Описание данных\n",
    "\n",
    "Данные состоят из файлов, полученных из разных источников:\n",
    "\n",
    "- `data_arc.csv` — данные об электродах;\n",
    "- `data_bulk.csv` — данные о подаче сыпучих материалов (объём);\n",
    "- `data_bulk_time.csv` *—* данные о подаче сыпучих материалов (время);\n",
    "- `data_gas.csv` — данные о продувке сплава газом;\n",
    "- `data_temp.csv` — результаты измерения температуры;\n",
    "- `data_wire.csv` — данные о проволочных материалах (объём);\n",
    "- `data_wire_time.csv` — данные о проволочных материалах (время).\n",
    "\n",
    "Во всех файлах столбец `key` содержит номер партии. В файлах может быть несколько строк с одинаковым значением `key`: они соответствуют разным итерациям обработки.\n",
    "\n",
    "**Метрика - MAE**"
   ]
  },
  {
   "cell_type": "markdown",
   "metadata": {},
   "source": [
    "### Импорт библиотек"
   ]
  },
  {
   "cell_type": "code",
   "execution_count": 1,
   "metadata": {},
   "outputs": [],
   "source": [
    "import pandas as pd \n",
    "import numpy as np \n",
    "import matplotlib.pyplot as plt \n",
    "import seaborn as sns \n",
    "\n",
    "from sklearn.preprocessing import MinMaxScaler\n",
    "from sklearn.model_selection import train_test_split, GridSearchCV\n",
    "from sklearn.metrics import mean_absolute_error\n",
    "import warnings\n",
    "warnings.filterwarnings('ignore') \n",
    "\n",
    "from sklearn.linear_model import LinearRegression\n",
    "from sklearn.ensemble import RandomForestRegressor\n",
    "from lightgbm import LGBMRegressor\n",
    "\n",
    "RND = 12345"
   ]
  },
  {
   "cell_type": "markdown",
   "metadata": {},
   "source": [
    "## 1. Подготовка и анализ данных"
   ]
  },
  {
   "cell_type": "code",
   "execution_count": 2,
   "metadata": {},
   "outputs": [],
   "source": [
    "arc = pd.read_csv('/datasets/final_steel/data_arc.csv')\n",
    "bulk = pd.read_csv('/datasets/final_steel/data_bulk.csv')\n",
    "bulk_time = pd.read_csv('/datasets/final_steel/data_bulk_time.csv')\n",
    "gas = pd.read_csv('/datasets/final_steel/data_gas.csv')\n",
    "temp = pd.read_csv('/datasets/final_steel/data_temp.csv')\n",
    "wire = pd.read_csv('/datasets/final_steel/data_wire.csv')\n",
    "wire_time = pd.read_csv('/datasets/final_steel/data_wire_time.csv')"
   ]
  },
  {
   "cell_type": "code",
   "execution_count": 3,
   "metadata": {},
   "outputs": [],
   "source": [
    "def check_data(data):\n",
    "    display(data.head(5))\n",
    "    display(data.tail(5))\n",
    "    print(data.info())\n",
    "    print(data.describe())"
   ]
  },
  {
   "cell_type": "markdown",
   "metadata": {},
   "source": [
    "**Данные об электродах**"
   ]
  },
  {
   "cell_type": "code",
   "execution_count": 4,
   "metadata": {},
   "outputs": [
    {
     "data": {
      "text/html": [
       "<div>\n",
       "<style scoped>\n",
       "    .dataframe tbody tr th:only-of-type {\n",
       "        vertical-align: middle;\n",
       "    }\n",
       "\n",
       "    .dataframe tbody tr th {\n",
       "        vertical-align: top;\n",
       "    }\n",
       "\n",
       "    .dataframe thead th {\n",
       "        text-align: right;\n",
       "    }\n",
       "</style>\n",
       "<table border=\"1\" class=\"dataframe\">\n",
       "  <thead>\n",
       "    <tr style=\"text-align: right;\">\n",
       "      <th></th>\n",
       "      <th>key</th>\n",
       "      <th>Начало нагрева дугой</th>\n",
       "      <th>Конец нагрева дугой</th>\n",
       "      <th>Активная мощность</th>\n",
       "      <th>Реактивная мощность</th>\n",
       "    </tr>\n",
       "  </thead>\n",
       "  <tbody>\n",
       "    <tr>\n",
       "      <td>0</td>\n",
       "      <td>1</td>\n",
       "      <td>2019-05-03 11:02:14</td>\n",
       "      <td>2019-05-03 11:06:02</td>\n",
       "      <td>0.976059</td>\n",
       "      <td>0.687084</td>\n",
       "    </tr>\n",
       "    <tr>\n",
       "      <td>1</td>\n",
       "      <td>1</td>\n",
       "      <td>2019-05-03 11:07:28</td>\n",
       "      <td>2019-05-03 11:10:33</td>\n",
       "      <td>0.805607</td>\n",
       "      <td>0.520285</td>\n",
       "    </tr>\n",
       "    <tr>\n",
       "      <td>2</td>\n",
       "      <td>1</td>\n",
       "      <td>2019-05-03 11:11:44</td>\n",
       "      <td>2019-05-03 11:14:36</td>\n",
       "      <td>0.744363</td>\n",
       "      <td>0.498805</td>\n",
       "    </tr>\n",
       "    <tr>\n",
       "      <td>3</td>\n",
       "      <td>1</td>\n",
       "      <td>2019-05-03 11:18:14</td>\n",
       "      <td>2019-05-03 11:24:19</td>\n",
       "      <td>1.659363</td>\n",
       "      <td>1.062669</td>\n",
       "    </tr>\n",
       "    <tr>\n",
       "      <td>4</td>\n",
       "      <td>1</td>\n",
       "      <td>2019-05-03 11:26:09</td>\n",
       "      <td>2019-05-03 11:28:37</td>\n",
       "      <td>0.692755</td>\n",
       "      <td>0.414397</td>\n",
       "    </tr>\n",
       "  </tbody>\n",
       "</table>\n",
       "</div>"
      ],
      "text/plain": [
       "   key Начало нагрева дугой  Конец нагрева дугой  Активная мощность  \\\n",
       "0    1  2019-05-03 11:02:14  2019-05-03 11:06:02           0.976059   \n",
       "1    1  2019-05-03 11:07:28  2019-05-03 11:10:33           0.805607   \n",
       "2    1  2019-05-03 11:11:44  2019-05-03 11:14:36           0.744363   \n",
       "3    1  2019-05-03 11:18:14  2019-05-03 11:24:19           1.659363   \n",
       "4    1  2019-05-03 11:26:09  2019-05-03 11:28:37           0.692755   \n",
       "\n",
       "   Реактивная мощность  \n",
       "0             0.687084  \n",
       "1             0.520285  \n",
       "2             0.498805  \n",
       "3             1.062669  \n",
       "4             0.414397  "
      ]
     },
     "metadata": {},
     "output_type": "display_data"
    },
    {
     "data": {
      "text/html": [
       "<div>\n",
       "<style scoped>\n",
       "    .dataframe tbody tr th:only-of-type {\n",
       "        vertical-align: middle;\n",
       "    }\n",
       "\n",
       "    .dataframe tbody tr th {\n",
       "        vertical-align: top;\n",
       "    }\n",
       "\n",
       "    .dataframe thead th {\n",
       "        text-align: right;\n",
       "    }\n",
       "</style>\n",
       "<table border=\"1\" class=\"dataframe\">\n",
       "  <thead>\n",
       "    <tr style=\"text-align: right;\">\n",
       "      <th></th>\n",
       "      <th>key</th>\n",
       "      <th>Начало нагрева дугой</th>\n",
       "      <th>Конец нагрева дугой</th>\n",
       "      <th>Активная мощность</th>\n",
       "      <th>Реактивная мощность</th>\n",
       "    </tr>\n",
       "  </thead>\n",
       "  <tbody>\n",
       "    <tr>\n",
       "      <td>14871</td>\n",
       "      <td>3241</td>\n",
       "      <td>2019-09-01 03:58:58</td>\n",
       "      <td>2019-09-01 04:01:35</td>\n",
       "      <td>0.533670</td>\n",
       "      <td>0.354439</td>\n",
       "    </tr>\n",
       "    <tr>\n",
       "      <td>14872</td>\n",
       "      <td>3241</td>\n",
       "      <td>2019-09-01 04:05:04</td>\n",
       "      <td>2019-09-01 04:08:04</td>\n",
       "      <td>0.676604</td>\n",
       "      <td>0.523631</td>\n",
       "    </tr>\n",
       "    <tr>\n",
       "      <td>14873</td>\n",
       "      <td>3241</td>\n",
       "      <td>2019-09-01 04:16:41</td>\n",
       "      <td>2019-09-01 04:19:45</td>\n",
       "      <td>0.733899</td>\n",
       "      <td>0.475654</td>\n",
       "    </tr>\n",
       "    <tr>\n",
       "      <td>14874</td>\n",
       "      <td>3241</td>\n",
       "      <td>2019-09-01 04:31:51</td>\n",
       "      <td>2019-09-01 04:32:48</td>\n",
       "      <td>0.220694</td>\n",
       "      <td>0.145768</td>\n",
       "    </tr>\n",
       "    <tr>\n",
       "      <td>14875</td>\n",
       "      <td>3241</td>\n",
       "      <td>2019-09-01 04:34:47</td>\n",
       "      <td>2019-09-01 04:36:08</td>\n",
       "      <td>0.306580</td>\n",
       "      <td>0.196708</td>\n",
       "    </tr>\n",
       "  </tbody>\n",
       "</table>\n",
       "</div>"
      ],
      "text/plain": [
       "        key Начало нагрева дугой  Конец нагрева дугой  Активная мощность  \\\n",
       "14871  3241  2019-09-01 03:58:58  2019-09-01 04:01:35           0.533670   \n",
       "14872  3241  2019-09-01 04:05:04  2019-09-01 04:08:04           0.676604   \n",
       "14873  3241  2019-09-01 04:16:41  2019-09-01 04:19:45           0.733899   \n",
       "14874  3241  2019-09-01 04:31:51  2019-09-01 04:32:48           0.220694   \n",
       "14875  3241  2019-09-01 04:34:47  2019-09-01 04:36:08           0.306580   \n",
       "\n",
       "       Реактивная мощность  \n",
       "14871             0.354439  \n",
       "14872             0.523631  \n",
       "14873             0.475654  \n",
       "14874             0.145768  \n",
       "14875             0.196708  "
      ]
     },
     "metadata": {},
     "output_type": "display_data"
    },
    {
     "name": "stdout",
     "output_type": "stream",
     "text": [
      "<class 'pandas.core.frame.DataFrame'>\n",
      "RangeIndex: 14876 entries, 0 to 14875\n",
      "Data columns (total 5 columns):\n",
      "key                     14876 non-null int64\n",
      "Начало нагрева дугой    14876 non-null object\n",
      "Конец нагрева дугой     14876 non-null object\n",
      "Активная мощность       14876 non-null float64\n",
      "Реактивная мощность     14876 non-null float64\n",
      "dtypes: float64(2), int64(1), object(2)\n",
      "memory usage: 581.2+ KB\n",
      "None\n",
      "                key  Активная мощность  Реактивная мощность\n",
      "count  14876.000000       14876.000000         14876.000000\n",
      "mean    1615.220422           0.670441             0.452592\n",
      "std      934.571502           0.408159             5.878702\n",
      "min        1.000000           0.030002          -715.504924\n",
      "25%      806.000000           0.395297             0.290991\n",
      "50%     1617.000000           0.555517             0.415962\n",
      "75%     2429.000000           0.857034             0.637371\n",
      "max     3241.000000           3.731596             2.676388\n"
     ]
    }
   ],
   "source": [
    "check_data(arc)"
   ]
  },
  {
   "cell_type": "code",
   "execution_count": 5,
   "metadata": {},
   "outputs": [
    {
     "data": {
      "image/png": "[encoded data removed]",
      "text/plain": [
       "<Figure size 432x288 with 1 Axes>"
      ]
     },
     "metadata": {
      "needs_background": "light"
     },
     "output_type": "display_data"
    }
   ],
   "source": [
    "plt.boxplot(arc['Реактивная мощность'])\n",
    "plt.grid(axis='y')\n",
    "plt.title('Boxplot по Реактивной мощности')\n",
    "plt.show()"
   ]
  },
  {
   "cell_type": "code",
   "execution_count": 6,
   "metadata": {},
   "outputs": [
    {
     "data": {
      "image/png": "[encoded data removed]",
      "text/plain": [
       "<Figure size 432x288 with 1 Axes>"
      ]
     },
     "metadata": {
      "needs_background": "light"
     },
     "output_type": "display_data"
    }
   ],
   "source": [
    "plt.hist(arc['Реактивная мощность'], bins=15)\n",
    "plt.title('Гистограмма по Реактивной мощности')\n",
    "plt.show()"
   ]
  },
  {
   "cell_type": "markdown",
   "metadata": {},
   "source": [
    "Отрицательные значения в столбце Реактивная мощность, возможно возникли по причине ошибок. "
   ]
  },
  {
   "cell_type": "code",
   "execution_count": 7,
   "metadata": {},
   "outputs": [
    {
     "data": {
      "image/png": "[encoded data removed]",
      "text/plain": [
       "<Figure size 432x288 with 1 Axes>"
      ]
     },
     "metadata": {
      "needs_background": "light"
     },
     "output_type": "display_data"
    }
   ],
   "source": [
    "plt.hist((list(arc['key'].value_counts())), bins=15)\n",
    "plt.title('Гистограмма по столбцу Key')\n",
    "plt.show()"
   ]
  },
  {
   "cell_type": "markdown",
   "metadata": {},
   "source": [
    "Столбец key содержит номер партии. Количество итераций варьируется от 1 до 16 для каждой партии. "
   ]
  },
  {
   "cell_type": "markdown",
   "metadata": {},
   "source": [
    "**Заметки**\n",
    "\n",
    "* Уберем отрицательные значения в столбце Реактивная мощность\n",
    "* Изменим формат данных на datetime в столбцах Начало нагрева дугой и Конец нагрева дугой\n",
    "* Создадим признак Продолжительность нагрева дугой\n",
    "* Создадим признак Полной мощности"
   ]
  },
  {
   "cell_type": "markdown",
   "metadata": {},
   "source": [
    "Для создания параметра Полная мощность необходимо применить формулу: \n",
    "\n",
    "$$ S=\\sqrt{P^2+Q^2} $$\n",
    " \n",
    "где: P — активная мощность,  Q — реактивная мощность"
   ]
  },
  {
   "cell_type": "markdown",
   "metadata": {},
   "source": [
    "**Данные о подаче сыпучих материалов (объём)**"
   ]
  },
  {
   "cell_type": "code",
   "execution_count": 8,
   "metadata": {},
   "outputs": [
    {
     "data": {
      "text/html": [
       "<div>\n",
       "<style scoped>\n",
       "    .dataframe tbody tr th:only-of-type {\n",
       "        vertical-align: middle;\n",
       "    }\n",
       "\n",
       "    .dataframe tbody tr th {\n",
       "        vertical-align: top;\n",
       "    }\n",
       "\n",
       "    .dataframe thead th {\n",
       "        text-align: right;\n",
       "    }\n",
       "</style>\n",
       "<table border=\"1\" class=\"dataframe\">\n",
       "  <thead>\n",
       "    <tr style=\"text-align: right;\">\n",
       "      <th></th>\n",
       "      <th>key</th>\n",
       "      <th>Bulk 1</th>\n",
       "      <th>Bulk 2</th>\n",
       "      <th>Bulk 3</th>\n",
       "      <th>Bulk 4</th>\n",
       "      <th>Bulk 5</th>\n",
       "      <th>Bulk 6</th>\n",
       "      <th>Bulk 7</th>\n",
       "      <th>Bulk 8</th>\n",
       "      <th>Bulk 9</th>\n",
       "      <th>Bulk 10</th>\n",
       "      <th>Bulk 11</th>\n",
       "      <th>Bulk 12</th>\n",
       "      <th>Bulk 13</th>\n",
       "      <th>Bulk 14</th>\n",
       "      <th>Bulk 15</th>\n",
       "    </tr>\n",
       "  </thead>\n",
       "  <tbody>\n",
       "    <tr>\n",
       "      <td>0</td>\n",
       "      <td>1</td>\n",
       "      <td>NaN</td>\n",
       "      <td>NaN</td>\n",
       "      <td>NaN</td>\n",
       "      <td>43.0</td>\n",
       "      <td>NaN</td>\n",
       "      <td>NaN</td>\n",
       "      <td>NaN</td>\n",
       "      <td>NaN</td>\n",
       "      <td>NaN</td>\n",
       "      <td>NaN</td>\n",
       "      <td>NaN</td>\n",
       "      <td>206.0</td>\n",
       "      <td>NaN</td>\n",
       "      <td>150.0</td>\n",
       "      <td>154.0</td>\n",
       "    </tr>\n",
       "    <tr>\n",
       "      <td>1</td>\n",
       "      <td>2</td>\n",
       "      <td>NaN</td>\n",
       "      <td>NaN</td>\n",
       "      <td>NaN</td>\n",
       "      <td>73.0</td>\n",
       "      <td>NaN</td>\n",
       "      <td>NaN</td>\n",
       "      <td>NaN</td>\n",
       "      <td>NaN</td>\n",
       "      <td>NaN</td>\n",
       "      <td>NaN</td>\n",
       "      <td>NaN</td>\n",
       "      <td>206.0</td>\n",
       "      <td>NaN</td>\n",
       "      <td>149.0</td>\n",
       "      <td>154.0</td>\n",
       "    </tr>\n",
       "    <tr>\n",
       "      <td>2</td>\n",
       "      <td>3</td>\n",
       "      <td>NaN</td>\n",
       "      <td>NaN</td>\n",
       "      <td>NaN</td>\n",
       "      <td>34.0</td>\n",
       "      <td>NaN</td>\n",
       "      <td>NaN</td>\n",
       "      <td>NaN</td>\n",
       "      <td>NaN</td>\n",
       "      <td>NaN</td>\n",
       "      <td>NaN</td>\n",
       "      <td>NaN</td>\n",
       "      <td>205.0</td>\n",
       "      <td>NaN</td>\n",
       "      <td>152.0</td>\n",
       "      <td>153.0</td>\n",
       "    </tr>\n",
       "    <tr>\n",
       "      <td>3</td>\n",
       "      <td>4</td>\n",
       "      <td>NaN</td>\n",
       "      <td>NaN</td>\n",
       "      <td>NaN</td>\n",
       "      <td>81.0</td>\n",
       "      <td>NaN</td>\n",
       "      <td>NaN</td>\n",
       "      <td>NaN</td>\n",
       "      <td>NaN</td>\n",
       "      <td>NaN</td>\n",
       "      <td>NaN</td>\n",
       "      <td>NaN</td>\n",
       "      <td>207.0</td>\n",
       "      <td>NaN</td>\n",
       "      <td>153.0</td>\n",
       "      <td>154.0</td>\n",
       "    </tr>\n",
       "    <tr>\n",
       "      <td>4</td>\n",
       "      <td>5</td>\n",
       "      <td>NaN</td>\n",
       "      <td>NaN</td>\n",
       "      <td>NaN</td>\n",
       "      <td>78.0</td>\n",
       "      <td>NaN</td>\n",
       "      <td>NaN</td>\n",
       "      <td>NaN</td>\n",
       "      <td>NaN</td>\n",
       "      <td>NaN</td>\n",
       "      <td>NaN</td>\n",
       "      <td>NaN</td>\n",
       "      <td>203.0</td>\n",
       "      <td>NaN</td>\n",
       "      <td>151.0</td>\n",
       "      <td>152.0</td>\n",
       "    </tr>\n",
       "  </tbody>\n",
       "</table>\n",
       "</div>"
      ],
      "text/plain": [
       "   key  Bulk 1  Bulk 2  Bulk 3  Bulk 4  Bulk 5  Bulk 6  Bulk 7  Bulk 8  \\\n",
       "0    1     NaN     NaN     NaN    43.0     NaN     NaN     NaN     NaN   \n",
       "1    2     NaN     NaN     NaN    73.0     NaN     NaN     NaN     NaN   \n",
       "2    3     NaN     NaN     NaN    34.0     NaN     NaN     NaN     NaN   \n",
       "3    4     NaN     NaN     NaN    81.0     NaN     NaN     NaN     NaN   \n",
       "4    5     NaN     NaN     NaN    78.0     NaN     NaN     NaN     NaN   \n",
       "\n",
       "   Bulk 9  Bulk 10  Bulk 11  Bulk 12  Bulk 13  Bulk 14  Bulk 15  \n",
       "0     NaN      NaN      NaN    206.0      NaN    150.0    154.0  \n",
       "1     NaN      NaN      NaN    206.0      NaN    149.0    154.0  \n",
       "2     NaN      NaN      NaN    205.0      NaN    152.0    153.0  \n",
       "3     NaN      NaN      NaN    207.0      NaN    153.0    154.0  \n",
       "4     NaN      NaN      NaN    203.0      NaN    151.0    152.0  "
      ]
     },
     "metadata": {},
     "output_type": "display_data"
    },
    {
     "data": {
      "text/html": [
       "<div>\n",
       "<style scoped>\n",
       "    .dataframe tbody tr th:only-of-type {\n",
       "        vertical-align: middle;\n",
       "    }\n",
       "\n",
       "    .dataframe tbody tr th {\n",
       "        vertical-align: top;\n",
       "    }\n",
       "\n",
       "    .dataframe thead th {\n",
       "        text-align: right;\n",
       "    }\n",
       "</style>\n",
       "<table border=\"1\" class=\"dataframe\">\n",
       "  <thead>\n",
       "    <tr style=\"text-align: right;\">\n",
       "      <th></th>\n",
       "      <th>key</th>\n",
       "      <th>Bulk 1</th>\n",
       "      <th>Bulk 2</th>\n",
       "      <th>Bulk 3</th>\n",
       "      <th>Bulk 4</th>\n",
       "      <th>Bulk 5</th>\n",
       "      <th>Bulk 6</th>\n",
       "      <th>Bulk 7</th>\n",
       "      <th>Bulk 8</th>\n",
       "      <th>Bulk 9</th>\n",
       "      <th>Bulk 10</th>\n",
       "      <th>Bulk 11</th>\n",
       "      <th>Bulk 12</th>\n",
       "      <th>Bulk 13</th>\n",
       "      <th>Bulk 14</th>\n",
       "      <th>Bulk 15</th>\n",
       "    </tr>\n",
       "  </thead>\n",
       "  <tbody>\n",
       "    <tr>\n",
       "      <td>3124</td>\n",
       "      <td>3237</td>\n",
       "      <td>NaN</td>\n",
       "      <td>NaN</td>\n",
       "      <td>170.0</td>\n",
       "      <td>NaN</td>\n",
       "      <td>NaN</td>\n",
       "      <td>NaN</td>\n",
       "      <td>NaN</td>\n",
       "      <td>NaN</td>\n",
       "      <td>NaN</td>\n",
       "      <td>NaN</td>\n",
       "      <td>NaN</td>\n",
       "      <td>252.0</td>\n",
       "      <td>NaN</td>\n",
       "      <td>130.0</td>\n",
       "      <td>206.0</td>\n",
       "    </tr>\n",
       "    <tr>\n",
       "      <td>3125</td>\n",
       "      <td>3238</td>\n",
       "      <td>NaN</td>\n",
       "      <td>NaN</td>\n",
       "      <td>126.0</td>\n",
       "      <td>NaN</td>\n",
       "      <td>NaN</td>\n",
       "      <td>NaN</td>\n",
       "      <td>NaN</td>\n",
       "      <td>NaN</td>\n",
       "      <td>NaN</td>\n",
       "      <td>NaN</td>\n",
       "      <td>NaN</td>\n",
       "      <td>254.0</td>\n",
       "      <td>NaN</td>\n",
       "      <td>108.0</td>\n",
       "      <td>106.0</td>\n",
       "    </tr>\n",
       "    <tr>\n",
       "      <td>3126</td>\n",
       "      <td>3239</td>\n",
       "      <td>NaN</td>\n",
       "      <td>NaN</td>\n",
       "      <td>NaN</td>\n",
       "      <td>NaN</td>\n",
       "      <td>NaN</td>\n",
       "      <td>114.0</td>\n",
       "      <td>NaN</td>\n",
       "      <td>NaN</td>\n",
       "      <td>NaN</td>\n",
       "      <td>NaN</td>\n",
       "      <td>NaN</td>\n",
       "      <td>158.0</td>\n",
       "      <td>NaN</td>\n",
       "      <td>270.0</td>\n",
       "      <td>88.0</td>\n",
       "    </tr>\n",
       "    <tr>\n",
       "      <td>3127</td>\n",
       "      <td>3240</td>\n",
       "      <td>NaN</td>\n",
       "      <td>NaN</td>\n",
       "      <td>NaN</td>\n",
       "      <td>NaN</td>\n",
       "      <td>NaN</td>\n",
       "      <td>26.0</td>\n",
       "      <td>NaN</td>\n",
       "      <td>NaN</td>\n",
       "      <td>NaN</td>\n",
       "      <td>NaN</td>\n",
       "      <td>NaN</td>\n",
       "      <td>NaN</td>\n",
       "      <td>NaN</td>\n",
       "      <td>192.0</td>\n",
       "      <td>54.0</td>\n",
       "    </tr>\n",
       "    <tr>\n",
       "      <td>3128</td>\n",
       "      <td>3241</td>\n",
       "      <td>NaN</td>\n",
       "      <td>NaN</td>\n",
       "      <td>NaN</td>\n",
       "      <td>NaN</td>\n",
       "      <td>NaN</td>\n",
       "      <td>NaN</td>\n",
       "      <td>NaN</td>\n",
       "      <td>NaN</td>\n",
       "      <td>NaN</td>\n",
       "      <td>NaN</td>\n",
       "      <td>NaN</td>\n",
       "      <td>NaN</td>\n",
       "      <td>NaN</td>\n",
       "      <td>180.0</td>\n",
       "      <td>52.0</td>\n",
       "    </tr>\n",
       "  </tbody>\n",
       "</table>\n",
       "</div>"
      ],
      "text/plain": [
       "       key  Bulk 1  Bulk 2  Bulk 3  Bulk 4  Bulk 5  Bulk 6  Bulk 7  Bulk 8  \\\n",
       "3124  3237     NaN     NaN   170.0     NaN     NaN     NaN     NaN     NaN   \n",
       "3125  3238     NaN     NaN   126.0     NaN     NaN     NaN     NaN     NaN   \n",
       "3126  3239     NaN     NaN     NaN     NaN     NaN   114.0     NaN     NaN   \n",
       "3127  3240     NaN     NaN     NaN     NaN     NaN    26.0     NaN     NaN   \n",
       "3128  3241     NaN     NaN     NaN     NaN     NaN     NaN     NaN     NaN   \n",
       "\n",
       "      Bulk 9  Bulk 10  Bulk 11  Bulk 12  Bulk 13  Bulk 14  Bulk 15  \n",
       "3124     NaN      NaN      NaN    252.0      NaN    130.0    206.0  \n",
       "3125     NaN      NaN      NaN    254.0      NaN    108.0    106.0  \n",
       "3126     NaN      NaN      NaN    158.0      NaN    270.0     88.0  \n",
       "3127     NaN      NaN      NaN      NaN      NaN    192.0     54.0  \n",
       "3128     NaN      NaN      NaN      NaN      NaN    180.0     52.0  "
      ]
     },
     "metadata": {},
     "output_type": "display_data"
    },
    {
     "name": "stdout",
     "output_type": "stream",
     "text": [
      "<class 'pandas.core.frame.DataFrame'>\n",
      "RangeIndex: 3129 entries, 0 to 3128\n",
      "Data columns (total 16 columns):\n",
      "key        3129 non-null int64\n",
      "Bulk 1     252 non-null float64\n",
      "Bulk 2     22 non-null float64\n",
      "Bulk 3     1298 non-null float64\n",
      "Bulk 4     1014 non-null float64\n",
      "Bulk 5     77 non-null float64\n",
      "Bulk 6     576 non-null float64\n",
      "Bulk 7     25 non-null float64\n",
      "Bulk 8     1 non-null float64\n",
      "Bulk 9     19 non-null float64\n",
      "Bulk 10    176 non-null float64\n",
      "Bulk 11    177 non-null float64\n",
      "Bulk 12    2450 non-null float64\n",
      "Bulk 13    18 non-null float64\n",
      "Bulk 14    2806 non-null float64\n",
      "Bulk 15    2248 non-null float64\n",
      "dtypes: float64(15), int64(1)\n",
      "memory usage: 391.2 KB\n",
      "None\n",
      "               key      Bulk 1      Bulk 2       Bulk 3       Bulk 4  \\\n",
      "count  3129.000000  252.000000   22.000000  1298.000000  1014.000000   \n",
      "mean   1624.383509   39.242063  253.045455   113.879045   104.394477   \n",
      "std     933.337642   18.277654   21.180578    75.483494    48.184126   \n",
      "min       1.000000   10.000000  228.000000     6.000000    12.000000   \n",
      "25%     816.000000   27.000000  242.000000    58.000000    72.000000   \n",
      "50%    1622.000000   31.000000  251.500000    97.500000   102.000000   \n",
      "75%    2431.000000   46.000000  257.750000   152.000000   133.000000   \n",
      "max    3241.000000  185.000000  325.000000   454.000000   281.000000   \n",
      "\n",
      "           Bulk 5      Bulk 6      Bulk 7  Bulk 8      Bulk 9     Bulk 10  \\\n",
      "count   77.000000  576.000000   25.000000     1.0   19.000000  176.000000   \n",
      "mean   107.025974  118.925347  305.600000    49.0   76.315789   83.284091   \n",
      "std     81.790646   72.057776  191.022904     NaN   21.720581   26.060347   \n",
      "min     11.000000   17.000000   47.000000    49.0   63.000000   24.000000   \n",
      "25%     70.000000   69.750000  155.000000    49.0   66.000000   64.000000   \n",
      "50%     86.000000  100.000000  298.000000    49.0   68.000000   86.500000   \n",
      "75%    132.000000  157.000000  406.000000    49.0   70.500000  102.000000   \n",
      "max    603.000000  503.000000  772.000000    49.0  147.000000  159.000000   \n",
      "\n",
      "          Bulk 11      Bulk 12     Bulk 13      Bulk 14      Bulk 15  \n",
      "count  177.000000  2450.000000   18.000000  2806.000000  2248.000000  \n",
      "mean    76.819209   260.471020  181.111111   170.284747   160.513345  \n",
      "std     59.655365   120.649269   46.088009    65.868652    51.765319  \n",
      "min      8.000000    53.000000  151.000000    16.000000     1.000000  \n",
      "25%     25.000000   204.000000  153.250000   119.000000   105.000000  \n",
      "50%     64.000000   208.000000  155.500000   151.000000   160.000000  \n",
      "75%    106.000000   316.000000  203.500000   205.750000   205.000000  \n",
      "max    313.000000  1849.000000  305.000000   636.000000   405.000000  \n"
     ]
    }
   ],
   "source": [
    "check_data(bulk)"
   ]
  },
  {
   "cell_type": "code",
   "execution_count": 9,
   "metadata": {},
   "outputs": [
    {
     "data": {
      "text/plain": [
       "3129"
      ]
     },
     "execution_count": 9,
     "metadata": {},
     "output_type": "execute_result"
    }
   ],
   "source": [
    "len(bulk['key'].unique())"
   ]
  },
  {
   "cell_type": "markdown",
   "metadata": {},
   "source": [
    "3129 уникальных номеров партий. Каждому значению соответсвует одна строка "
   ]
  },
  {
   "cell_type": "markdown",
   "metadata": {},
   "source": [
    "**Заметки**\n",
    "\n",
    "* Отсутствуют дубликаты\n",
    "* Множество пропусков. Обусловлено спецификой технологического процесса.\n",
    "* Заменим пустые значения на 0"
   ]
  },
  {
   "cell_type": "markdown",
   "metadata": {},
   "source": [
    "**Данные о подаче сыпучих материалов (время)**"
   ]
  },
  {
   "cell_type": "code",
   "execution_count": 10,
   "metadata": {},
   "outputs": [
    {
     "data": {
      "text/html": [
       "<div>\n",
       "<style scoped>\n",
       "    .dataframe tbody tr th:only-of-type {\n",
       "        vertical-align: middle;\n",
       "    }\n",
       "\n",
       "    .dataframe tbody tr th {\n",
       "        vertical-align: top;\n",
       "    }\n",
       "\n",
       "    .dataframe thead th {\n",
       "        text-align: right;\n",
       "    }\n",
       "</style>\n",
       "<table border=\"1\" class=\"dataframe\">\n",
       "  <thead>\n",
       "    <tr style=\"text-align: right;\">\n",
       "      <th></th>\n",
       "      <th>key</th>\n",
       "      <th>Bulk 1</th>\n",
       "      <th>Bulk 2</th>\n",
       "      <th>Bulk 3</th>\n",
       "      <th>Bulk 4</th>\n",
       "      <th>Bulk 5</th>\n",
       "      <th>Bulk 6</th>\n",
       "      <th>Bulk 7</th>\n",
       "      <th>Bulk 8</th>\n",
       "      <th>Bulk 9</th>\n",
       "      <th>Bulk 10</th>\n",
       "      <th>Bulk 11</th>\n",
       "      <th>Bulk 12</th>\n",
       "      <th>Bulk 13</th>\n",
       "      <th>Bulk 14</th>\n",
       "      <th>Bulk 15</th>\n",
       "    </tr>\n",
       "  </thead>\n",
       "  <tbody>\n",
       "    <tr>\n",
       "      <td>0</td>\n",
       "      <td>1</td>\n",
       "      <td>NaN</td>\n",
       "      <td>NaN</td>\n",
       "      <td>NaN</td>\n",
       "      <td>2019-05-03 11:21:30</td>\n",
       "      <td>NaN</td>\n",
       "      <td>NaN</td>\n",
       "      <td>NaN</td>\n",
       "      <td>NaN</td>\n",
       "      <td>NaN</td>\n",
       "      <td>NaN</td>\n",
       "      <td>NaN</td>\n",
       "      <td>2019-05-03 11:03:52</td>\n",
       "      <td>NaN</td>\n",
       "      <td>2019-05-03 11:03:52</td>\n",
       "      <td>2019-05-03 11:03:52</td>\n",
       "    </tr>\n",
       "    <tr>\n",
       "      <td>1</td>\n",
       "      <td>2</td>\n",
       "      <td>NaN</td>\n",
       "      <td>NaN</td>\n",
       "      <td>NaN</td>\n",
       "      <td>2019-05-03 11:46:38</td>\n",
       "      <td>NaN</td>\n",
       "      <td>NaN</td>\n",
       "      <td>NaN</td>\n",
       "      <td>NaN</td>\n",
       "      <td>NaN</td>\n",
       "      <td>NaN</td>\n",
       "      <td>NaN</td>\n",
       "      <td>2019-05-03 11:40:20</td>\n",
       "      <td>NaN</td>\n",
       "      <td>2019-05-03 11:40:20</td>\n",
       "      <td>2019-05-03 11:40:20</td>\n",
       "    </tr>\n",
       "    <tr>\n",
       "      <td>2</td>\n",
       "      <td>3</td>\n",
       "      <td>NaN</td>\n",
       "      <td>NaN</td>\n",
       "      <td>NaN</td>\n",
       "      <td>2019-05-03 12:31:06</td>\n",
       "      <td>NaN</td>\n",
       "      <td>NaN</td>\n",
       "      <td>NaN</td>\n",
       "      <td>NaN</td>\n",
       "      <td>NaN</td>\n",
       "      <td>NaN</td>\n",
       "      <td>NaN</td>\n",
       "      <td>2019-05-03 12:09:40</td>\n",
       "      <td>NaN</td>\n",
       "      <td>2019-05-03 12:09:40</td>\n",
       "      <td>2019-05-03 12:09:40</td>\n",
       "    </tr>\n",
       "    <tr>\n",
       "      <td>3</td>\n",
       "      <td>4</td>\n",
       "      <td>NaN</td>\n",
       "      <td>NaN</td>\n",
       "      <td>NaN</td>\n",
       "      <td>2019-05-03 12:48:43</td>\n",
       "      <td>NaN</td>\n",
       "      <td>NaN</td>\n",
       "      <td>NaN</td>\n",
       "      <td>NaN</td>\n",
       "      <td>NaN</td>\n",
       "      <td>NaN</td>\n",
       "      <td>NaN</td>\n",
       "      <td>2019-05-03 12:41:24</td>\n",
       "      <td>NaN</td>\n",
       "      <td>2019-05-03 12:41:24</td>\n",
       "      <td>2019-05-03 12:41:24</td>\n",
       "    </tr>\n",
       "    <tr>\n",
       "      <td>4</td>\n",
       "      <td>5</td>\n",
       "      <td>NaN</td>\n",
       "      <td>NaN</td>\n",
       "      <td>NaN</td>\n",
       "      <td>2019-05-03 13:18:50</td>\n",
       "      <td>NaN</td>\n",
       "      <td>NaN</td>\n",
       "      <td>NaN</td>\n",
       "      <td>NaN</td>\n",
       "      <td>NaN</td>\n",
       "      <td>NaN</td>\n",
       "      <td>NaN</td>\n",
       "      <td>2019-05-03 13:12:56</td>\n",
       "      <td>NaN</td>\n",
       "      <td>2019-05-03 13:12:56</td>\n",
       "      <td>2019-05-03 13:12:56</td>\n",
       "    </tr>\n",
       "  </tbody>\n",
       "</table>\n",
       "</div>"
      ],
      "text/plain": [
       "   key Bulk 1 Bulk 2 Bulk 3               Bulk 4 Bulk 5 Bulk 6 Bulk 7 Bulk 8  \\\n",
       "0    1    NaN    NaN    NaN  2019-05-03 11:21:30    NaN    NaN    NaN    NaN   \n",
       "1    2    NaN    NaN    NaN  2019-05-03 11:46:38    NaN    NaN    NaN    NaN   \n",
       "2    3    NaN    NaN    NaN  2019-05-03 12:31:06    NaN    NaN    NaN    NaN   \n",
       "3    4    NaN    NaN    NaN  2019-05-03 12:48:43    NaN    NaN    NaN    NaN   \n",
       "4    5    NaN    NaN    NaN  2019-05-03 13:18:50    NaN    NaN    NaN    NaN   \n",
       "\n",
       "  Bulk 9 Bulk 10 Bulk 11              Bulk 12 Bulk 13              Bulk 14  \\\n",
       "0    NaN     NaN     NaN  2019-05-03 11:03:52     NaN  2019-05-03 11:03:52   \n",
       "1    NaN     NaN     NaN  2019-05-03 11:40:20     NaN  2019-05-03 11:40:20   \n",
       "2    NaN     NaN     NaN  2019-05-03 12:09:40     NaN  2019-05-03 12:09:40   \n",
       "3    NaN     NaN     NaN  2019-05-03 12:41:24     NaN  2019-05-03 12:41:24   \n",
       "4    NaN     NaN     NaN  2019-05-03 13:12:56     NaN  2019-05-03 13:12:56   \n",
       "\n",
       "               Bulk 15  \n",
       "0  2019-05-03 11:03:52  \n",
       "1  2019-05-03 11:40:20  \n",
       "2  2019-05-03 12:09:40  \n",
       "3  2019-05-03 12:41:24  \n",
       "4  2019-05-03 13:12:56  "
      ]
     },
     "metadata": {},
     "output_type": "display_data"
    },
    {
     "data": {
      "text/html": [
       "<div>\n",
       "<style scoped>\n",
       "    .dataframe tbody tr th:only-of-type {\n",
       "        vertical-align: middle;\n",
       "    }\n",
       "\n",
       "    .dataframe tbody tr th {\n",
       "        vertical-align: top;\n",
       "    }\n",
       "\n",
       "    .dataframe thead th {\n",
       "        text-align: right;\n",
       "    }\n",
       "</style>\n",
       "<table border=\"1\" class=\"dataframe\">\n",
       "  <thead>\n",
       "    <tr style=\"text-align: right;\">\n",
       "      <th></th>\n",
       "      <th>key</th>\n",
       "      <th>Bulk 1</th>\n",
       "      <th>Bulk 2</th>\n",
       "      <th>Bulk 3</th>\n",
       "      <th>Bulk 4</th>\n",
       "      <th>Bulk 5</th>\n",
       "      <th>Bulk 6</th>\n",
       "      <th>Bulk 7</th>\n",
       "      <th>Bulk 8</th>\n",
       "      <th>Bulk 9</th>\n",
       "      <th>Bulk 10</th>\n",
       "      <th>Bulk 11</th>\n",
       "      <th>Bulk 12</th>\n",
       "      <th>Bulk 13</th>\n",
       "      <th>Bulk 14</th>\n",
       "      <th>Bulk 15</th>\n",
       "    </tr>\n",
       "  </thead>\n",
       "  <tbody>\n",
       "    <tr>\n",
       "      <td>3124</td>\n",
       "      <td>3237</td>\n",
       "      <td>NaN</td>\n",
       "      <td>NaN</td>\n",
       "      <td>2019-08-31 22:51:28</td>\n",
       "      <td>NaN</td>\n",
       "      <td>NaN</td>\n",
       "      <td>NaN</td>\n",
       "      <td>NaN</td>\n",
       "      <td>NaN</td>\n",
       "      <td>NaN</td>\n",
       "      <td>NaN</td>\n",
       "      <td>NaN</td>\n",
       "      <td>2019-08-31 22:46:52</td>\n",
       "      <td>NaN</td>\n",
       "      <td>2019-08-31 22:46:52</td>\n",
       "      <td>2019-08-31 22:46:52</td>\n",
       "    </tr>\n",
       "    <tr>\n",
       "      <td>3125</td>\n",
       "      <td>3238</td>\n",
       "      <td>NaN</td>\n",
       "      <td>NaN</td>\n",
       "      <td>2019-08-31 23:39:11</td>\n",
       "      <td>NaN</td>\n",
       "      <td>NaN</td>\n",
       "      <td>NaN</td>\n",
       "      <td>NaN</td>\n",
       "      <td>NaN</td>\n",
       "      <td>NaN</td>\n",
       "      <td>NaN</td>\n",
       "      <td>NaN</td>\n",
       "      <td>2019-08-31 23:33:09</td>\n",
       "      <td>NaN</td>\n",
       "      <td>2019-08-31 23:33:09</td>\n",
       "      <td>2019-08-31 23:33:09</td>\n",
       "    </tr>\n",
       "    <tr>\n",
       "      <td>3126</td>\n",
       "      <td>3239</td>\n",
       "      <td>NaN</td>\n",
       "      <td>NaN</td>\n",
       "      <td>NaN</td>\n",
       "      <td>NaN</td>\n",
       "      <td>NaN</td>\n",
       "      <td>2019-09-01 01:51:58</td>\n",
       "      <td>NaN</td>\n",
       "      <td>NaN</td>\n",
       "      <td>NaN</td>\n",
       "      <td>NaN</td>\n",
       "      <td>NaN</td>\n",
       "      <td>2019-09-01 01:39:41</td>\n",
       "      <td>NaN</td>\n",
       "      <td>2019-09-01 01:33:25</td>\n",
       "      <td>2019-09-01 01:33:25</td>\n",
       "    </tr>\n",
       "    <tr>\n",
       "      <td>3127</td>\n",
       "      <td>3240</td>\n",
       "      <td>NaN</td>\n",
       "      <td>NaN</td>\n",
       "      <td>NaN</td>\n",
       "      <td>NaN</td>\n",
       "      <td>NaN</td>\n",
       "      <td>2019-09-01 03:12:40</td>\n",
       "      <td>NaN</td>\n",
       "      <td>NaN</td>\n",
       "      <td>NaN</td>\n",
       "      <td>NaN</td>\n",
       "      <td>NaN</td>\n",
       "      <td>NaN</td>\n",
       "      <td>NaN</td>\n",
       "      <td>2019-09-01 02:41:27</td>\n",
       "      <td>2019-09-01 02:41:27</td>\n",
       "    </tr>\n",
       "    <tr>\n",
       "      <td>3128</td>\n",
       "      <td>3241</td>\n",
       "      <td>NaN</td>\n",
       "      <td>NaN</td>\n",
       "      <td>NaN</td>\n",
       "      <td>NaN</td>\n",
       "      <td>NaN</td>\n",
       "      <td>NaN</td>\n",
       "      <td>NaN</td>\n",
       "      <td>NaN</td>\n",
       "      <td>NaN</td>\n",
       "      <td>NaN</td>\n",
       "      <td>NaN</td>\n",
       "      <td>NaN</td>\n",
       "      <td>NaN</td>\n",
       "      <td>2019-09-01 04:05:34</td>\n",
       "      <td>2019-09-01 04:05:34</td>\n",
       "    </tr>\n",
       "  </tbody>\n",
       "</table>\n",
       "</div>"
      ],
      "text/plain": [
       "       key Bulk 1 Bulk 2               Bulk 3 Bulk 4 Bulk 5  \\\n",
       "3124  3237    NaN    NaN  2019-08-31 22:51:28    NaN    NaN   \n",
       "3125  3238    NaN    NaN  2019-08-31 23:39:11    NaN    NaN   \n",
       "3126  3239    NaN    NaN                  NaN    NaN    NaN   \n",
       "3127  3240    NaN    NaN                  NaN    NaN    NaN   \n",
       "3128  3241    NaN    NaN                  NaN    NaN    NaN   \n",
       "\n",
       "                   Bulk 6 Bulk 7 Bulk 8 Bulk 9 Bulk 10 Bulk 11  \\\n",
       "3124                  NaN    NaN    NaN    NaN     NaN     NaN   \n",
       "3125                  NaN    NaN    NaN    NaN     NaN     NaN   \n",
       "3126  2019-09-01 01:51:58    NaN    NaN    NaN     NaN     NaN   \n",
       "3127  2019-09-01 03:12:40    NaN    NaN    NaN     NaN     NaN   \n",
       "3128                  NaN    NaN    NaN    NaN     NaN     NaN   \n",
       "\n",
       "                  Bulk 12 Bulk 13              Bulk 14              Bulk 15  \n",
       "3124  2019-08-31 22:46:52     NaN  2019-08-31 22:46:52  2019-08-31 22:46:52  \n",
       "3125  2019-08-31 23:33:09     NaN  2019-08-31 23:33:09  2019-08-31 23:33:09  \n",
       "3126  2019-09-01 01:39:41     NaN  2019-09-01 01:33:25  2019-09-01 01:33:25  \n",
       "3127                  NaN     NaN  2019-09-01 02:41:27  2019-09-01 02:41:27  \n",
       "3128                  NaN     NaN  2019-09-01 04:05:34  2019-09-01 04:05:34  "
      ]
     },
     "metadata": {},
     "output_type": "display_data"
    },
    {
     "name": "stdout",
     "output_type": "stream",
     "text": [
      "<class 'pandas.core.frame.DataFrame'>\n",
      "RangeIndex: 3129 entries, 0 to 3128\n",
      "Data columns (total 16 columns):\n",
      "key        3129 non-null int64\n",
      "Bulk 1     252 non-null object\n",
      "Bulk 2     22 non-null object\n",
      "Bulk 3     1298 non-null object\n",
      "Bulk 4     1014 non-null object\n",
      "Bulk 5     77 non-null object\n",
      "Bulk 6     576 non-null object\n",
      "Bulk 7     25 non-null object\n",
      "Bulk 8     1 non-null object\n",
      "Bulk 9     19 non-null object\n",
      "Bulk 10    176 non-null object\n",
      "Bulk 11    177 non-null object\n",
      "Bulk 12    2450 non-null object\n",
      "Bulk 13    18 non-null object\n",
      "Bulk 14    2806 non-null object\n",
      "Bulk 15    2248 non-null object\n",
      "dtypes: int64(1), object(15)\n",
      "memory usage: 391.2+ KB\n",
      "None\n",
      "               key\n",
      "count  3129.000000\n",
      "mean   1624.383509\n",
      "std     933.337642\n",
      "min       1.000000\n",
      "25%     816.000000\n",
      "50%    1622.000000\n",
      "75%    2431.000000\n",
      "max    3241.000000\n"
     ]
    }
   ],
   "source": [
    "check_data(bulk_time)"
   ]
  },
  {
   "cell_type": "markdown",
   "metadata": {},
   "source": [
    "**Данные о продувке сплава газом**"
   ]
  },
  {
   "cell_type": "code",
   "execution_count": 11,
   "metadata": {},
   "outputs": [
    {
     "data": {
      "text/html": [
       "<div>\n",
       "<style scoped>\n",
       "    .dataframe tbody tr th:only-of-type {\n",
       "        vertical-align: middle;\n",
       "    }\n",
       "\n",
       "    .dataframe tbody tr th {\n",
       "        vertical-align: top;\n",
       "    }\n",
       "\n",
       "    .dataframe thead th {\n",
       "        text-align: right;\n",
       "    }\n",
       "</style>\n",
       "<table border=\"1\" class=\"dataframe\">\n",
       "  <thead>\n",
       "    <tr style=\"text-align: right;\">\n",
       "      <th></th>\n",
       "      <th>key</th>\n",
       "      <th>Газ 1</th>\n",
       "    </tr>\n",
       "  </thead>\n",
       "  <tbody>\n",
       "    <tr>\n",
       "      <td>0</td>\n",
       "      <td>1</td>\n",
       "      <td>29.749986</td>\n",
       "    </tr>\n",
       "    <tr>\n",
       "      <td>1</td>\n",
       "      <td>2</td>\n",
       "      <td>12.555561</td>\n",
       "    </tr>\n",
       "    <tr>\n",
       "      <td>2</td>\n",
       "      <td>3</td>\n",
       "      <td>28.554793</td>\n",
       "    </tr>\n",
       "    <tr>\n",
       "      <td>3</td>\n",
       "      <td>4</td>\n",
       "      <td>18.841219</td>\n",
       "    </tr>\n",
       "    <tr>\n",
       "      <td>4</td>\n",
       "      <td>5</td>\n",
       "      <td>5.413692</td>\n",
       "    </tr>\n",
       "  </tbody>\n",
       "</table>\n",
       "</div>"
      ],
      "text/plain": [
       "   key      Газ 1\n",
       "0    1  29.749986\n",
       "1    2  12.555561\n",
       "2    3  28.554793\n",
       "3    4  18.841219\n",
       "4    5   5.413692"
      ]
     },
     "metadata": {},
     "output_type": "display_data"
    },
    {
     "data": {
      "text/html": [
       "<div>\n",
       "<style scoped>\n",
       "    .dataframe tbody tr th:only-of-type {\n",
       "        vertical-align: middle;\n",
       "    }\n",
       "\n",
       "    .dataframe tbody tr th {\n",
       "        vertical-align: top;\n",
       "    }\n",
       "\n",
       "    .dataframe thead th {\n",
       "        text-align: right;\n",
       "    }\n",
       "</style>\n",
       "<table border=\"1\" class=\"dataframe\">\n",
       "  <thead>\n",
       "    <tr style=\"text-align: right;\">\n",
       "      <th></th>\n",
       "      <th>key</th>\n",
       "      <th>Газ 1</th>\n",
       "    </tr>\n",
       "  </thead>\n",
       "  <tbody>\n",
       "    <tr>\n",
       "      <td>3234</td>\n",
       "      <td>3237</td>\n",
       "      <td>5.543905</td>\n",
       "    </tr>\n",
       "    <tr>\n",
       "      <td>3235</td>\n",
       "      <td>3238</td>\n",
       "      <td>6.745669</td>\n",
       "    </tr>\n",
       "    <tr>\n",
       "      <td>3236</td>\n",
       "      <td>3239</td>\n",
       "      <td>16.023518</td>\n",
       "    </tr>\n",
       "    <tr>\n",
       "      <td>3237</td>\n",
       "      <td>3240</td>\n",
       "      <td>11.863103</td>\n",
       "    </tr>\n",
       "    <tr>\n",
       "      <td>3238</td>\n",
       "      <td>3241</td>\n",
       "      <td>12.680959</td>\n",
       "    </tr>\n",
       "  </tbody>\n",
       "</table>\n",
       "</div>"
      ],
      "text/plain": [
       "       key      Газ 1\n",
       "3234  3237   5.543905\n",
       "3235  3238   6.745669\n",
       "3236  3239  16.023518\n",
       "3237  3240  11.863103\n",
       "3238  3241  12.680959"
      ]
     },
     "metadata": {},
     "output_type": "display_data"
    },
    {
     "name": "stdout",
     "output_type": "stream",
     "text": [
      "<class 'pandas.core.frame.DataFrame'>\n",
      "RangeIndex: 3239 entries, 0 to 3238\n",
      "Data columns (total 2 columns):\n",
      "key      3239 non-null int64\n",
      "Газ 1    3239 non-null float64\n",
      "dtypes: float64(1), int64(1)\n",
      "memory usage: 50.7 KB\n",
      "None\n",
      "               key        Газ 1\n",
      "count  3239.000000  3239.000000\n",
      "mean   1621.861377    11.002062\n",
      "std     935.386334     6.220327\n",
      "min       1.000000     0.008399\n",
      "25%     812.500000     7.043089\n",
      "50%    1622.000000     9.836267\n",
      "75%    2431.500000    13.769915\n",
      "max    3241.000000    77.995040\n"
     ]
    }
   ],
   "source": [
    "check_data(gas)"
   ]
  },
  {
   "cell_type": "code",
   "execution_count": 12,
   "metadata": {},
   "outputs": [
    {
     "data": {
      "text/plain": [
       "3239"
      ]
     },
     "execution_count": 12,
     "metadata": {},
     "output_type": "execute_result"
    }
   ],
   "source": [
    "len(gas['key'].unique())"
   ]
  },
  {
   "cell_type": "code",
   "execution_count": 13,
   "metadata": {},
   "outputs": [
    {
     "data": {
      "image/png": "[encoded data removed]",
      "text/plain": [
       "<Figure size 432x288 with 1 Axes>"
      ]
     },
     "metadata": {
      "needs_background": "light"
     },
     "output_type": "display_data"
    }
   ],
   "source": [
    "plt.hist((list(gas['Газ 1'])), bins=20)\n",
    "plt.title('Гистограмма по столбцу Газ 1')\n",
    "plt.show()"
   ]
  },
  {
   "cell_type": "code",
   "execution_count": 14,
   "metadata": {},
   "outputs": [
    {
     "data": {
      "image/png": "[encoded data removed]",
      "text/plain": [
       "<Figure size 432x288 with 1 Axes>"
      ]
     },
     "metadata": {
      "needs_background": "light"
     },
     "output_type": "display_data"
    }
   ],
   "source": [
    "plt.boxplot(gas['Газ 1'])\n",
    "plt.grid(axis='y')\n",
    "plt.title('Boxplot по Газ 1')\n",
    "plt.show()"
   ]
  },
  {
   "cell_type": "markdown",
   "metadata": {},
   "source": [
    "**Заметки**\n",
    "\n",
    "* Объем затраченного газа на каждую партию\n",
    "* Распределение на гистограмме по столбцу Газ 1 выглядит нормальным, пик приходится на 10"
   ]
  },
  {
   "cell_type": "markdown",
   "metadata": {},
   "source": [
    "**Результаты измерения температуры**"
   ]
  },
  {
   "cell_type": "code",
   "execution_count": 15,
   "metadata": {},
   "outputs": [
    {
     "data": {
      "text/html": [
       "<div>\n",
       "<style scoped>\n",
       "    .dataframe tbody tr th:only-of-type {\n",
       "        vertical-align: middle;\n",
       "    }\n",
       "\n",
       "    .dataframe tbody tr th {\n",
       "        vertical-align: top;\n",
       "    }\n",
       "\n",
       "    .dataframe thead th {\n",
       "        text-align: right;\n",
       "    }\n",
       "</style>\n",
       "<table border=\"1\" class=\"dataframe\">\n",
       "  <thead>\n",
       "    <tr style=\"text-align: right;\">\n",
       "      <th></th>\n",
       "      <th>key</th>\n",
       "      <th>Время замера</th>\n",
       "      <th>Температура</th>\n",
       "    </tr>\n",
       "  </thead>\n",
       "  <tbody>\n",
       "    <tr>\n",
       "      <td>0</td>\n",
       "      <td>1</td>\n",
       "      <td>2019-05-03 11:16:18</td>\n",
       "      <td>1571.0</td>\n",
       "    </tr>\n",
       "    <tr>\n",
       "      <td>1</td>\n",
       "      <td>1</td>\n",
       "      <td>2019-05-03 11:25:53</td>\n",
       "      <td>1604.0</td>\n",
       "    </tr>\n",
       "    <tr>\n",
       "      <td>2</td>\n",
       "      <td>1</td>\n",
       "      <td>2019-05-03 11:29:11</td>\n",
       "      <td>1618.0</td>\n",
       "    </tr>\n",
       "    <tr>\n",
       "      <td>3</td>\n",
       "      <td>1</td>\n",
       "      <td>2019-05-03 11:30:01</td>\n",
       "      <td>1601.0</td>\n",
       "    </tr>\n",
       "    <tr>\n",
       "      <td>4</td>\n",
       "      <td>1</td>\n",
       "      <td>2019-05-03 11:30:39</td>\n",
       "      <td>1613.0</td>\n",
       "    </tr>\n",
       "  </tbody>\n",
       "</table>\n",
       "</div>"
      ],
      "text/plain": [
       "   key         Время замера  Температура\n",
       "0    1  2019-05-03 11:16:18       1571.0\n",
       "1    1  2019-05-03 11:25:53       1604.0\n",
       "2    1  2019-05-03 11:29:11       1618.0\n",
       "3    1  2019-05-03 11:30:01       1601.0\n",
       "4    1  2019-05-03 11:30:39       1613.0"
      ]
     },
     "metadata": {},
     "output_type": "display_data"
    },
    {
     "data": {
      "text/html": [
       "<div>\n",
       "<style scoped>\n",
       "    .dataframe tbody tr th:only-of-type {\n",
       "        vertical-align: middle;\n",
       "    }\n",
       "\n",
       "    .dataframe tbody tr th {\n",
       "        vertical-align: top;\n",
       "    }\n",
       "\n",
       "    .dataframe thead th {\n",
       "        text-align: right;\n",
       "    }\n",
       "</style>\n",
       "<table border=\"1\" class=\"dataframe\">\n",
       "  <thead>\n",
       "    <tr style=\"text-align: right;\">\n",
       "      <th></th>\n",
       "      <th>key</th>\n",
       "      <th>Время замера</th>\n",
       "      <th>Температура</th>\n",
       "    </tr>\n",
       "  </thead>\n",
       "  <tbody>\n",
       "    <tr>\n",
       "      <td>15902</td>\n",
       "      <td>3241</td>\n",
       "      <td>2019-09-01 04:03:30</td>\n",
       "      <td>1586.0</td>\n",
       "    </tr>\n",
       "    <tr>\n",
       "      <td>15903</td>\n",
       "      <td>3241</td>\n",
       "      <td>2019-09-01 04:16:12</td>\n",
       "      <td>NaN</td>\n",
       "    </tr>\n",
       "    <tr>\n",
       "      <td>15904</td>\n",
       "      <td>3241</td>\n",
       "      <td>2019-09-01 04:22:39</td>\n",
       "      <td>NaN</td>\n",
       "    </tr>\n",
       "    <tr>\n",
       "      <td>15905</td>\n",
       "      <td>3241</td>\n",
       "      <td>2019-09-01 04:33:42</td>\n",
       "      <td>NaN</td>\n",
       "    </tr>\n",
       "    <tr>\n",
       "      <td>15906</td>\n",
       "      <td>3241</td>\n",
       "      <td>2019-09-01 04:38:08</td>\n",
       "      <td>NaN</td>\n",
       "    </tr>\n",
       "  </tbody>\n",
       "</table>\n",
       "</div>"
      ],
      "text/plain": [
       "        key         Время замера  Температура\n",
       "15902  3241  2019-09-01 04:03:30       1586.0\n",
       "15903  3241  2019-09-01 04:16:12          NaN\n",
       "15904  3241  2019-09-01 04:22:39          NaN\n",
       "15905  3241  2019-09-01 04:33:42          NaN\n",
       "15906  3241  2019-09-01 04:38:08          NaN"
      ]
     },
     "metadata": {},
     "output_type": "display_data"
    },
    {
     "name": "stdout",
     "output_type": "stream",
     "text": [
      "<class 'pandas.core.frame.DataFrame'>\n",
      "RangeIndex: 15907 entries, 0 to 15906\n",
      "Data columns (total 3 columns):\n",
      "key             15907 non-null int64\n",
      "Время замера    15907 non-null object\n",
      "Температура     13006 non-null float64\n",
      "dtypes: float64(1), int64(1), object(1)\n",
      "memory usage: 372.9+ KB\n",
      "None\n",
      "                key   Температура\n",
      "count  15907.000000  13006.000000\n",
      "mean    1607.880870   1591.840920\n",
      "std      942.212073     21.375851\n",
      "min        1.000000   1191.000000\n",
      "25%      790.000000   1581.000000\n",
      "50%     1618.000000   1591.000000\n",
      "75%     2427.000000   1601.000000\n",
      "max     3241.000000   1705.000000\n"
     ]
    }
   ],
   "source": [
    "check_data(temp)"
   ]
  },
  {
   "cell_type": "code",
   "execution_count": 16,
   "metadata": {},
   "outputs": [
    {
     "data": {
      "image/png": "[encoded data removed]",
      "text/plain": [
       "<Figure size 432x288 with 1 Axes>"
      ]
     },
     "metadata": {
      "needs_background": "light"
     },
     "output_type": "display_data"
    }
   ],
   "source": [
    "plt.hist((list(temp['key'].value_counts())), bins=15)\n",
    "plt.title('Гистограмма по столбцу Key')\n",
    "plt.show()"
   ]
  },
  {
   "cell_type": "markdown",
   "metadata": {},
   "source": [
    "Количество итераций варьируется от 1 до 16 для каждой партии"
   ]
  },
  {
   "cell_type": "code",
   "execution_count": 17,
   "metadata": {},
   "outputs": [
    {
     "data": {
      "image/png": "[encoded data removed]",
      "text/plain": [
       "<Figure size 1080x720 with 1 Axes>"
      ]
     },
     "metadata": {
      "needs_background": "light"
     },
     "output_type": "display_data"
    }
   ],
   "source": [
    "plt.figure(figsize=(15,10))\n",
    "sns.boxplot(temp['Температура'])\n",
    "plt.title('Температура', fontsize=15)\n",
    "plt.grid(True)\n",
    "plt.show()"
   ]
  },
  {
   "cell_type": "code",
   "execution_count": 18,
   "metadata": {},
   "outputs": [
    {
     "data": {
      "text/plain": [
       "2901"
      ]
     },
     "execution_count": 18,
     "metadata": {},
     "output_type": "execute_result"
    }
   ],
   "source": [
    "len(temp[temp['Температура'].isnull()])"
   ]
  },
  {
   "cell_type": "code",
   "execution_count": 19,
   "metadata": {},
   "outputs": [
    {
     "data": {
      "text/html": [
       "<div>\n",
       "<style scoped>\n",
       "    .dataframe tbody tr th:only-of-type {\n",
       "        vertical-align: middle;\n",
       "    }\n",
       "\n",
       "    .dataframe tbody tr th {\n",
       "        vertical-align: top;\n",
       "    }\n",
       "\n",
       "    .dataframe thead th {\n",
       "        text-align: right;\n",
       "    }\n",
       "</style>\n",
       "<table border=\"1\" class=\"dataframe\">\n",
       "  <thead>\n",
       "    <tr style=\"text-align: right;\">\n",
       "      <th></th>\n",
       "      <th>key</th>\n",
       "      <th>Время замера</th>\n",
       "      <th>Температура</th>\n",
       "    </tr>\n",
       "  </thead>\n",
       "  <tbody>\n",
       "    <tr>\n",
       "      <td>12268</td>\n",
       "      <td>2500</td>\n",
       "      <td>2019-08-06 03:24:43</td>\n",
       "      <td>NaN</td>\n",
       "    </tr>\n",
       "    <tr>\n",
       "      <td>12269</td>\n",
       "      <td>2500</td>\n",
       "      <td>2019-08-06 03:25:16</td>\n",
       "      <td>NaN</td>\n",
       "    </tr>\n",
       "    <tr>\n",
       "      <td>12270</td>\n",
       "      <td>2500</td>\n",
       "      <td>2019-08-06 03:28:21</td>\n",
       "      <td>NaN</td>\n",
       "    </tr>\n",
       "    <tr>\n",
       "      <td>12272</td>\n",
       "      <td>2501</td>\n",
       "      <td>2019-08-06 04:01:59</td>\n",
       "      <td>NaN</td>\n",
       "    </tr>\n",
       "    <tr>\n",
       "      <td>12273</td>\n",
       "      <td>2501</td>\n",
       "      <td>2019-08-06 04:14:35</td>\n",
       "      <td>NaN</td>\n",
       "    </tr>\n",
       "    <tr>\n",
       "      <td>...</td>\n",
       "      <td>...</td>\n",
       "      <td>...</td>\n",
       "      <td>...</td>\n",
       "    </tr>\n",
       "    <tr>\n",
       "      <td>15901</td>\n",
       "      <td>3240</td>\n",
       "      <td>2019-09-01 03:35:16</td>\n",
       "      <td>NaN</td>\n",
       "    </tr>\n",
       "    <tr>\n",
       "      <td>15903</td>\n",
       "      <td>3241</td>\n",
       "      <td>2019-09-01 04:16:12</td>\n",
       "      <td>NaN</td>\n",
       "    </tr>\n",
       "    <tr>\n",
       "      <td>15904</td>\n",
       "      <td>3241</td>\n",
       "      <td>2019-09-01 04:22:39</td>\n",
       "      <td>NaN</td>\n",
       "    </tr>\n",
       "    <tr>\n",
       "      <td>15905</td>\n",
       "      <td>3241</td>\n",
       "      <td>2019-09-01 04:33:42</td>\n",
       "      <td>NaN</td>\n",
       "    </tr>\n",
       "    <tr>\n",
       "      <td>15906</td>\n",
       "      <td>3241</td>\n",
       "      <td>2019-09-01 04:38:08</td>\n",
       "      <td>NaN</td>\n",
       "    </tr>\n",
       "  </tbody>\n",
       "</table>\n",
       "<p>2901 rows × 3 columns</p>\n",
       "</div>"
      ],
      "text/plain": [
       "        key         Время замера  Температура\n",
       "12268  2500  2019-08-06 03:24:43          NaN\n",
       "12269  2500  2019-08-06 03:25:16          NaN\n",
       "12270  2500  2019-08-06 03:28:21          NaN\n",
       "12272  2501  2019-08-06 04:01:59          NaN\n",
       "12273  2501  2019-08-06 04:14:35          NaN\n",
       "...     ...                  ...          ...\n",
       "15901  3240  2019-09-01 03:35:16          NaN\n",
       "15903  3241  2019-09-01 04:16:12          NaN\n",
       "15904  3241  2019-09-01 04:22:39          NaN\n",
       "15905  3241  2019-09-01 04:33:42          NaN\n",
       "15906  3241  2019-09-01 04:38:08          NaN\n",
       "\n",
       "[2901 rows x 3 columns]"
      ]
     },
     "execution_count": 19,
     "metadata": {},
     "output_type": "execute_result"
    }
   ],
   "source": [
    "temp[temp['Температура'].isnull()]"
   ]
  },
  {
   "cell_type": "markdown",
   "metadata": {},
   "source": [
    "**Заметки**\n",
    "\n",
    "* На каждую партию (key) приходятся несколько температурных замеров\n",
    "* В некоторых партиях отсутствуют замеры температуры"
   ]
  },
  {
   "cell_type": "markdown",
   "metadata": {},
   "source": [
    "**Данные о проволочных материалах (объём)**"
   ]
  },
  {
   "cell_type": "code",
   "execution_count": 20,
   "metadata": {},
   "outputs": [
    {
     "data": {
      "text/html": [
       "<div>\n",
       "<style scoped>\n",
       "    .dataframe tbody tr th:only-of-type {\n",
       "        vertical-align: middle;\n",
       "    }\n",
       "\n",
       "    .dataframe tbody tr th {\n",
       "        vertical-align: top;\n",
       "    }\n",
       "\n",
       "    .dataframe thead th {\n",
       "        text-align: right;\n",
       "    }\n",
       "</style>\n",
       "<table border=\"1\" class=\"dataframe\">\n",
       "  <thead>\n",
       "    <tr style=\"text-align: right;\">\n",
       "      <th></th>\n",
       "      <th>key</th>\n",
       "      <th>Wire 1</th>\n",
       "      <th>Wire 2</th>\n",
       "      <th>Wire 3</th>\n",
       "      <th>Wire 4</th>\n",
       "      <th>Wire 5</th>\n",
       "      <th>Wire 6</th>\n",
       "      <th>Wire 7</th>\n",
       "      <th>Wire 8</th>\n",
       "      <th>Wire 9</th>\n",
       "    </tr>\n",
       "  </thead>\n",
       "  <tbody>\n",
       "    <tr>\n",
       "      <td>0</td>\n",
       "      <td>1</td>\n",
       "      <td>60.059998</td>\n",
       "      <td>NaN</td>\n",
       "      <td>NaN</td>\n",
       "      <td>NaN</td>\n",
       "      <td>NaN</td>\n",
       "      <td>NaN</td>\n",
       "      <td>NaN</td>\n",
       "      <td>NaN</td>\n",
       "      <td>NaN</td>\n",
       "    </tr>\n",
       "    <tr>\n",
       "      <td>1</td>\n",
       "      <td>2</td>\n",
       "      <td>96.052315</td>\n",
       "      <td>NaN</td>\n",
       "      <td>NaN</td>\n",
       "      <td>NaN</td>\n",
       "      <td>NaN</td>\n",
       "      <td>NaN</td>\n",
       "      <td>NaN</td>\n",
       "      <td>NaN</td>\n",
       "      <td>NaN</td>\n",
       "    </tr>\n",
       "    <tr>\n",
       "      <td>2</td>\n",
       "      <td>3</td>\n",
       "      <td>91.160157</td>\n",
       "      <td>NaN</td>\n",
       "      <td>NaN</td>\n",
       "      <td>NaN</td>\n",
       "      <td>NaN</td>\n",
       "      <td>NaN</td>\n",
       "      <td>NaN</td>\n",
       "      <td>NaN</td>\n",
       "      <td>NaN</td>\n",
       "    </tr>\n",
       "    <tr>\n",
       "      <td>3</td>\n",
       "      <td>4</td>\n",
       "      <td>89.063515</td>\n",
       "      <td>NaN</td>\n",
       "      <td>NaN</td>\n",
       "      <td>NaN</td>\n",
       "      <td>NaN</td>\n",
       "      <td>NaN</td>\n",
       "      <td>NaN</td>\n",
       "      <td>NaN</td>\n",
       "      <td>NaN</td>\n",
       "    </tr>\n",
       "    <tr>\n",
       "      <td>4</td>\n",
       "      <td>5</td>\n",
       "      <td>89.238236</td>\n",
       "      <td>9.11456</td>\n",
       "      <td>NaN</td>\n",
       "      <td>NaN</td>\n",
       "      <td>NaN</td>\n",
       "      <td>NaN</td>\n",
       "      <td>NaN</td>\n",
       "      <td>NaN</td>\n",
       "      <td>NaN</td>\n",
       "    </tr>\n",
       "  </tbody>\n",
       "</table>\n",
       "</div>"
      ],
      "text/plain": [
       "   key     Wire 1   Wire 2  Wire 3  Wire 4  Wire 5  Wire 6  Wire 7  Wire 8  \\\n",
       "0    1  60.059998      NaN     NaN     NaN     NaN     NaN     NaN     NaN   \n",
       "1    2  96.052315      NaN     NaN     NaN     NaN     NaN     NaN     NaN   \n",
       "2    3  91.160157      NaN     NaN     NaN     NaN     NaN     NaN     NaN   \n",
       "3    4  89.063515      NaN     NaN     NaN     NaN     NaN     NaN     NaN   \n",
       "4    5  89.238236  9.11456     NaN     NaN     NaN     NaN     NaN     NaN   \n",
       "\n",
       "   Wire 9  \n",
       "0     NaN  \n",
       "1     NaN  \n",
       "2     NaN  \n",
       "3     NaN  \n",
       "4     NaN  "
      ]
     },
     "metadata": {},
     "output_type": "display_data"
    },
    {
     "data": {
      "text/html": [
       "<div>\n",
       "<style scoped>\n",
       "    .dataframe tbody tr th:only-of-type {\n",
       "        vertical-align: middle;\n",
       "    }\n",
       "\n",
       "    .dataframe tbody tr th {\n",
       "        vertical-align: top;\n",
       "    }\n",
       "\n",
       "    .dataframe thead th {\n",
       "        text-align: right;\n",
       "    }\n",
       "</style>\n",
       "<table border=\"1\" class=\"dataframe\">\n",
       "  <thead>\n",
       "    <tr style=\"text-align: right;\">\n",
       "      <th></th>\n",
       "      <th>key</th>\n",
       "      <th>Wire 1</th>\n",
       "      <th>Wire 2</th>\n",
       "      <th>Wire 3</th>\n",
       "      <th>Wire 4</th>\n",
       "      <th>Wire 5</th>\n",
       "      <th>Wire 6</th>\n",
       "      <th>Wire 7</th>\n",
       "      <th>Wire 8</th>\n",
       "      <th>Wire 9</th>\n",
       "    </tr>\n",
       "  </thead>\n",
       "  <tbody>\n",
       "    <tr>\n",
       "      <td>3076</td>\n",
       "      <td>3237</td>\n",
       "      <td>38.088959</td>\n",
       "      <td>NaN</td>\n",
       "      <td>NaN</td>\n",
       "      <td>NaN</td>\n",
       "      <td>NaN</td>\n",
       "      <td>NaN</td>\n",
       "      <td>NaN</td>\n",
       "      <td>NaN</td>\n",
       "      <td>NaN</td>\n",
       "    </tr>\n",
       "    <tr>\n",
       "      <td>3077</td>\n",
       "      <td>3238</td>\n",
       "      <td>56.128799</td>\n",
       "      <td>NaN</td>\n",
       "      <td>NaN</td>\n",
       "      <td>NaN</td>\n",
       "      <td>NaN</td>\n",
       "      <td>NaN</td>\n",
       "      <td>NaN</td>\n",
       "      <td>NaN</td>\n",
       "      <td>NaN</td>\n",
       "    </tr>\n",
       "    <tr>\n",
       "      <td>3078</td>\n",
       "      <td>3239</td>\n",
       "      <td>143.357761</td>\n",
       "      <td>NaN</td>\n",
       "      <td>NaN</td>\n",
       "      <td>NaN</td>\n",
       "      <td>NaN</td>\n",
       "      <td>NaN</td>\n",
       "      <td>NaN</td>\n",
       "      <td>NaN</td>\n",
       "      <td>NaN</td>\n",
       "    </tr>\n",
       "    <tr>\n",
       "      <td>3079</td>\n",
       "      <td>3240</td>\n",
       "      <td>34.070400</td>\n",
       "      <td>NaN</td>\n",
       "      <td>NaN</td>\n",
       "      <td>NaN</td>\n",
       "      <td>NaN</td>\n",
       "      <td>NaN</td>\n",
       "      <td>NaN</td>\n",
       "      <td>NaN</td>\n",
       "      <td>NaN</td>\n",
       "    </tr>\n",
       "    <tr>\n",
       "      <td>3080</td>\n",
       "      <td>3241</td>\n",
       "      <td>63.117595</td>\n",
       "      <td>NaN</td>\n",
       "      <td>NaN</td>\n",
       "      <td>NaN</td>\n",
       "      <td>NaN</td>\n",
       "      <td>NaN</td>\n",
       "      <td>NaN</td>\n",
       "      <td>NaN</td>\n",
       "      <td>NaN</td>\n",
       "    </tr>\n",
       "  </tbody>\n",
       "</table>\n",
       "</div>"
      ],
      "text/plain": [
       "       key      Wire 1  Wire 2  Wire 3  Wire 4  Wire 5  Wire 6  Wire 7  \\\n",
       "3076  3237   38.088959     NaN     NaN     NaN     NaN     NaN     NaN   \n",
       "3077  3238   56.128799     NaN     NaN     NaN     NaN     NaN     NaN   \n",
       "3078  3239  143.357761     NaN     NaN     NaN     NaN     NaN     NaN   \n",
       "3079  3240   34.070400     NaN     NaN     NaN     NaN     NaN     NaN   \n",
       "3080  3241   63.117595     NaN     NaN     NaN     NaN     NaN     NaN   \n",
       "\n",
       "      Wire 8  Wire 9  \n",
       "3076     NaN     NaN  \n",
       "3077     NaN     NaN  \n",
       "3078     NaN     NaN  \n",
       "3079     NaN     NaN  \n",
       "3080     NaN     NaN  "
      ]
     },
     "metadata": {},
     "output_type": "display_data"
    },
    {
     "name": "stdout",
     "output_type": "stream",
     "text": [
      "<class 'pandas.core.frame.DataFrame'>\n",
      "RangeIndex: 3081 entries, 0 to 3080\n",
      "Data columns (total 10 columns):\n",
      "key       3081 non-null int64\n",
      "Wire 1    3055 non-null float64\n",
      "Wire 2    1079 non-null float64\n",
      "Wire 3    63 non-null float64\n",
      "Wire 4    14 non-null float64\n",
      "Wire 5    1 non-null float64\n",
      "Wire 6    73 non-null float64\n",
      "Wire 7    11 non-null float64\n",
      "Wire 8    19 non-null float64\n",
      "Wire 9    29 non-null float64\n",
      "dtypes: float64(9), int64(1)\n",
      "memory usage: 240.8 KB\n",
      "None\n",
      "               key       Wire 1       Wire 2      Wire 3      Wire 4  Wire 5  \\\n",
      "count  3081.000000  3055.000000  1079.000000   63.000000   14.000000   1.000   \n",
      "mean   1623.426485   100.895853    50.577323  189.482681   57.442841  15.132   \n",
      "std     932.996726    42.012518    39.320216   99.513444   28.824667     NaN   \n",
      "min       1.000000     1.918800     0.030160    0.144144   24.148801  15.132   \n",
      "25%     823.000000    72.115684    20.193680   95.135044   40.807002  15.132   \n",
      "50%    1619.000000   100.158234    40.142956  235.194977   45.234282  15.132   \n",
      "75%    2434.000000   126.060484    70.227558  276.252014   76.124619  15.132   \n",
      "max    3241.000000   330.314424   282.780152  385.008668  113.231044  15.132   \n",
      "\n",
      "           Wire 6     Wire 7      Wire 8     Wire 9  \n",
      "count   73.000000  11.000000   19.000000  29.000000  \n",
      "mean    48.016974  10.039007   53.625193  34.155752  \n",
      "std     33.919845   8.610584   16.881728  19.931616  \n",
      "min      0.034320   0.234208   45.076721   4.622800  \n",
      "25%     25.053600   6.762756   46.094879  22.058401  \n",
      "50%     42.076324   9.017009   46.279999  30.066399  \n",
      "75%     64.212723  11.886057   48.089603  43.862003  \n",
      "max    180.454575  32.847674  102.762401  90.053604  \n"
     ]
    }
   ],
   "source": [
    "check_data(wire)"
   ]
  },
  {
   "cell_type": "markdown",
   "metadata": {},
   "source": [
    "**Заметки**\n",
    "\n",
    "* Большое количество пропусков обусловлены спецификой производства\n",
    "* Заменить пропуски на 0"
   ]
  },
  {
   "cell_type": "markdown",
   "metadata": {},
   "source": [
    "**Данные о проволочных материалах (время)**"
   ]
  },
  {
   "cell_type": "code",
   "execution_count": 21,
   "metadata": {},
   "outputs": [
    {
     "data": {
      "text/html": [
       "<div>\n",
       "<style scoped>\n",
       "    .dataframe tbody tr th:only-of-type {\n",
       "        vertical-align: middle;\n",
       "    }\n",
       "\n",
       "    .dataframe tbody tr th {\n",
       "        vertical-align: top;\n",
       "    }\n",
       "\n",
       "    .dataframe thead th {\n",
       "        text-align: right;\n",
       "    }\n",
       "</style>\n",
       "<table border=\"1\" class=\"dataframe\">\n",
       "  <thead>\n",
       "    <tr style=\"text-align: right;\">\n",
       "      <th></th>\n",
       "      <th>key</th>\n",
       "      <th>Wire 1</th>\n",
       "      <th>Wire 2</th>\n",
       "      <th>Wire 3</th>\n",
       "      <th>Wire 4</th>\n",
       "      <th>Wire 5</th>\n",
       "      <th>Wire 6</th>\n",
       "      <th>Wire 7</th>\n",
       "      <th>Wire 8</th>\n",
       "      <th>Wire 9</th>\n",
       "    </tr>\n",
       "  </thead>\n",
       "  <tbody>\n",
       "    <tr>\n",
       "      <td>0</td>\n",
       "      <td>1</td>\n",
       "      <td>2019-05-03 11:11:41</td>\n",
       "      <td>NaN</td>\n",
       "      <td>NaN</td>\n",
       "      <td>NaN</td>\n",
       "      <td>NaN</td>\n",
       "      <td>NaN</td>\n",
       "      <td>NaN</td>\n",
       "      <td>NaN</td>\n",
       "      <td>NaN</td>\n",
       "    </tr>\n",
       "    <tr>\n",
       "      <td>1</td>\n",
       "      <td>2</td>\n",
       "      <td>2019-05-03 11:46:10</td>\n",
       "      <td>NaN</td>\n",
       "      <td>NaN</td>\n",
       "      <td>NaN</td>\n",
       "      <td>NaN</td>\n",
       "      <td>NaN</td>\n",
       "      <td>NaN</td>\n",
       "      <td>NaN</td>\n",
       "      <td>NaN</td>\n",
       "    </tr>\n",
       "    <tr>\n",
       "      <td>2</td>\n",
       "      <td>3</td>\n",
       "      <td>2019-05-03 12:13:47</td>\n",
       "      <td>NaN</td>\n",
       "      <td>NaN</td>\n",
       "      <td>NaN</td>\n",
       "      <td>NaN</td>\n",
       "      <td>NaN</td>\n",
       "      <td>NaN</td>\n",
       "      <td>NaN</td>\n",
       "      <td>NaN</td>\n",
       "    </tr>\n",
       "    <tr>\n",
       "      <td>3</td>\n",
       "      <td>4</td>\n",
       "      <td>2019-05-03 12:48:05</td>\n",
       "      <td>NaN</td>\n",
       "      <td>NaN</td>\n",
       "      <td>NaN</td>\n",
       "      <td>NaN</td>\n",
       "      <td>NaN</td>\n",
       "      <td>NaN</td>\n",
       "      <td>NaN</td>\n",
       "      <td>NaN</td>\n",
       "    </tr>\n",
       "    <tr>\n",
       "      <td>4</td>\n",
       "      <td>5</td>\n",
       "      <td>2019-05-03 13:18:15</td>\n",
       "      <td>2019-05-03 13:32:06</td>\n",
       "      <td>NaN</td>\n",
       "      <td>NaN</td>\n",
       "      <td>NaN</td>\n",
       "      <td>NaN</td>\n",
       "      <td>NaN</td>\n",
       "      <td>NaN</td>\n",
       "      <td>NaN</td>\n",
       "    </tr>\n",
       "  </tbody>\n",
       "</table>\n",
       "</div>"
      ],
      "text/plain": [
       "   key               Wire 1               Wire 2 Wire 3 Wire 4 Wire 5 Wire 6  \\\n",
       "0    1  2019-05-03 11:11:41                  NaN    NaN    NaN    NaN    NaN   \n",
       "1    2  2019-05-03 11:46:10                  NaN    NaN    NaN    NaN    NaN   \n",
       "2    3  2019-05-03 12:13:47                  NaN    NaN    NaN    NaN    NaN   \n",
       "3    4  2019-05-03 12:48:05                  NaN    NaN    NaN    NaN    NaN   \n",
       "4    5  2019-05-03 13:18:15  2019-05-03 13:32:06    NaN    NaN    NaN    NaN   \n",
       "\n",
       "  Wire 7 Wire 8 Wire 9  \n",
       "0    NaN    NaN    NaN  \n",
       "1    NaN    NaN    NaN  \n",
       "2    NaN    NaN    NaN  \n",
       "3    NaN    NaN    NaN  \n",
       "4    NaN    NaN    NaN  "
      ]
     },
     "metadata": {},
     "output_type": "display_data"
    },
    {
     "data": {
      "text/html": [
       "<div>\n",
       "<style scoped>\n",
       "    .dataframe tbody tr th:only-of-type {\n",
       "        vertical-align: middle;\n",
       "    }\n",
       "\n",
       "    .dataframe tbody tr th {\n",
       "        vertical-align: top;\n",
       "    }\n",
       "\n",
       "    .dataframe thead th {\n",
       "        text-align: right;\n",
       "    }\n",
       "</style>\n",
       "<table border=\"1\" class=\"dataframe\">\n",
       "  <thead>\n",
       "    <tr style=\"text-align: right;\">\n",
       "      <th></th>\n",
       "      <th>key</th>\n",
       "      <th>Wire 1</th>\n",
       "      <th>Wire 2</th>\n",
       "      <th>Wire 3</th>\n",
       "      <th>Wire 4</th>\n",
       "      <th>Wire 5</th>\n",
       "      <th>Wire 6</th>\n",
       "      <th>Wire 7</th>\n",
       "      <th>Wire 8</th>\n",
       "      <th>Wire 9</th>\n",
       "    </tr>\n",
       "  </thead>\n",
       "  <tbody>\n",
       "    <tr>\n",
       "      <td>3076</td>\n",
       "      <td>3237</td>\n",
       "      <td>2019-08-31 22:50:20</td>\n",
       "      <td>NaN</td>\n",
       "      <td>NaN</td>\n",
       "      <td>NaN</td>\n",
       "      <td>NaN</td>\n",
       "      <td>NaN</td>\n",
       "      <td>NaN</td>\n",
       "      <td>NaN</td>\n",
       "      <td>NaN</td>\n",
       "    </tr>\n",
       "    <tr>\n",
       "      <td>3077</td>\n",
       "      <td>3238</td>\n",
       "      <td>2019-08-31 23:38:24</td>\n",
       "      <td>NaN</td>\n",
       "      <td>NaN</td>\n",
       "      <td>NaN</td>\n",
       "      <td>NaN</td>\n",
       "      <td>NaN</td>\n",
       "      <td>NaN</td>\n",
       "      <td>NaN</td>\n",
       "      <td>NaN</td>\n",
       "    </tr>\n",
       "    <tr>\n",
       "      <td>3078</td>\n",
       "      <td>3239</td>\n",
       "      <td>2019-09-01 01:50:43</td>\n",
       "      <td>NaN</td>\n",
       "      <td>NaN</td>\n",
       "      <td>NaN</td>\n",
       "      <td>NaN</td>\n",
       "      <td>NaN</td>\n",
       "      <td>NaN</td>\n",
       "      <td>NaN</td>\n",
       "      <td>NaN</td>\n",
       "    </tr>\n",
       "    <tr>\n",
       "      <td>3079</td>\n",
       "      <td>3240</td>\n",
       "      <td>2019-09-01 03:12:02</td>\n",
       "      <td>NaN</td>\n",
       "      <td>NaN</td>\n",
       "      <td>NaN</td>\n",
       "      <td>NaN</td>\n",
       "      <td>NaN</td>\n",
       "      <td>NaN</td>\n",
       "      <td>NaN</td>\n",
       "      <td>NaN</td>\n",
       "    </tr>\n",
       "    <tr>\n",
       "      <td>3080</td>\n",
       "      <td>3241</td>\n",
       "      <td>2019-09-01 04:16:01</td>\n",
       "      <td>NaN</td>\n",
       "      <td>NaN</td>\n",
       "      <td>NaN</td>\n",
       "      <td>NaN</td>\n",
       "      <td>NaN</td>\n",
       "      <td>NaN</td>\n",
       "      <td>NaN</td>\n",
       "      <td>NaN</td>\n",
       "    </tr>\n",
       "  </tbody>\n",
       "</table>\n",
       "</div>"
      ],
      "text/plain": [
       "       key               Wire 1 Wire 2 Wire 3 Wire 4 Wire 5 Wire 6 Wire 7  \\\n",
       "3076  3237  2019-08-31 22:50:20    NaN    NaN    NaN    NaN    NaN    NaN   \n",
       "3077  3238  2019-08-31 23:38:24    NaN    NaN    NaN    NaN    NaN    NaN   \n",
       "3078  3239  2019-09-01 01:50:43    NaN    NaN    NaN    NaN    NaN    NaN   \n",
       "3079  3240  2019-09-01 03:12:02    NaN    NaN    NaN    NaN    NaN    NaN   \n",
       "3080  3241  2019-09-01 04:16:01    NaN    NaN    NaN    NaN    NaN    NaN   \n",
       "\n",
       "     Wire 8 Wire 9  \n",
       "3076    NaN    NaN  \n",
       "3077    NaN    NaN  \n",
       "3078    NaN    NaN  \n",
       "3079    NaN    NaN  \n",
       "3080    NaN    NaN  "
      ]
     },
     "metadata": {},
     "output_type": "display_data"
    },
    {
     "name": "stdout",
     "output_type": "stream",
     "text": [
      "<class 'pandas.core.frame.DataFrame'>\n",
      "RangeIndex: 3081 entries, 0 to 3080\n",
      "Data columns (total 10 columns):\n",
      "key       3081 non-null int64\n",
      "Wire 1    3055 non-null object\n",
      "Wire 2    1079 non-null object\n",
      "Wire 3    63 non-null object\n",
      "Wire 4    14 non-null object\n",
      "Wire 5    1 non-null object\n",
      "Wire 6    73 non-null object\n",
      "Wire 7    11 non-null object\n",
      "Wire 8    19 non-null object\n",
      "Wire 9    29 non-null object\n",
      "dtypes: int64(1), object(9)\n",
      "memory usage: 240.8+ KB\n",
      "None\n",
      "               key\n",
      "count  3081.000000\n",
      "mean   1623.426485\n",
      "std     932.996726\n",
      "min       1.000000\n",
      "25%     823.000000\n",
      "50%    1619.000000\n",
      "75%    2434.000000\n",
      "max    3241.000000\n"
     ]
    }
   ],
   "source": [
    "check_data(wire_time)"
   ]
  },
  {
   "cell_type": "markdown",
   "metadata": {},
   "source": [
    "**Заметки**\n",
    "\n",
    "* Изменим тип данных на datetime\n",
    "* Множественные пропуски обусловлены спецификой производства"
   ]
  },
  {
   "cell_type": "markdown",
   "metadata": {},
   "source": [
    "Нам необходимо проделать следующие шаги:\n",
    "\n",
    "1. Предобработка данных:\n",
    "    * Некоторые датасеты имеют множественные пропуски. Причиной их появления - особенность технологического производства\n",
    "    * Убрать данные, где замер температуры меньше двух\n",
    "    * Данные, отображающие дату и время нужно перевести в datetime\n",
    "    * Необходимо создать новые признаки (такие как Полная мощность и Продолжительность нагрева)\n",
    "    * Объединить датасеты в один по столбцу key\n",
    "    \n",
    "    \n",
    "2. Обучение модели:\n",
    "    * Масштабировать количественные признаки\n",
    "    * Деление датасета на выборки: обучающаю, тестовую и валидационную\n",
    "    * Создание и тестирование моделей. Выбрать лучшую модель\n",
    "    \n",
    "    \n",
    "3. Написать вывод"
   ]
  },
  {
   "cell_type": "markdown",
   "metadata": {},
   "source": [
    "## 2. Предобработка данных"
   ]
  },
  {
   "cell_type": "markdown",
   "metadata": {},
   "source": [
    "Так как у партий после 2499 известна только одна температура, мы уберем партии ниже 2500 (key)"
   ]
  },
  {
   "cell_type": "code",
   "execution_count": 3,
   "metadata": {},
   "outputs": [],
   "source": [
    "temp =  temp.query('key < 2500')\n",
    "arc = arc.query('key < 2500')\n",
    "bulk = bulk.query('key < 2500')\n",
    "wire = wire.query('key < 2500')"
   ]
  },
  {
   "cell_type": "code",
   "execution_count": 4,
   "metadata": {},
   "outputs": [],
   "source": [
    "arc = arc[arc['Реактивная мощность'] > 0]\n",
    "arc['Начало нагрева дугой'] = pd.to_datetime(arc['Начало нагрева дугой'])\n",
    "arc['Конец нагрева дугой'] = pd.to_datetime(arc['Конец нагрева дугой'])\n",
    "arc['Продолжительность нагрева дугой в сек'] = (arc['Конец нагрева дугой'] - arc['Начало нагрева дугой']) // pd.Timedelta('1s')\n",
    "arc['Полная мощность'] = np.sqrt(arc['Активная мощность']**2 + arc['Реактивная мощность']**2)"
   ]
  },
  {
   "cell_type": "code",
   "execution_count": 5,
   "metadata": {},
   "outputs": [],
   "source": [
    "arc_count = arc['key'].value_counts().sort_index().sort_index().reset_index()\n",
    "arc_count = arc_count.rename(columns={'index': 'key',\n",
    "                          'key': 'Количество запусков нагрева'})\n",
    "arc = arc.groupby(by = 'key', as_index=False).sum()\n",
    "arc = arc.merge(arc_count, how='left', on='key')"
   ]
  },
  {
   "cell_type": "markdown",
   "metadata": {},
   "source": [
    "Проверим признаки на мультиколлинеарность"
   ]
  },
  {
   "cell_type": "code",
   "execution_count": 6,
   "metadata": {},
   "outputs": [
    {
     "data": {
      "text/html": [
       "<div>\n",
       "<style scoped>\n",
       "    .dataframe tbody tr th:only-of-type {\n",
       "        vertical-align: middle;\n",
       "    }\n",
       "\n",
       "    .dataframe tbody tr th {\n",
       "        vertical-align: top;\n",
       "    }\n",
       "\n",
       "    .dataframe thead th {\n",
       "        text-align: right;\n",
       "    }\n",
       "</style>\n",
       "<table border=\"1\" class=\"dataframe\">\n",
       "  <thead>\n",
       "    <tr style=\"text-align: right;\">\n",
       "      <th></th>\n",
       "      <th>Активная мощность</th>\n",
       "      <th>Реактивная мощность</th>\n",
       "      <th>Продолжительность нагрева дугой в сек</th>\n",
       "      <th>Полная мощность</th>\n",
       "      <th>Количество запусков нагрева</th>\n",
       "    </tr>\n",
       "  </thead>\n",
       "  <tbody>\n",
       "    <tr>\n",
       "      <td>Активная мощность</td>\n",
       "      <td>1.000000</td>\n",
       "      <td>0.959727</td>\n",
       "      <td>0.978192</td>\n",
       "      <td>0.993677</td>\n",
       "      <td>0.754205</td>\n",
       "    </tr>\n",
       "    <tr>\n",
       "      <td>Реактивная мощность</td>\n",
       "      <td>0.959727</td>\n",
       "      <td>1.000000</td>\n",
       "      <td>0.966462</td>\n",
       "      <td>0.985069</td>\n",
       "      <td>0.751501</td>\n",
       "    </tr>\n",
       "    <tr>\n",
       "      <td>Продолжительность нагрева дугой в сек</td>\n",
       "      <td>0.978192</td>\n",
       "      <td>0.966462</td>\n",
       "      <td>1.000000</td>\n",
       "      <td>0.982899</td>\n",
       "      <td>0.795958</td>\n",
       "    </tr>\n",
       "    <tr>\n",
       "      <td>Полная мощность</td>\n",
       "      <td>0.993677</td>\n",
       "      <td>0.985069</td>\n",
       "      <td>0.982899</td>\n",
       "      <td>1.000000</td>\n",
       "      <td>0.760402</td>\n",
       "    </tr>\n",
       "    <tr>\n",
       "      <td>Количество запусков нагрева</td>\n",
       "      <td>0.754205</td>\n",
       "      <td>0.751501</td>\n",
       "      <td>0.795958</td>\n",
       "      <td>0.760402</td>\n",
       "      <td>1.000000</td>\n",
       "    </tr>\n",
       "  </tbody>\n",
       "</table>\n",
       "</div>"
      ],
      "text/plain": [
       "                                       Активная мощность  Реактивная мощность  \\\n",
       "Активная мощность                               1.000000             0.959727   \n",
       "Реактивная мощность                             0.959727             1.000000   \n",
       "Продолжительность нагрева дугой в сек           0.978192             0.966462   \n",
       "Полная мощность                                 0.993677             0.985069   \n",
       "Количество запусков нагрева                     0.754205             0.751501   \n",
       "\n",
       "                                       Продолжительность нагрева дугой в сек  \\\n",
       "Активная мощность                                                   0.978192   \n",
       "Реактивная мощность                                                 0.966462   \n",
       "Продолжительность нагрева дугой в сек                               1.000000   \n",
       "Полная мощность                                                     0.982899   \n",
       "Количество запусков нагрева                                         0.795958   \n",
       "\n",
       "                                       Полная мощность  \\\n",
       "Активная мощность                             0.993677   \n",
       "Реактивная мощность                           0.985069   \n",
       "Продолжительность нагрева дугой в сек         0.982899   \n",
       "Полная мощность                               1.000000   \n",
       "Количество запусков нагрева                   0.760402   \n",
       "\n",
       "                                       Количество запусков нагрева  \n",
       "Активная мощность                                         0.754205  \n",
       "Реактивная мощность                                       0.751501  \n",
       "Продолжительность нагрева дугой в сек                     0.795958  \n",
       "Полная мощность                                           0.760402  \n",
       "Количество запусков нагрева                               1.000000  "
      ]
     },
     "metadata": {},
     "output_type": "display_data"
    }
   ],
   "source": [
    "display(arc[['Активная мощность', 'Реактивная мощность',\n",
    "       'Продолжительность нагрева дугой в сек', 'Полная мощность',\n",
    "       'Количество запусков нагрева']].corr())"
   ]
  },
  {
   "cell_type": "markdown",
   "metadata": {},
   "source": [
    "Как видно по таблице, между собой коррелируют такие столбцы как: Активная мощность и Реактивная мощность, Продолжительность нагрева дугой в сек\tи Полная мощность (Активная мощность и Реактивная мощность). \n",
    "\n",
    "Их высокая корреляция может привести к переобучению моделей, так что их нужно убрать и оставить Полную мощность"
   ]
  },
  {
   "cell_type": "code",
   "execution_count": 7,
   "metadata": {},
   "outputs": [],
   "source": [
    "arc = arc[['key', 'Полная мощность', 'Количество запусков нагрева']]"
   ]
  },
  {
   "cell_type": "code",
   "execution_count": 8,
   "metadata": {},
   "outputs": [
    {
     "data": {
      "text/plain": [
       "Index(['key', 'Полная мощность', 'Количество запусков нагрева'], dtype='object')"
      ]
     },
     "execution_count": 8,
     "metadata": {},
     "output_type": "execute_result"
    }
   ],
   "source": [
    "arc.columns"
   ]
  },
  {
   "cell_type": "code",
   "execution_count": 9,
   "metadata": {},
   "outputs": [],
   "source": [
    "temp = temp.groupby(by = 'key').agg(['first', 'last']).reset_index()\n",
    "temp.columns = temp.columns.droplevel()\n",
    "temp.columns = ['key', 'Замер 1', 'Замер 2', 'Температура 1', 'Температура 2']\n",
    "temp = temp[['key', 'Температура 1', 'Температура 2']]"
   ]
  },
  {
   "cell_type": "code",
   "execution_count": 10,
   "metadata": {},
   "outputs": [],
   "source": [
    "df = (arc.merge(temp, how='left', on='key')\n",
    "         .merge(wire, how='left', on='key')\n",
    "         .merge(bulk, how='left', on='key')\n",
    "         .merge(gas, how='left', on='key'))"
   ]
  },
  {
   "cell_type": "code",
   "execution_count": 11,
   "metadata": {},
   "outputs": [],
   "source": [
    "df = df.drop(['key'], axis = 1)\n",
    "df = df.fillna(0)"
   ]
  },
  {
   "cell_type": "markdown",
   "metadata": {},
   "source": [
    "Сменим имена с русского на английский для модели LGBMRegressor"
   ]
  },
  {
   "cell_type": "code",
   "execution_count": 13,
   "metadata": {},
   "outputs": [],
   "source": [
    "df = df.rename(columns={'Температура 1': 'Temp 1',\n",
    "                        'Температура 2': 'Temp 2',\n",
    "                        'Полная мощность': 'Full power',\n",
    "                        'Количество запусков нагрева':'Number of heating',\n",
    "                        'Газ 1': 'Gas'})"
   ]
  },
  {
   "cell_type": "code",
   "execution_count": 14,
   "metadata": {},
   "outputs": [
    {
     "data": {
      "text/plain": [
       "Index(['Full power', 'Number of heating', 'Temp 1', 'Temp 2', 'Wire 1',\n",
       "       'Wire 2', 'Wire 3', 'Wire 4', 'Wire 5', 'Wire 6', 'Wire 7', 'Wire 8',\n",
       "       'Wire 9', 'Bulk 1', 'Bulk 2', 'Bulk 3', 'Bulk 4', 'Bulk 5', 'Bulk 6',\n",
       "       'Bulk 7', 'Bulk 8', 'Bulk 9', 'Bulk 10', 'Bulk 11', 'Bulk 12',\n",
       "       'Bulk 13', 'Bulk 14', 'Bulk 15', 'Gas'],\n",
       "      dtype='object')"
      ]
     },
     "execution_count": 14,
     "metadata": {},
     "output_type": "execute_result"
    }
   ],
   "source": [
    "df.columns"
   ]
  },
  {
   "cell_type": "markdown",
   "metadata": {},
   "source": [
    "Делим данные на выборки"
   ]
  },
  {
   "cell_type": "code",
   "execution_count": 15,
   "metadata": {},
   "outputs": [],
   "source": [
    "X, y = train_test_split(df, test_size = .25, random_state = RND)"
   ]
  },
  {
   "cell_type": "markdown",
   "metadata": {},
   "source": [
    "Промасштабируем признаки"
   ]
  },
  {
   "cell_type": "code",
   "execution_count": 16,
   "metadata": {},
   "outputs": [],
   "source": [
    "numeric = df.columns.tolist()\n",
    "numeric = [i for i in numeric if i not in ('Temp 2')]\n",
    "scaler = MinMaxScaler()\n",
    "scaler.fit(X[numeric])\n",
    "\n",
    "X[numeric] = scaler.transform(X[numeric])\n",
    "y[numeric] = scaler.transform(y[numeric])"
   ]
  },
  {
   "cell_type": "code",
   "execution_count": 17,
   "metadata": {},
   "outputs": [],
   "source": [
    "X_train = X.drop(['Temp 2'], axis = 1)\n",
    "y_train = X['Temp 2']\n",
    "\n",
    "X_test = y.drop(['Temp 2'], axis = 1)\n",
    "y_test = y['Temp 2']"
   ]
  },
  {
   "cell_type": "markdown",
   "metadata": {},
   "source": [
    "**Linear Regression**"
   ]
  },
  {
   "cell_type": "code",
   "execution_count": 18,
   "metadata": {},
   "outputs": [
    {
     "name": "stdout",
     "output_type": "stream",
     "text": [
      "{'fit_intercept': True, 'normalize': False}\n",
      "MAE on test:  8.180387799986294\n",
      "CPU times: user 804 ms, sys: 2.21 s, total: 3.02 s\n",
      "Wall time: 2.97 s\n"
     ]
    }
   ],
   "source": [
    "%%time\n",
    "param_lr_grid = {'fit_intercept':[True, False], \n",
    "                 'normalize':[True, False]}\n",
    "\n",
    "grid_lr = GridSearchCV(LinearRegression(), \n",
    "                       param_lr_grid, \n",
    "                       cv=5,\n",
    "                       scoring='neg_mean_absolute_error')\n",
    "\n",
    "grid_lr.fit(X_train, y_train)\n",
    "params_lr = grid_lr.best_params_\n",
    "lr = LinearRegression(**params_lr)\n",
    "lr.fit(X_train, y_train)\n",
    "pred_test = lr.predict(X_test)\n",
    "print(params_lr)\n",
    "print(\"MAE on test: \", mean_absolute_error(y_test, pred_test))"
   ]
  },
  {
   "cell_type": "code",
   "execution_count": 19,
   "metadata": {},
   "outputs": [
    {
     "data": {
      "text/plain": [
       "Text(0.5, 0, 'Linear Regression feature importance')"
      ]
     },
     "execution_count": 19,
     "metadata": {},
     "output_type": "execute_result"
    },
    {
     "data": {
      "image/png": "[encoded data removed]",
      "text/plain": [
       "<Figure size 1080x720 with 1 Axes>"
      ]
     },
     "metadata": {
      "needs_background": "light"
     },
     "output_type": "display_data"
    }
   ],
   "source": [
    "fig, ax = plt.subplots(figsize=(15,10))\n",
    "sorted_idx = lr.coef_.argsort()\n",
    "plt.barh(X_test.columns.values[sorted_idx], lr.coef_[sorted_idx])\n",
    "plt.xlabel(\"Linear Regression feature importance\")"
   ]
  },
  {
   "cell_type": "markdown",
   "metadata": {},
   "source": [
    "**Random Forest**"
   ]
  },
  {
   "cell_type": "code",
   "execution_count": 20,
   "metadata": {},
   "outputs": [
    {
     "name": "stdout",
     "output_type": "stream",
     "text": [
      "{'max_depth': 6, 'max_features': 'auto', 'min_samples_split': 2, 'n_estimators': 100}\n",
      "MAE on test:  6.722866031044739\n",
      "CPU times: user 9min 13s, sys: 2.48 s, total: 9min 15s\n",
      "Wall time: 9min 20s\n"
     ]
    }
   ],
   "source": [
    "%%time\n",
    "param_rf_grid = {'n_estimators': [100, 300, 500], \n",
    "                 'max_depth': [2, 4, 6], \n",
    "                 'min_samples_split': [2, 5, 8], \n",
    "                 'max_features': ['auto', 'sqrt', 'log2', None],\n",
    "#                'random_state' : [12345]\n",
    "                }\n",
    "\n",
    "grid_rf = GridSearchCV(RandomForestRegressor(random_state=RND), \n",
    "                       param_rf_grid, \n",
    "                       cv=5,\n",
    "                       scoring='neg_mean_absolute_error')\n",
    "grid_rf.fit(X_train, y_train)\n",
    "params_rf = grid_rf.best_params_\n",
    "rf = RandomForestRegressor(**params_rf, random_state=RND)\n",
    "rf.fit(X_train, y_train)\n",
    "pred_test = rf.predict(X_test)\n",
    "print(params_rf)\n",
    "print(\"MAE on test: \", mean_absolute_error(y_test, pred_test))"
   ]
  },
  {
   "cell_type": "code",
   "execution_count": 21,
   "metadata": {},
   "outputs": [
    {
     "data": {
      "text/plain": [
       "Text(0.5, 0, 'Random Forest feature importance')"
      ]
     },
     "execution_count": 21,
     "metadata": {},
     "output_type": "execute_result"
    },
    {
     "data": {
      "image/png": "[encoded data removed]",
      "text/plain": [
       "<Figure size 1080x720 with 1 Axes>"
      ]
     },
     "metadata": {
      "needs_background": "light"
     },
     "output_type": "display_data"
    }
   ],
   "source": [
    "fig, ax = plt.subplots(figsize=(15,10))\n",
    "sorted_idx = rf.feature_importances_.argsort()\n",
    "plt.barh(X_test.columns.values[sorted_idx], rf.feature_importances_[sorted_idx])\n",
    "plt.xlabel(\"Random Forest feature importance\")"
   ]
  },
  {
   "cell_type": "markdown",
   "metadata": {},
   "source": [
    "**LGBMRegressor**"
   ]
  },
  {
   "cell_type": "code",
   "execution_count": 25,
   "metadata": {},
   "outputs": [
    {
     "name": "stdout",
     "output_type": "stream",
     "text": [
      "{'boosting_type': 'gbdt', 'learning_rate': 0.03, 'max_depth': 3, 'n_estimators': 500}\n",
      "MAE on test:  6.270732244216889\n",
      "CPU times: user 46min 9s, sys: 17.9 s, total: 46min 27s\n",
      "Wall time: 46min 41s\n"
     ]
    }
   ],
   "source": [
    "%%time\n",
    "param_lgbm_grid = {'boosting_type' : ['gbdt'],\n",
    "                  'n_estimators': [500], \n",
    "                  'learning_rate': [0.01, 0.03, 0.1, 0.2],\n",
    "                  'max_depth': [3, 5, 7],\n",
    "#                  'random_state' : [12345]\n",
    "                  }\n",
    "\n",
    "grid_lgbm = GridSearchCV(LGBMRegressor(random_state=RND), \n",
    "                        param_lgbm_grid, \n",
    "                        cv=5, \n",
    "                        scoring='neg_mean_absolute_error'\n",
    "                       ) \n",
    "grid_lgbm.fit(X_train, y_train)\n",
    "params_lgbm = grid_lgbm.best_params_\n",
    "lgbm = LGBMRegressor(**params_lgb)\n",
    "lgbm.fit(X_train, y_train)\n",
    "pred_test = lgbm.predict(X_test) \n",
    "print(params_lgbm)\n",
    "print(\"MAE on test: \", mean_absolute_error(y_test, pred_test))"
   ]
  },
  {
   "cell_type": "code",
   "execution_count": 26,
   "metadata": {},
   "outputs": [
    {
     "data": {
      "text/plain": [
       "array([533, 136, 500, 335, 134,   7,   0,   0,  27,   0,   0,   0, 103,\n",
       "         0,  81,  48,  28, 113,   0,   0,   0,  12,  60, 145,   0, 254,\n",
       "        72, 218], dtype=int32)"
      ]
     },
     "execution_count": 26,
     "metadata": {},
     "output_type": "execute_result"
    }
   ],
   "source": [
    "lgbm.feature_importances_"
   ]
  },
  {
   "cell_type": "code",
   "execution_count": 27,
   "metadata": {},
   "outputs": [
    {
     "data": {
      "text/plain": [
       "Text(0.5, 0, 'LGBMRegressor feature importance')"
      ]
     },
     "execution_count": 27,
     "metadata": {},
     "output_type": "execute_result"
    },
    {
     "data": {
      "image/png": "[encoded data removed]",
      "text/plain": [
       "<Figure size 1080x720 with 1 Axes>"
      ]
     },
     "metadata": {
      "needs_background": "light"
     },
     "output_type": "display_data"
    }
   ],
   "source": [
    "fig, ax = plt.subplots(figsize=(15,10))\n",
    "sorted_idx = lgbm.feature_importances_.argsort()\n",
    "plt.barh(X_test.columns.values[sorted_idx], lgbm.feature_importances_[sorted_idx])\n",
    "plt.xlabel(\"LGBMRegressor feature importance\")"
   ]
  },
  {
   "cell_type": "code",
   "execution_count": null,
   "metadata": {},
   "outputs": [],
   "source": []
  },
  {
   "cell_type": "markdown",
   "metadata": {},
   "source": [
    " **Вывод**\n",
    " \n",
    "Таким образом мы подготовили данные и обучили модели. Определили важность признаков для каждой модели. С помощью метрики MAE сравнили их эффективность. \n",
    "\n",
    "Лучший результат показала модель LGBMRegressor: MAE on test: 6.27 \n",
    "\n"
   ]
  },
  {
   "cell_type": "markdown",
   "metadata": {},
   "source": [
    "# Итог"
   ]
  },
  {
   "cell_type": "markdown",
   "metadata": {},
   "source": [
    "Мы провели анализ данных и составили план работы:\n",
    "    1. Подготовка и анализ данных\n",
    "    2. Предобработка данных\n",
    "    3. Обучение моделей\n",
    "    4. Вывод\n",
    "\n",
    "\n",
    "1. Первым этапами работы являются:\n",
    "    - Импортировали необходимые библиотеки\n",
    "    - Загрузили датасеты\n",
    "    - Провели первичный осмотр каждого датасета\n",
    "    - Определяли пропуски и дубликаты\n",
    "    - Проверили данные на аномальность\n",
    "\n",
    "\n",
    "2. Следуя плану, предобработали данные, а именно:\n",
    "    - Заполнили пропуски\n",
    "    - Изменили формат данных в некоторых столбцах\n",
    "    - Убрали объекты, не имеющие достаточно признаков для изучения\n",
    "    - Проверили признаки на мультиколлиниарность\n",
    "    - Масштабировали количественные признаки \n",
    "\n",
    "\n",
    "3. Затем, подготовили датасет для обучения:\n",
    "    - Определили целевой признак\n",
    "    - Поделили датасет на выборки: Обучающаю и тестовую\n",
    "    - Выбрали 3 модели для работы: Linear Regression, Random Forest, LGBMRegression\n",
    "    - Обучили каждую модель и предсказали на тестовой выборке\n",
    "    - Сравнили результаты по метрике MAE\n",
    "    - Определили важность признаков для каждой модели\n",
    "\n",
    "\n",
    "4. Последний этап:\n",
    "    - Определили лучшую модель и результат метрики (LGBMRegressor МАЕ: 6.27)\n",
    "    - Написали вывод"
   ]
  }
 ],
 "metadata": {
  "kernelspec": {
   "display_name": "Python 3",
   "language": "python",
   "name": "python3"
  },
  "language_info": {
   "codemirror_mode": {
    "name": "ipython",
    "version": 3
   },
   "file_extension": ".py",
   "mimetype": "text/x-python",
   "name": "python",
   "nbconvert_exporter": "python",
   "pygments_lexer": "ipython3",
   "version": "3.7.6"
  }
 },
 "nbformat": 4,
 "nbformat_minor": 2
}
