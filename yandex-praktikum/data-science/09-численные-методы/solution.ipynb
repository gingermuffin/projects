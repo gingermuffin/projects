{
 "cells": [
  {
   "cell_type": "markdown",
   "metadata": {},
   "source": [
    "Сервис по продаже автомобилей с пробегом «Не бит, не крашен» разрабатывает приложение для привлечения новых клиентов. В нём можно быстро узнать рыночную стоимость своего автомобиля. В вашем распоряжении исторические данные: технические характеристики, комплектации и цены автомобилей. Вам нужно построить модель для определения стоимости. \n",
    "\n",
    "Заказчику важны:\n",
    "\n",
    "- качество предсказания;\n",
    "- скорость предсказания;\n",
    "- время обучения."
   ]
  },
  {
   "cell_type": "markdown",
   "metadata": {},
   "source": [
    "# 1. Подготовка данных"
   ]
  },
  {
   "cell_type": "code",
   "execution_count": 1,
   "metadata": {},
   "outputs": [],
   "source": [
    "import pandas as pd \n",
    "import numpy as np \n",
    "import matplotlib.pyplot as plt\n",
    "import seaborn as sns\n",
    "\n",
    "import time \n",
    "\n",
    "from sklearn.metrics import mean_squared_error as mse \n",
    "from sklearn.model_selection import train_test_split, GridSearchCV\n",
    "from sklearn.preprocessing import LabelEncoder, StandardScaler\n",
    "\n",
    "from catboost import CatBoostRegressor \n",
    "from lightgbm import LGBMRegressor\n",
    "from xgboost import XGBRegressor\n",
    "\n",
    "RND = 12345"
   ]
  },
  {
   "cell_type": "code",
   "execution_count": 2,
   "metadata": {},
   "outputs": [],
   "source": [
    "df = pd.read_csv('https://code.s3.yandex.net/datasets/autos.csv')\n",
    "\n",
    "new_columns = df.columns.str.lower()\n",
    "df.set_axis(new_columns, axis = 'columns', inplace = True)"
   ]
  },
  {
   "cell_type": "markdown",
   "metadata": {},
   "source": [
    "Выгрузили данные и изменили названия столбцов в нижний регистр для удобства"
   ]
  },
  {
   "cell_type": "code",
   "execution_count": 3,
   "metadata": {},
   "outputs": [],
   "source": [
    "def first_check(dataset):\n",
    "    print(dataset.info())\n",
    "    display(dataset.head())\n",
    "    display(dataset.tail())\n",
    "    display(df.describe())\n",
    "    display(df.describe(include=['object', 'bool']))\n",
    "    print('Duplicates: ', dataset.duplicated().sum())"
   ]
  },
  {
   "cell_type": "code",
   "execution_count": 4,
   "metadata": {},
   "outputs": [
    {
     "name": "stdout",
     "output_type": "stream",
     "text": [
      "<class 'pandas.core.frame.DataFrame'>\n",
      "RangeIndex: 354369 entries, 0 to 354368\n",
      "Data columns (total 16 columns):\n",
      "datecrawled          354369 non-null object\n",
      "price                354369 non-null int64\n",
      "vehicletype          316879 non-null object\n",
      "registrationyear     354369 non-null int64\n",
      "gearbox              334536 non-null object\n",
      "power                354369 non-null int64\n",
      "model                334664 non-null object\n",
      "kilometer            354369 non-null int64\n",
      "registrationmonth    354369 non-null int64\n",
      "fueltype             321474 non-null object\n",
      "brand                354369 non-null object\n",
      "notrepaired          283215 non-null object\n",
      "datecreated          354369 non-null object\n",
      "numberofpictures     354369 non-null int64\n",
      "postalcode           354369 non-null int64\n",
      "lastseen             354369 non-null object\n",
      "dtypes: int64(7), object(9)\n",
      "memory usage: 43.3+ MB\n",
      "None\n"
     ]
    },
    {
     "data": {
      "text/html": [
       "<div>\n",
       "<style scoped>\n",
       "    .dataframe tbody tr th:only-of-type {\n",
       "        vertical-align: middle;\n",
       "    }\n",
       "\n",
       "    .dataframe tbody tr th {\n",
       "        vertical-align: top;\n",
       "    }\n",
       "\n",
       "    .dataframe thead th {\n",
       "        text-align: right;\n",
       "    }\n",
       "</style>\n",
       "<table border=\"1\" class=\"dataframe\">\n",
       "  <thead>\n",
       "    <tr style=\"text-align: right;\">\n",
       "      <th></th>\n",
       "      <th>datecrawled</th>\n",
       "      <th>price</th>\n",
       "      <th>vehicletype</th>\n",
       "      <th>registrationyear</th>\n",
       "      <th>gearbox</th>\n",
       "      <th>power</th>\n",
       "      <th>model</th>\n",
       "      <th>kilometer</th>\n",
       "      <th>registrationmonth</th>\n",
       "      <th>fueltype</th>\n",
       "      <th>brand</th>\n",
       "      <th>notrepaired</th>\n",
       "      <th>datecreated</th>\n",
       "      <th>numberofpictures</th>\n",
       "      <th>postalcode</th>\n",
       "      <th>lastseen</th>\n",
       "    </tr>\n",
       "  </thead>\n",
       "  <tbody>\n",
       "    <tr>\n",
       "      <td>0</td>\n",
       "      <td>2016-03-24 11:52:17</td>\n",
       "      <td>480</td>\n",
       "      <td>NaN</td>\n",
       "      <td>1993</td>\n",
       "      <td>manual</td>\n",
       "      <td>0</td>\n",
       "      <td>golf</td>\n",
       "      <td>150000</td>\n",
       "      <td>0</td>\n",
       "      <td>petrol</td>\n",
       "      <td>volkswagen</td>\n",
       "      <td>NaN</td>\n",
       "      <td>2016-03-24 00:00:00</td>\n",
       "      <td>0</td>\n",
       "      <td>70435</td>\n",
       "      <td>2016-04-07 03:16:57</td>\n",
       "    </tr>\n",
       "    <tr>\n",
       "      <td>1</td>\n",
       "      <td>2016-03-24 10:58:45</td>\n",
       "      <td>18300</td>\n",
       "      <td>coupe</td>\n",
       "      <td>2011</td>\n",
       "      <td>manual</td>\n",
       "      <td>190</td>\n",
       "      <td>NaN</td>\n",
       "      <td>125000</td>\n",
       "      <td>5</td>\n",
       "      <td>gasoline</td>\n",
       "      <td>audi</td>\n",
       "      <td>yes</td>\n",
       "      <td>2016-03-24 00:00:00</td>\n",
       "      <td>0</td>\n",
       "      <td>66954</td>\n",
       "      <td>2016-04-07 01:46:50</td>\n",
       "    </tr>\n",
       "    <tr>\n",
       "      <td>2</td>\n",
       "      <td>2016-03-14 12:52:21</td>\n",
       "      <td>9800</td>\n",
       "      <td>suv</td>\n",
       "      <td>2004</td>\n",
       "      <td>auto</td>\n",
       "      <td>163</td>\n",
       "      <td>grand</td>\n",
       "      <td>125000</td>\n",
       "      <td>8</td>\n",
       "      <td>gasoline</td>\n",
       "      <td>jeep</td>\n",
       "      <td>NaN</td>\n",
       "      <td>2016-03-14 00:00:00</td>\n",
       "      <td>0</td>\n",
       "      <td>90480</td>\n",
       "      <td>2016-04-05 12:47:46</td>\n",
       "    </tr>\n",
       "    <tr>\n",
       "      <td>3</td>\n",
       "      <td>2016-03-17 16:54:04</td>\n",
       "      <td>1500</td>\n",
       "      <td>small</td>\n",
       "      <td>2001</td>\n",
       "      <td>manual</td>\n",
       "      <td>75</td>\n",
       "      <td>golf</td>\n",
       "      <td>150000</td>\n",
       "      <td>6</td>\n",
       "      <td>petrol</td>\n",
       "      <td>volkswagen</td>\n",
       "      <td>no</td>\n",
       "      <td>2016-03-17 00:00:00</td>\n",
       "      <td>0</td>\n",
       "      <td>91074</td>\n",
       "      <td>2016-03-17 17:40:17</td>\n",
       "    </tr>\n",
       "    <tr>\n",
       "      <td>4</td>\n",
       "      <td>2016-03-31 17:25:20</td>\n",
       "      <td>3600</td>\n",
       "      <td>small</td>\n",
       "      <td>2008</td>\n",
       "      <td>manual</td>\n",
       "      <td>69</td>\n",
       "      <td>fabia</td>\n",
       "      <td>90000</td>\n",
       "      <td>7</td>\n",
       "      <td>gasoline</td>\n",
       "      <td>skoda</td>\n",
       "      <td>no</td>\n",
       "      <td>2016-03-31 00:00:00</td>\n",
       "      <td>0</td>\n",
       "      <td>60437</td>\n",
       "      <td>2016-04-06 10:17:21</td>\n",
       "    </tr>\n",
       "  </tbody>\n",
       "</table>\n",
       "</div>"
      ],
      "text/plain": [
       "           datecrawled  price vehicletype  registrationyear gearbox  power  \\\n",
       "0  2016-03-24 11:52:17    480         NaN              1993  manual      0   \n",
       "1  2016-03-24 10:58:45  18300       coupe              2011  manual    190   \n",
       "2  2016-03-14 12:52:21   9800         suv              2004    auto    163   \n",
       "3  2016-03-17 16:54:04   1500       small              2001  manual     75   \n",
       "4  2016-03-31 17:25:20   3600       small              2008  manual     69   \n",
       "\n",
       "   model  kilometer  registrationmonth  fueltype       brand notrepaired  \\\n",
       "0   golf     150000                  0    petrol  volkswagen         NaN   \n",
       "1    NaN     125000                  5  gasoline        audi         yes   \n",
       "2  grand     125000                  8  gasoline        jeep         NaN   \n",
       "3   golf     150000                  6    petrol  volkswagen          no   \n",
       "4  fabia      90000                  7  gasoline       skoda          no   \n",
       "\n",
       "           datecreated  numberofpictures  postalcode             lastseen  \n",
       "0  2016-03-24 00:00:00                 0       70435  2016-04-07 03:16:57  \n",
       "1  2016-03-24 00:00:00                 0       66954  2016-04-07 01:46:50  \n",
       "2  2016-03-14 00:00:00                 0       90480  2016-04-05 12:47:46  \n",
       "3  2016-03-17 00:00:00                 0       91074  2016-03-17 17:40:17  \n",
       "4  2016-03-31 00:00:00                 0       60437  2016-04-06 10:17:21  "
      ]
     },
     "metadata": {},
     "output_type": "display_data"
    },
    {
     "data": {
      "text/html": [
       "<div>\n",
       "<style scoped>\n",
       "    .dataframe tbody tr th:only-of-type {\n",
       "        vertical-align: middle;\n",
       "    }\n",
       "\n",
       "    .dataframe tbody tr th {\n",
       "        vertical-align: top;\n",
       "    }\n",
       "\n",
       "    .dataframe thead th {\n",
       "        text-align: right;\n",
       "    }\n",
       "</style>\n",
       "<table border=\"1\" class=\"dataframe\">\n",
       "  <thead>\n",
       "    <tr style=\"text-align: right;\">\n",
       "      <th></th>\n",
       "      <th>datecrawled</th>\n",
       "      <th>price</th>\n",
       "      <th>vehicletype</th>\n",
       "      <th>registrationyear</th>\n",
       "      <th>gearbox</th>\n",
       "      <th>power</th>\n",
       "      <th>model</th>\n",
       "      <th>kilometer</th>\n",
       "      <th>registrationmonth</th>\n",
       "      <th>fueltype</th>\n",
       "      <th>brand</th>\n",
       "      <th>notrepaired</th>\n",
       "      <th>datecreated</th>\n",
       "      <th>numberofpictures</th>\n",
       "      <th>postalcode</th>\n",
       "      <th>lastseen</th>\n",
       "    </tr>\n",
       "  </thead>\n",
       "  <tbody>\n",
       "    <tr>\n",
       "      <td>354364</td>\n",
       "      <td>2016-03-21 09:50:58</td>\n",
       "      <td>0</td>\n",
       "      <td>NaN</td>\n",
       "      <td>2005</td>\n",
       "      <td>manual</td>\n",
       "      <td>0</td>\n",
       "      <td>colt</td>\n",
       "      <td>150000</td>\n",
       "      <td>7</td>\n",
       "      <td>petrol</td>\n",
       "      <td>mitsubishi</td>\n",
       "      <td>yes</td>\n",
       "      <td>2016-03-21 00:00:00</td>\n",
       "      <td>0</td>\n",
       "      <td>2694</td>\n",
       "      <td>2016-03-21 10:42:49</td>\n",
       "    </tr>\n",
       "    <tr>\n",
       "      <td>354365</td>\n",
       "      <td>2016-03-14 17:48:27</td>\n",
       "      <td>2200</td>\n",
       "      <td>NaN</td>\n",
       "      <td>2005</td>\n",
       "      <td>NaN</td>\n",
       "      <td>0</td>\n",
       "      <td>NaN</td>\n",
       "      <td>20000</td>\n",
       "      <td>1</td>\n",
       "      <td>NaN</td>\n",
       "      <td>sonstige_autos</td>\n",
       "      <td>NaN</td>\n",
       "      <td>2016-03-14 00:00:00</td>\n",
       "      <td>0</td>\n",
       "      <td>39576</td>\n",
       "      <td>2016-04-06 00:46:52</td>\n",
       "    </tr>\n",
       "    <tr>\n",
       "      <td>354366</td>\n",
       "      <td>2016-03-05 19:56:21</td>\n",
       "      <td>1199</td>\n",
       "      <td>convertible</td>\n",
       "      <td>2000</td>\n",
       "      <td>auto</td>\n",
       "      <td>101</td>\n",
       "      <td>fortwo</td>\n",
       "      <td>125000</td>\n",
       "      <td>3</td>\n",
       "      <td>petrol</td>\n",
       "      <td>smart</td>\n",
       "      <td>no</td>\n",
       "      <td>2016-03-05 00:00:00</td>\n",
       "      <td>0</td>\n",
       "      <td>26135</td>\n",
       "      <td>2016-03-11 18:17:12</td>\n",
       "    </tr>\n",
       "    <tr>\n",
       "      <td>354367</td>\n",
       "      <td>2016-03-19 18:57:12</td>\n",
       "      <td>9200</td>\n",
       "      <td>bus</td>\n",
       "      <td>1996</td>\n",
       "      <td>manual</td>\n",
       "      <td>102</td>\n",
       "      <td>transporter</td>\n",
       "      <td>150000</td>\n",
       "      <td>3</td>\n",
       "      <td>gasoline</td>\n",
       "      <td>volkswagen</td>\n",
       "      <td>no</td>\n",
       "      <td>2016-03-19 00:00:00</td>\n",
       "      <td>0</td>\n",
       "      <td>87439</td>\n",
       "      <td>2016-04-07 07:15:26</td>\n",
       "    </tr>\n",
       "    <tr>\n",
       "      <td>354368</td>\n",
       "      <td>2016-03-20 19:41:08</td>\n",
       "      <td>3400</td>\n",
       "      <td>wagon</td>\n",
       "      <td>2002</td>\n",
       "      <td>manual</td>\n",
       "      <td>100</td>\n",
       "      <td>golf</td>\n",
       "      <td>150000</td>\n",
       "      <td>6</td>\n",
       "      <td>gasoline</td>\n",
       "      <td>volkswagen</td>\n",
       "      <td>NaN</td>\n",
       "      <td>2016-03-20 00:00:00</td>\n",
       "      <td>0</td>\n",
       "      <td>40764</td>\n",
       "      <td>2016-03-24 12:45:21</td>\n",
       "    </tr>\n",
       "  </tbody>\n",
       "</table>\n",
       "</div>"
      ],
      "text/plain": [
       "                datecrawled  price  vehicletype  registrationyear gearbox  \\\n",
       "354364  2016-03-21 09:50:58      0          NaN              2005  manual   \n",
       "354365  2016-03-14 17:48:27   2200          NaN              2005     NaN   \n",
       "354366  2016-03-05 19:56:21   1199  convertible              2000    auto   \n",
       "354367  2016-03-19 18:57:12   9200          bus              1996  manual   \n",
       "354368  2016-03-20 19:41:08   3400        wagon              2002  manual   \n",
       "\n",
       "        power        model  kilometer  registrationmonth  fueltype  \\\n",
       "354364      0         colt     150000                  7    petrol   \n",
       "354365      0          NaN      20000                  1       NaN   \n",
       "354366    101       fortwo     125000                  3    petrol   \n",
       "354367    102  transporter     150000                  3  gasoline   \n",
       "354368    100         golf     150000                  6  gasoline   \n",
       "\n",
       "                 brand notrepaired          datecreated  numberofpictures  \\\n",
       "354364      mitsubishi         yes  2016-03-21 00:00:00                 0   \n",
       "354365  sonstige_autos         NaN  2016-03-14 00:00:00                 0   \n",
       "354366           smart          no  2016-03-05 00:00:00                 0   \n",
       "354367      volkswagen          no  2016-03-19 00:00:00                 0   \n",
       "354368      volkswagen         NaN  2016-03-20 00:00:00                 0   \n",
       "\n",
       "        postalcode             lastseen  \n",
       "354364        2694  2016-03-21 10:42:49  \n",
       "354365       39576  2016-04-06 00:46:52  \n",
       "354366       26135  2016-03-11 18:17:12  \n",
       "354367       87439  2016-04-07 07:15:26  \n",
       "354368       40764  2016-03-24 12:45:21  "
      ]
     },
     "metadata": {},
     "output_type": "display_data"
    },
    {
     "data": {
      "text/html": [
       "<div>\n",
       "<style scoped>\n",
       "    .dataframe tbody tr th:only-of-type {\n",
       "        vertical-align: middle;\n",
       "    }\n",
       "\n",
       "    .dataframe tbody tr th {\n",
       "        vertical-align: top;\n",
       "    }\n",
       "\n",
       "    .dataframe thead th {\n",
       "        text-align: right;\n",
       "    }\n",
       "</style>\n",
       "<table border=\"1\" class=\"dataframe\">\n",
       "  <thead>\n",
       "    <tr style=\"text-align: right;\">\n",
       "      <th></th>\n",
       "      <th>price</th>\n",
       "      <th>registrationyear</th>\n",
       "      <th>power</th>\n",
       "      <th>kilometer</th>\n",
       "      <th>registrationmonth</th>\n",
       "      <th>numberofpictures</th>\n",
       "      <th>postalcode</th>\n",
       "    </tr>\n",
       "  </thead>\n",
       "  <tbody>\n",
       "    <tr>\n",
       "      <td>count</td>\n",
       "      <td>354369.000000</td>\n",
       "      <td>354369.000000</td>\n",
       "      <td>354369.000000</td>\n",
       "      <td>354369.000000</td>\n",
       "      <td>354369.000000</td>\n",
       "      <td>354369.0</td>\n",
       "      <td>354369.000000</td>\n",
       "    </tr>\n",
       "    <tr>\n",
       "      <td>mean</td>\n",
       "      <td>4416.656776</td>\n",
       "      <td>2004.234448</td>\n",
       "      <td>110.094337</td>\n",
       "      <td>128211.172535</td>\n",
       "      <td>5.714645</td>\n",
       "      <td>0.0</td>\n",
       "      <td>50508.689087</td>\n",
       "    </tr>\n",
       "    <tr>\n",
       "      <td>std</td>\n",
       "      <td>4514.158514</td>\n",
       "      <td>90.227958</td>\n",
       "      <td>189.850405</td>\n",
       "      <td>37905.341530</td>\n",
       "      <td>3.726421</td>\n",
       "      <td>0.0</td>\n",
       "      <td>25783.096248</td>\n",
       "    </tr>\n",
       "    <tr>\n",
       "      <td>min</td>\n",
       "      <td>0.000000</td>\n",
       "      <td>1000.000000</td>\n",
       "      <td>0.000000</td>\n",
       "      <td>5000.000000</td>\n",
       "      <td>0.000000</td>\n",
       "      <td>0.0</td>\n",
       "      <td>1067.000000</td>\n",
       "    </tr>\n",
       "    <tr>\n",
       "      <td>25%</td>\n",
       "      <td>1050.000000</td>\n",
       "      <td>1999.000000</td>\n",
       "      <td>69.000000</td>\n",
       "      <td>125000.000000</td>\n",
       "      <td>3.000000</td>\n",
       "      <td>0.0</td>\n",
       "      <td>30165.000000</td>\n",
       "    </tr>\n",
       "    <tr>\n",
       "      <td>50%</td>\n",
       "      <td>2700.000000</td>\n",
       "      <td>2003.000000</td>\n",
       "      <td>105.000000</td>\n",
       "      <td>150000.000000</td>\n",
       "      <td>6.000000</td>\n",
       "      <td>0.0</td>\n",
       "      <td>49413.000000</td>\n",
       "    </tr>\n",
       "    <tr>\n",
       "      <td>75%</td>\n",
       "      <td>6400.000000</td>\n",
       "      <td>2008.000000</td>\n",
       "      <td>143.000000</td>\n",
       "      <td>150000.000000</td>\n",
       "      <td>9.000000</td>\n",
       "      <td>0.0</td>\n",
       "      <td>71083.000000</td>\n",
       "    </tr>\n",
       "    <tr>\n",
       "      <td>max</td>\n",
       "      <td>20000.000000</td>\n",
       "      <td>9999.000000</td>\n",
       "      <td>20000.000000</td>\n",
       "      <td>150000.000000</td>\n",
       "      <td>12.000000</td>\n",
       "      <td>0.0</td>\n",
       "      <td>99998.000000</td>\n",
       "    </tr>\n",
       "  </tbody>\n",
       "</table>\n",
       "</div>"
      ],
      "text/plain": [
       "               price  registrationyear          power      kilometer  \\\n",
       "count  354369.000000     354369.000000  354369.000000  354369.000000   \n",
       "mean     4416.656776       2004.234448     110.094337  128211.172535   \n",
       "std      4514.158514         90.227958     189.850405   37905.341530   \n",
       "min         0.000000       1000.000000       0.000000    5000.000000   \n",
       "25%      1050.000000       1999.000000      69.000000  125000.000000   \n",
       "50%      2700.000000       2003.000000     105.000000  150000.000000   \n",
       "75%      6400.000000       2008.000000     143.000000  150000.000000   \n",
       "max     20000.000000       9999.000000   20000.000000  150000.000000   \n",
       "\n",
       "       registrationmonth  numberofpictures     postalcode  \n",
       "count      354369.000000          354369.0  354369.000000  \n",
       "mean            5.714645               0.0   50508.689087  \n",
       "std             3.726421               0.0   25783.096248  \n",
       "min             0.000000               0.0    1067.000000  \n",
       "25%             3.000000               0.0   30165.000000  \n",
       "50%             6.000000               0.0   49413.000000  \n",
       "75%             9.000000               0.0   71083.000000  \n",
       "max            12.000000               0.0   99998.000000  "
      ]
     },
     "metadata": {},
     "output_type": "display_data"
    },
    {
     "data": {
      "text/html": [
       "<div>\n",
       "<style scoped>\n",
       "    .dataframe tbody tr th:only-of-type {\n",
       "        vertical-align: middle;\n",
       "    }\n",
       "\n",
       "    .dataframe tbody tr th {\n",
       "        vertical-align: top;\n",
       "    }\n",
       "\n",
       "    .dataframe thead th {\n",
       "        text-align: right;\n",
       "    }\n",
       "</style>\n",
       "<table border=\"1\" class=\"dataframe\">\n",
       "  <thead>\n",
       "    <tr style=\"text-align: right;\">\n",
       "      <th></th>\n",
       "      <th>datecrawled</th>\n",
       "      <th>vehicletype</th>\n",
       "      <th>gearbox</th>\n",
       "      <th>model</th>\n",
       "      <th>fueltype</th>\n",
       "      <th>brand</th>\n",
       "      <th>notrepaired</th>\n",
       "      <th>datecreated</th>\n",
       "      <th>lastseen</th>\n",
       "    </tr>\n",
       "  </thead>\n",
       "  <tbody>\n",
       "    <tr>\n",
       "      <td>count</td>\n",
       "      <td>354369</td>\n",
       "      <td>316879</td>\n",
       "      <td>334536</td>\n",
       "      <td>334664</td>\n",
       "      <td>321474</td>\n",
       "      <td>354369</td>\n",
       "      <td>283215</td>\n",
       "      <td>354369</td>\n",
       "      <td>354369</td>\n",
       "    </tr>\n",
       "    <tr>\n",
       "      <td>unique</td>\n",
       "      <td>271174</td>\n",
       "      <td>8</td>\n",
       "      <td>2</td>\n",
       "      <td>250</td>\n",
       "      <td>7</td>\n",
       "      <td>40</td>\n",
       "      <td>2</td>\n",
       "      <td>109</td>\n",
       "      <td>179150</td>\n",
       "    </tr>\n",
       "    <tr>\n",
       "      <td>top</td>\n",
       "      <td>2016-03-24 14:49:47</td>\n",
       "      <td>sedan</td>\n",
       "      <td>manual</td>\n",
       "      <td>golf</td>\n",
       "      <td>petrol</td>\n",
       "      <td>volkswagen</td>\n",
       "      <td>no</td>\n",
       "      <td>2016-04-03 00:00:00</td>\n",
       "      <td>2016-04-06 13:45:54</td>\n",
       "    </tr>\n",
       "    <tr>\n",
       "      <td>freq</td>\n",
       "      <td>7</td>\n",
       "      <td>91457</td>\n",
       "      <td>268251</td>\n",
       "      <td>29232</td>\n",
       "      <td>216352</td>\n",
       "      <td>77013</td>\n",
       "      <td>247161</td>\n",
       "      <td>13719</td>\n",
       "      <td>17</td>\n",
       "    </tr>\n",
       "  </tbody>\n",
       "</table>\n",
       "</div>"
      ],
      "text/plain": [
       "                datecrawled vehicletype gearbox   model fueltype       brand  \\\n",
       "count                354369      316879  334536  334664   321474      354369   \n",
       "unique               271174           8       2     250        7          40   \n",
       "top     2016-03-24 14:49:47       sedan  manual    golf   petrol  volkswagen   \n",
       "freq                      7       91457  268251   29232   216352       77013   \n",
       "\n",
       "       notrepaired          datecreated             lastseen  \n",
       "count       283215               354369               354369  \n",
       "unique           2                  109               179150  \n",
       "top             no  2016-04-03 00:00:00  2016-04-06 13:45:54  \n",
       "freq        247161                13719                   17  "
      ]
     },
     "metadata": {},
     "output_type": "display_data"
    },
    {
     "name": "stdout",
     "output_type": "stream",
     "text": [
      "Duplicates:  4\n"
     ]
    }
   ],
   "source": [
    "first_check(df)"
   ]
  },
  {
   "cell_type": "markdown",
   "metadata": {},
   "source": [
    "**Первичный анализ:**\n",
    "- 354365 строк и 16 столбцов\n",
    "- Присутствуют пропуски\n",
    "- Средняя стоимость авто 2700 евро\n",
    "- Минимальный год регистриции автомобиля 1000, максимальный - 9999. Предлагаю обозначить диапазон в годах, выделенных из процентилей\n",
    "- Макс.значение в мощности автомобиля в лошадинных силах = 20 000. Показатель весьма фантастический. Выберем диапазон из процентилей\n",
    "- Минимальный пробег авто 5000, максимальный - 150000, но при этом много авто имееют максимальный пробег. Возможно просто ограничение ввода данных на сайте\n",
    "- Неправильно выставлены месяцы. Если первый месяц 0, то последний месяц не должен быть 12\n",
    "- Столбец с фото автомобилей. У нас их нет\n",
    "\n",
    "**-------------**\n",
    "\n",
    "- 8 уникальных типов автомобильного кузова\n",
    "- Чаще встречаются авто с ручной коробкой передач\n",
    "- Чаще встречаются автомобиле на бензине\n",
    "- Самый популярный бренд автомо Volkswagen\n",
    "- Много пропусков в столбце о ремонте авто, но чаще встречаютс автомобили без ремонта\n",
    "\n",
    "В датасете присутствуют неинформативные признаки. Предлагаю не тратить на них время и работать в дальнейшем только с нужнами признаками."
   ]
  },
  {
   "cell_type": "markdown",
   "metadata": {},
   "source": [
    "### Анализ и обработка"
   ]
  },
  {
   "cell_type": "markdown",
   "metadata": {},
   "source": [
    "**Категориальные признаки**"
   ]
  },
  {
   "cell_type": "code",
   "execution_count": 5,
   "metadata": {},
   "outputs": [
    {
     "data": {
      "text/plain": [
       "<matplotlib.axes._subplots.AxesSubplot at 0x7fad232e7dd0>"
      ]
     },
     "execution_count": 5,
     "metadata": {},
     "output_type": "execute_result"
    },
    {
     "data": {
      "image/png": "[encoded data removed]",
      "text/plain": [
       "<Figure size 432x288 with 1 Axes>"
      ]
     },
     "metadata": {
      "needs_background": "light"
     },
     "output_type": "display_data"
    }
   ],
   "source": [
    "(df.isna().sum().sort_values(ascending=False) / df.shape[0] * 100).plot(kind='bar')"
   ]
  },
  {
   "cell_type": "markdown",
   "metadata": {},
   "source": [
    " **Объем пропущенных значений составляют: **\n",
    " - 20% в столбце NotRepaired. Скорее всего владельцы пропустили это значения потому что авто прежде не ремонтировалось. Либо просто скрыли информацию, чтобы автомобиль не казался менее привлекательным к покупке\n",
    " - 10% в столбце VehicleType \n",
    " - 9% в столбце FuelType\n",
    " - 5% в столбце GearBox\n",
    " - 5% в столбце Model\n",
    "\n",
    "Остальные столбцы имеют пропуски возможно по причине проблем с выгрузкой данных, так как на эти вопросы может ответить только владельцы автомобилей. Заполним пропуски модами с помощью группировки по другим признакам объектов."
   ]
  },
  {
   "cell_type": "code",
   "execution_count": 6,
   "metadata": {},
   "outputs": [],
   "source": [
    "df['notrepaired'] = df['notrepaired'].fillna('no')"
   ]
  },
  {
   "cell_type": "code",
   "execution_count": 7,
   "metadata": {},
   "outputs": [],
   "source": [
    "def fill_with_mode(column, column1, column2):\n",
    "    df[column] = df.groupby([column1, column2])[column].transform(lambda x: x.fillna((x.mode()[0] if not x.mode().empty else \"Empty\")))"
   ]
  },
  {
   "cell_type": "code",
   "execution_count": 8,
   "metadata": {},
   "outputs": [],
   "source": [
    "fill_with_mode('model', 'brand', 'registrationyear')\n",
    "fill_with_mode('fueltype', 'brand', 'model')\n",
    "fill_with_mode('vehicletype', 'brand', 'model')\n",
    "fill_with_mode('gearbox', 'brand', 'model')"
   ]
  },
  {
   "cell_type": "code",
   "execution_count": 9,
   "metadata": {},
   "outputs": [],
   "source": [
    "filled_columns = ['model', 'gearbox', 'brand', 'vehicletype', 'fueltype']\n",
    "def count_empty_category(column):\n",
    "    print(column, ' : ' ,df[column][df[column] == 'Empty'].count())"
   ]
  },
  {
   "cell_type": "code",
   "execution_count": 10,
   "metadata": {},
   "outputs": [
    {
     "name": "stdout",
     "output_type": "stream",
     "text": [
      "model  :  3442\n",
      "gearbox  :  21\n",
      "brand  :  0\n",
      "vehicletype  :  25\n",
      "fueltype  :  14\n"
     ]
    }
   ],
   "source": [
    "for column in filled_columns:\n",
    "    count_empty_category(column)"
   ]
  },
  {
   "cell_type": "markdown",
   "metadata": {},
   "source": [
    "3442 объекта продажи с неизвестными моделями авто. Предлагаю их переименовать в Other. Остальные показатели малы."
   ]
  },
  {
   "cell_type": "code",
   "execution_count": 11,
   "metadata": {},
   "outputs": [],
   "source": [
    "df['model'] = df['model'].replace('Empty', 'other')"
   ]
  },
  {
   "cell_type": "code",
   "execution_count": 12,
   "metadata": {},
   "outputs": [],
   "source": [
    "def make_plotbar(index, title):\n",
    "    pivot = pd.DataFrame(df.pivot_table(index=index, aggfunc=\"size\").sort_values(ascending=False)).head(10)\n",
    "    pivot.columns = ['count']\n",
    "    plt.figure(figsize=(12,6))\n",
    "    plt.title(title)\n",
    "    sns.barplot(x='count', y=pivot.index, data=pivot)"
   ]
  },
  {
   "cell_type": "code",
   "execution_count": 13,
   "metadata": {},
   "outputs": [
    {
     "data": {
      "image/png": "[encoded data removed]",
      "text/plain": [
       "<Figure size 864x432 with 1 Axes>"
      ]
     },
     "metadata": {
      "needs_background": "light"
     },
     "output_type": "display_data"
    }
   ],
   "source": [
    "make_plotbar('model', '10 популярных моделей авто')"
   ]
  },
  {
   "cell_type": "markdown",
   "metadata": {},
   "source": [
    "Самая популярная модель авто - golf"
   ]
  },
  {
   "cell_type": "code",
   "execution_count": 14,
   "metadata": {},
   "outputs": [
    {
     "data": {
      "image/png": "[encoded data removed]",
      "text/plain": [
       "<Figure size 864x432 with 1 Axes>"
      ]
     },
     "metadata": {
      "needs_background": "light"
     },
     "output_type": "display_data"
    }
   ],
   "source": [
    "make_plotbar('vehicletype', 'Типы автомобильного кузова')"
   ]
  },
  {
   "cell_type": "markdown",
   "metadata": {},
   "source": [
    "Самый популярный тип автомобильного кузова - седан"
   ]
  },
  {
   "cell_type": "code",
   "execution_count": 15,
   "metadata": {},
   "outputs": [
    {
     "data": {
      "image/png": "[encoded data removed]",
      "text/plain": [
       "<Figure size 864x432 with 1 Axes>"
      ]
     },
     "metadata": {
      "needs_background": "light"
     },
     "output_type": "display_data"
    }
   ],
   "source": [
    "make_plotbar('gearbox', 'Коробки передач')"
   ]
  },
  {
   "cell_type": "markdown",
   "metadata": {},
   "source": [
    "Автомобили с ручной коробкой передач превышают по количеству автомобили с автоматической коробкой передач"
   ]
  },
  {
   "cell_type": "code",
   "execution_count": 16,
   "metadata": {},
   "outputs": [
    {
     "data": {
      "image/png": "[encoded data removed]",
      "text/plain": [
       "<Figure size 864x432 with 1 Axes>"
      ]
     },
     "metadata": {
      "needs_background": "light"
     },
     "output_type": "display_data"
    }
   ],
   "source": [
    "make_plotbar('brand', '10 популярных автомобильных брендов')"
   ]
  },
  {
   "cell_type": "markdown",
   "metadata": {},
   "source": [
    "Volskwagen - самый продаваемый автомобиль"
   ]
  },
  {
   "cell_type": "code",
   "execution_count": 17,
   "metadata": {},
   "outputs": [
    {
     "data": {
      "image/png": "[encoded data removed]",
      "text/plain": [
       "<Figure size 864x432 with 1 Axes>"
      ]
     },
     "metadata": {
      "needs_background": "light"
     },
     "output_type": "display_data"
    }
   ],
   "source": [
    "make_plotbar('fueltype', 'Типы топлива для авто')"
   ]
  },
  {
   "cell_type": "markdown",
   "metadata": {},
   "source": [
    "Бензин - самое популярное топливо"
   ]
  },
  {
   "cell_type": "markdown",
   "metadata": {},
   "source": [
    "**Количественные признаки**"
   ]
  },
  {
   "cell_type": "code",
   "execution_count": 18,
   "metadata": {},
   "outputs": [
    {
     "data": {
      "text/plain": [
       "(10772, 16)"
      ]
     },
     "execution_count": 18,
     "metadata": {},
     "output_type": "execute_result"
    }
   ],
   "source": [
    "cars_for_free = df.query('price == 0')\n",
    "cars_for_free.shape"
   ]
  },
  {
   "cell_type": "markdown",
   "metadata": {},
   "source": [
    "10772 автомобиля отдаются бесплатно. На фоне остального датасета это немного строк. Предлагаю их просто убрать"
   ]
  },
  {
   "cell_type": "code",
   "execution_count": 19,
   "metadata": {},
   "outputs": [],
   "source": [
    "df = df.query('price != 0')"
   ]
  },
  {
   "cell_type": "code",
   "execution_count": 20,
   "metadata": {},
   "outputs": [],
   "source": [
    "perc = np.arange(0,1,0.05)"
   ]
  },
  {
   "cell_type": "code",
   "execution_count": 21,
   "metadata": {},
   "outputs": [
    {
     "data": {
      "text/plain": [
       "count    343597.000000\n",
       "mean        111.000192\n",
       "std         188.177974\n",
       "min           0.000000\n",
       "0%            0.000000\n",
       "5%            0.000000\n",
       "10%           0.000000\n",
       "15%          54.000000\n",
       "20%          60.000000\n",
       "25%          69.000000\n",
       "30%          75.000000\n",
       "35%          82.000000\n",
       "40%          90.000000\n",
       "45%         101.000000\n",
       "50%         105.000000\n",
       "55%         110.000000\n",
       "60%         116.000000\n",
       "65%         125.000000\n",
       "70%         136.000000\n",
       "75%         143.000000\n",
       "80%         150.000000\n",
       "85%         170.000000\n",
       "90%         180.000000\n",
       "95%         218.000000\n",
       "max       20000.000000\n",
       "Name: power, dtype: float64"
      ]
     },
     "execution_count": 21,
     "metadata": {},
     "output_type": "execute_result"
    }
   ],
   "source": [
    "df['power'].describe(percentiles = perc)"
   ]
  },
  {
   "cell_type": "code",
   "execution_count": 22,
   "metadata": {},
   "outputs": [
    {
     "data": {
      "image/png": "[encoded data removed]",
      "text/plain": [
       "<Figure size 864x432 with 2 Axes>"
      ]
     },
     "metadata": {
      "needs_background": "light"
     },
     "output_type": "display_data"
    }
   ],
   "source": [
    "fig, axes = plt.subplots(1, 2, figsize=(12, 6))\n",
    "\n",
    "axes[0].set_title('power')\n",
    "sns.boxplot(y = 'power', data=df, ax = axes[0])\n",
    "axes[0].set_xlabel('Количество')\n",
    "     \n",
    "axes[1].set_title('power')\n",
    "sns.distplot(df['power'], kde=False, bins=50, ax = axes[1])\n",
    "axes[1].set_ylabel('Количество')\n",
    "            \n",
    "plt.show()"
   ]
  },
  {
   "cell_type": "markdown",
   "metadata": {},
   "source": [
    "много выбросов, от этого график становится неинформативным"
   ]
  },
  {
   "cell_type": "code",
   "execution_count": 23,
   "metadata": {},
   "outputs": [
    {
     "data": {
      "text/plain": [
       "Text(0, 0.5, 'Количество')"
      ]
     },
     "execution_count": 23,
     "metadata": {},
     "output_type": "execute_result"
    },
    {
     "data": {
      "image/png": "[encoded data removed]",
      "text/plain": [
       "<Figure size 864x432 with 1 Axes>"
      ]
     },
     "metadata": {
      "needs_background": "light"
     },
     "output_type": "display_data"
    }
   ],
   "source": [
    "Q1 = df['power'].quantile(0.25)\n",
    "Q3 = df['power'].quantile(0.75)\n",
    "IQR = Q3 - Q1\n",
    "fig, ax = plt.subplots()\n",
    "df['power'].plot(kind = 'hist', bins = 100, grid = True, range = (Q1 - IQR, Q3 + 3*IQR), figsize = (12, 6))\n",
    "ax.set_xlabel('Лошадиные силы')\n",
    "ax.set_ylabel('Количество')"
   ]
  },
  {
   "cell_type": "markdown",
   "metadata": {},
   "source": [
    "Мы взяли квантили от показателей столбца для графика, и судя по нему в основном встречаются авто с мощностью до 350 лс. Примем 350 лс как максимум диапазона, а нули заменим на медианы относительно групп моделей объектов"
   ]
  },
  {
   "cell_type": "code",
   "execution_count": 24,
   "metadata": {},
   "outputs": [],
   "source": [
    "df = df.query('power <= 350')"
   ]
  },
  {
   "cell_type": "code",
   "execution_count": 25,
   "metadata": {},
   "outputs": [],
   "source": [
    "medians  = df.groupby('model')['power'].median().to_dict()\n",
    "def fill_with_median (row):\n",
    "    if row['power'] == 0:\n",
    "        return medians [row['model']]\n",
    "    return row ['power']\n",
    "df['power'] = df.apply(lambda row: fill_with_median(row), axis = 1)"
   ]
  },
  {
   "cell_type": "code",
   "execution_count": 26,
   "metadata": {},
   "outputs": [
    {
     "data": {
      "image/png": "[encoded data removed]",
      "text/plain": [
       "<Figure size 864x432 with 1 Axes>"
      ]
     },
     "metadata": {
      "needs_background": "light"
     },
     "output_type": "display_data"
    }
   ],
   "source": [
    "fig, ax = plt.subplots(figsize=(12, 6))\n",
    "ax.set_title('power')\n",
    "sns.distplot(df['power'], kde=False, bins=50, ax = ax)\n",
    "ax.set_ylabel('Количество')          \n",
    "plt.show()"
   ]
  },
  {
   "cell_type": "markdown",
   "metadata": {},
   "source": [
    "Убрали выбросы и нули из столбца Power"
   ]
  },
  {
   "cell_type": "code",
   "execution_count": 27,
   "metadata": {},
   "outputs": [
    {
     "data": {
      "text/plain": [
       "count    342441.000000\n",
       "mean       2004.074962\n",
       "std          77.973936\n",
       "min        1000.000000\n",
       "0%         1000.000000\n",
       "5%         1993.000000\n",
       "10%        1996.000000\n",
       "15%        1997.000000\n",
       "20%        1998.000000\n",
       "25%        1999.000000\n",
       "30%        2000.000000\n",
       "35%        2000.000000\n",
       "40%        2001.000000\n",
       "45%        2002.000000\n",
       "50%        2003.000000\n",
       "55%        2004.000000\n",
       "60%        2005.000000\n",
       "65%        2006.000000\n",
       "70%        2007.000000\n",
       "75%        2008.000000\n",
       "80%        2009.000000\n",
       "85%        2010.000000\n",
       "90%        2012.000000\n",
       "95%        2016.000000\n",
       "max        9999.000000\n",
       "Name: registrationyear, dtype: float64"
      ]
     },
     "execution_count": 27,
     "metadata": {},
     "output_type": "execute_result"
    }
   ],
   "source": [
    "df['registrationyear'].describe(percentiles=perc)"
   ]
  },
  {
   "cell_type": "markdown",
   "metadata": {},
   "source": [
    "Возьмем область от 5% в столбе года регистрации"
   ]
  },
  {
   "cell_type": "code",
   "execution_count": 28,
   "metadata": {},
   "outputs": [],
   "source": [
    "df = df.query('registrationyear >= 1992 and registrationyear < 2020')"
   ]
  },
  {
   "cell_type": "code",
   "execution_count": 29,
   "metadata": {},
   "outputs": [],
   "source": [
    "df = df.drop_duplicates().reset_index(drop=True)"
   ]
  },
  {
   "cell_type": "markdown",
   "metadata": {},
   "source": [
    "Убрали дубликаты"
   ]
  },
  {
   "cell_type": "code",
   "execution_count": 30,
   "metadata": {},
   "outputs": [],
   "source": [
    "def make_price_plot(feature, title):\n",
    "    mean_price = df[[feature, 'price']].groupby(feature, as_index=False).mean().astype('int')\n",
    "    plt.figure(figsize=(12,6))\n",
    "    plt.grid(axis = 'both')\n",
    "    sns.lineplot(x=feature, y='price', data=mean_price)\n",
    "    plt.xlabel(feature, size=12)\n",
    "    plt.ylabel('Средняя цена в евро', size=12)\n",
    "    plt.title(title, size=15, y=1.02)\n",
    "    plt.show()"
   ]
  },
  {
   "cell_type": "code",
   "execution_count": 31,
   "metadata": {},
   "outputs": [
    {
     "data": {
      "image/png": "[encoded data removed]",
      "text/plain": [
       "<Figure size 864x432 with 1 Axes>"
      ]
     },
     "metadata": {
      "needs_background": "light"
     },
     "output_type": "display_data"
    }
   ],
   "source": [
    "make_price_plot('registrationyear', 'Изменение цены в зависимости от года регистрации')"
   ]
  },
  {
   "cell_type": "markdown",
   "metadata": {},
   "source": [
    "Кризис в 2015?"
   ]
  },
  {
   "cell_type": "code",
   "execution_count": 32,
   "metadata": {},
   "outputs": [
    {
     "data": {
      "image/png": "[encoded data removed]",
      "text/plain": [
       "<Figure size 864x432 with 1 Axes>"
      ]
     },
     "metadata": {
      "needs_background": "light"
     },
     "output_type": "display_data"
    }
   ],
   "source": [
    "make_price_plot('power', 'Изменение цены в зависимости от мощности')"
   ]
  },
  {
   "cell_type": "code",
   "execution_count": 33,
   "metadata": {},
   "outputs": [
    {
     "data": {
      "image/png": "[encoded data removed]",
      "text/plain": [
       "<Figure size 864x432 with 1 Axes>"
      ]
     },
     "metadata": {
      "needs_background": "light"
     },
     "output_type": "display_data"
    }
   ],
   "source": [
    "make_price_plot('kilometer', 'Изменение цены в зависимости от пробега')"
   ]
  },
  {
   "cell_type": "code",
   "execution_count": 34,
   "metadata": {},
   "outputs": [
    {
     "data": {
      "text/plain": [
       "(328421, 16)"
      ]
     },
     "execution_count": 34,
     "metadata": {},
     "output_type": "execute_result"
    }
   ],
   "source": [
    "df.shape"
   ]
  },
  {
   "cell_type": "markdown",
   "metadata": {},
   "source": [
    "После анализа и обработки мы потеряли 1\\10 данных. Надеюсь это не сильно повлияет на дальнейшую работу"
   ]
  },
  {
   "cell_type": "markdown",
   "metadata": {},
   "source": [
    "# 2. Обучение моделей"
   ]
  },
  {
   "cell_type": "markdown",
   "metadata": {},
   "source": [
    "Features: \n",
    " - Object: \n",
    "       'vehicletype', 'registrationyear', 'gearbox',\n",
    "       'model', 'fueltype', 'brand',\n",
    "       'notrepaired'\n",
    " - Int: 'power', 'kilometer'\n",
    "\n",
    "Target: 'price'"
   ]
  },
  {
   "cell_type": "markdown",
   "metadata": {},
   "source": [
    "Уберем ненужные столбцы"
   ]
  },
  {
   "cell_type": "code",
   "execution_count": 35,
   "metadata": {},
   "outputs": [],
   "source": [
    "df = df.drop(['datecrawled', 'datecreated', 'numberofpictures', 'postalcode', 'lastseen'], axis=1)"
   ]
  },
  {
   "cell_type": "code",
   "execution_count": 36,
   "metadata": {},
   "outputs": [],
   "source": [
    "cats_cols = list(df.select_dtypes(include='object').columns)\n",
    "label_encode = LabelEncoder()\n",
    "for column in cats_cols:\n",
    "    label_encode.fit(df[column].astype('str'))\n",
    "    df[column] = label_encode.transform(df[column].astype('str'))"
   ]
  },
  {
   "cell_type": "markdown",
   "metadata": {},
   "source": [
    "Провели кодирование категориальных данных с помощью Label Encoder"
   ]
  },
  {
   "cell_type": "code",
   "execution_count": 37,
   "metadata": {},
   "outputs": [
    {
     "data": {
      "text/plain": [
       "['vehicletype', 'gearbox', 'model', 'fueltype', 'brand', 'notrepaired']"
      ]
     },
     "execution_count": 37,
     "metadata": {},
     "output_type": "execute_result"
    }
   ],
   "source": [
    "cats_cols"
   ]
  },
  {
   "cell_type": "code",
   "execution_count": 38,
   "metadata": {},
   "outputs": [],
   "source": [
    "features = df.drop('price', axis=1)\n",
    "target = df['price']"
   ]
  },
  {
   "cell_type": "code",
   "execution_count": 39,
   "metadata": {},
   "outputs": [],
   "source": [
    "X_train, X_test, y_train, y_test = train_test_split(features, target, test_size=0.25, random_state=RND)\n",
    "X_train_valid, X_test_valid, y_train_valid, y_test_valid = train_test_split(X_test, y_test, test_size=0.5, random_state=RND)"
   ]
  },
  {
   "cell_type": "markdown",
   "metadata": {},
   "source": [
    "Поделили данные на обучающую, тестовую и валидационную выборки"
   ]
  },
  {
   "cell_type": "code",
   "execution_count": 40,
   "metadata": {},
   "outputs": [],
   "source": [
    "def scale_to_standard(train, test, valid):\n",
    "    scaler = StandardScaler()\n",
    "    quanti_columns = ['registrationyear', 'power', 'kilometer']\n",
    "    scaler.fit(train[quanti_columns])\n",
    "    train[quanti_columns] = scaler.transform(train[quanti_columns])\n",
    "    valid[quanti_columns]=scaler.transform(valid[quanti_columns])\n",
    "    test[quanti_columns] = scaler.transform(test[quanti_columns])"
   ]
  },
  {
   "cell_type": "code",
   "execution_count": 41,
   "metadata": {},
   "outputs": [
    {
     "name": "stderr",
     "output_type": "stream",
     "text": [
      "/opt/conda/lib/python3.7/site-packages/ipykernel_launcher.py:5: SettingWithCopyWarning: \n",
      "A value is trying to be set on a copy of a slice from a DataFrame.\n",
      "Try using .loc[row_indexer,col_indexer] = value instead\n",
      "\n",
      "See the caveats in the documentation: http://pandas.pydata.org/pandas-docs/stable/user_guide/indexing.html#returning-a-view-versus-a-copy\n",
      "  \"\"\"\n",
      "/opt/conda/lib/python3.7/site-packages/pandas/core/indexing.py:494: SettingWithCopyWarning: \n",
      "A value is trying to be set on a copy of a slice from a DataFrame.\n",
      "Try using .loc[row_indexer,col_indexer] = value instead\n",
      "\n",
      "See the caveats in the documentation: http://pandas.pydata.org/pandas-docs/stable/user_guide/indexing.html#returning-a-view-versus-a-copy\n",
      "  self.obj[item] = s\n",
      "/opt/conda/lib/python3.7/site-packages/ipykernel_launcher.py:6: SettingWithCopyWarning: \n",
      "A value is trying to be set on a copy of a slice from a DataFrame.\n",
      "Try using .loc[row_indexer,col_indexer] = value instead\n",
      "\n",
      "See the caveats in the documentation: http://pandas.pydata.org/pandas-docs/stable/user_guide/indexing.html#returning-a-view-versus-a-copy\n",
      "  \n",
      "/opt/conda/lib/python3.7/site-packages/pandas/core/indexing.py:494: SettingWithCopyWarning: \n",
      "A value is trying to be set on a copy of a slice from a DataFrame.\n",
      "Try using .loc[row_indexer,col_indexer] = value instead\n",
      "\n",
      "See the caveats in the documentation: http://pandas.pydata.org/pandas-docs/stable/user_guide/indexing.html#returning-a-view-versus-a-copy\n",
      "  self.obj[item] = s\n",
      "/opt/conda/lib/python3.7/site-packages/ipykernel_launcher.py:7: SettingWithCopyWarning: \n",
      "A value is trying to be set on a copy of a slice from a DataFrame.\n",
      "Try using .loc[row_indexer,col_indexer] = value instead\n",
      "\n",
      "See the caveats in the documentation: http://pandas.pydata.org/pandas-docs/stable/user_guide/indexing.html#returning-a-view-versus-a-copy\n",
      "  import sys\n",
      "/opt/conda/lib/python3.7/site-packages/pandas/core/indexing.py:494: SettingWithCopyWarning: \n",
      "A value is trying to be set on a copy of a slice from a DataFrame.\n",
      "Try using .loc[row_indexer,col_indexer] = value instead\n",
      "\n",
      "See the caveats in the documentation: http://pandas.pydata.org/pandas-docs/stable/user_guide/indexing.html#returning-a-view-versus-a-copy\n",
      "  self.obj[item] = s\n"
     ]
    }
   ],
   "source": [
    "scale_to_standard(X_train, X_test, X_train_valid)"
   ]
  },
  {
   "cell_type": "markdown",
   "metadata": {},
   "source": [
    "Стандартизировали их"
   ]
  },
  {
   "cell_type": "markdown",
   "metadata": {},
   "source": [
    "### LGB Regressor"
   ]
  },
  {
   "cell_type": "code",
   "execution_count": 42,
   "metadata": {},
   "outputs": [],
   "source": [
    "def lgb_regr(features, target):\n",
    "    model = LGBMRegressor()\n",
    "    params = {\n",
    "        'boosting_type' : ['gbdt'],\n",
    "        'n_estimators' : [50, 100],\n",
    "        'max_depth' : [5, 7, 10],\n",
    "        'verbose' : [0],\n",
    "        'random_state' : [RND],\n",
    "        'force_col_wise': [True],\n",
    "        'num_leaves' : [127]}\n",
    "    grid_cv = GridSearchCV(estimator=model, param_grid=params, cv=3, n_jobs=-1, scoring='neg_mean_squared_error')\n",
    "    grid_cv.fit(features, target, categorical_feature=cats_cols)\n",
    "    print('Best hyperparams: ', grid_cv.best_params_)\n",
    "    print('RMSE score on train sample: {:.2f}'.format((-grid_cv.best_score_) ** 0.5))\n",
    "    return grid_cv.best_params_"
   ]
  },
  {
   "cell_type": "code",
   "execution_count": 43,
   "metadata": {},
   "outputs": [
    {
     "name": "stderr",
     "output_type": "stream",
     "text": [
      "/opt/conda/lib/python3.7/site-packages/lightgbm/basic.py:1295: UserWarning: categorical_feature in Dataset is overridden.\n",
      "New categorical_feature is ['brand', 'fueltype', 'gearbox', 'model', 'notrepaired', 'vehicletype']\n",
      "  'New categorical_feature is {}'.format(sorted(list(categorical_feature))))\n",
      "/opt/conda/lib/python3.7/site-packages/lightgbm/basic.py:1295: UserWarning: categorical_feature in Dataset is overridden.\n",
      "New categorical_feature is ['brand', 'fueltype', 'gearbox', 'model', 'notrepaired', 'vehicletype']\n",
      "  'New categorical_feature is {}'.format(sorted(list(categorical_feature))))\n",
      "/opt/conda/lib/python3.7/site-packages/lightgbm/basic.py:1295: UserWarning: categorical_feature in Dataset is overridden.\n",
      "New categorical_feature is ['brand', 'fueltype', 'gearbox', 'model', 'notrepaired', 'vehicletype']\n",
      "  'New categorical_feature is {}'.format(sorted(list(categorical_feature))))\n",
      "/opt/conda/lib/python3.7/site-packages/lightgbm/basic.py:1295: UserWarning: categorical_feature in Dataset is overridden.\n",
      "New categorical_feature is ['brand', 'fueltype', 'gearbox', 'model', 'notrepaired', 'vehicletype']\n",
      "  'New categorical_feature is {}'.format(sorted(list(categorical_feature))))\n",
      "/opt/conda/lib/python3.7/site-packages/lightgbm/basic.py:1295: UserWarning: categorical_feature in Dataset is overridden.\n",
      "New categorical_feature is ['brand', 'fueltype', 'gearbox', 'model', 'notrepaired', 'vehicletype']\n",
      "  'New categorical_feature is {}'.format(sorted(list(categorical_feature))))\n",
      "/opt/conda/lib/python3.7/site-packages/lightgbm/basic.py:1295: UserWarning: categorical_feature in Dataset is overridden.\n",
      "New categorical_feature is ['brand', 'fueltype', 'gearbox', 'model', 'notrepaired', 'vehicletype']\n",
      "  'New categorical_feature is {}'.format(sorted(list(categorical_feature))))\n",
      "/opt/conda/lib/python3.7/site-packages/lightgbm/basic.py:1295: UserWarning: categorical_feature in Dataset is overridden.\n",
      "New categorical_feature is ['brand', 'fueltype', 'gearbox', 'model', 'notrepaired', 'vehicletype']\n",
      "  'New categorical_feature is {}'.format(sorted(list(categorical_feature))))\n",
      "/opt/conda/lib/python3.7/site-packages/lightgbm/basic.py:1295: UserWarning: categorical_feature in Dataset is overridden.\n",
      "New categorical_feature is ['brand', 'fueltype', 'gearbox', 'model', 'notrepaired', 'vehicletype']\n",
      "  'New categorical_feature is {}'.format(sorted(list(categorical_feature))))\n",
      "/opt/conda/lib/python3.7/site-packages/lightgbm/basic.py:1295: UserWarning: categorical_feature in Dataset is overridden.\n",
      "New categorical_feature is ['brand', 'fueltype', 'gearbox', 'model', 'notrepaired', 'vehicletype']\n",
      "  'New categorical_feature is {}'.format(sorted(list(categorical_feature))))\n",
      "/opt/conda/lib/python3.7/site-packages/lightgbm/basic.py:1295: UserWarning: categorical_feature in Dataset is overridden.\n",
      "New categorical_feature is ['brand', 'fueltype', 'gearbox', 'model', 'notrepaired', 'vehicletype']\n",
      "  'New categorical_feature is {}'.format(sorted(list(categorical_feature))))\n",
      "/opt/conda/lib/python3.7/site-packages/lightgbm/basic.py:1295: UserWarning: categorical_feature in Dataset is overridden.\n",
      "New categorical_feature is ['brand', 'fueltype', 'gearbox', 'model', 'notrepaired', 'vehicletype']\n",
      "  'New categorical_feature is {}'.format(sorted(list(categorical_feature))))\n",
      "/opt/conda/lib/python3.7/site-packages/lightgbm/basic.py:1295: UserWarning: categorical_feature in Dataset is overridden.\n",
      "New categorical_feature is ['brand', 'fueltype', 'gearbox', 'model', 'notrepaired', 'vehicletype']\n",
      "  'New categorical_feature is {}'.format(sorted(list(categorical_feature))))\n",
      "/opt/conda/lib/python3.7/site-packages/lightgbm/basic.py:1295: UserWarning: categorical_feature in Dataset is overridden.\n",
      "New categorical_feature is ['brand', 'fueltype', 'gearbox', 'model', 'notrepaired', 'vehicletype']\n",
      "  'New categorical_feature is {}'.format(sorted(list(categorical_feature))))\n",
      "/opt/conda/lib/python3.7/site-packages/lightgbm/basic.py:1295: UserWarning: categorical_feature in Dataset is overridden.\n",
      "New categorical_feature is ['brand', 'fueltype', 'gearbox', 'model', 'notrepaired', 'vehicletype']\n",
      "  'New categorical_feature is {}'.format(sorted(list(categorical_feature))))\n",
      "/opt/conda/lib/python3.7/site-packages/lightgbm/basic.py:1295: UserWarning: categorical_feature in Dataset is overridden.\n",
      "New categorical_feature is ['brand', 'fueltype', 'gearbox', 'model', 'notrepaired', 'vehicletype']\n",
      "  'New categorical_feature is {}'.format(sorted(list(categorical_feature))))\n",
      "/opt/conda/lib/python3.7/site-packages/lightgbm/basic.py:1295: UserWarning: categorical_feature in Dataset is overridden.\n",
      "New categorical_feature is ['brand', 'fueltype', 'gearbox', 'model', 'notrepaired', 'vehicletype']\n",
      "  'New categorical_feature is {}'.format(sorted(list(categorical_feature))))\n",
      "/opt/conda/lib/python3.7/site-packages/lightgbm/basic.py:1295: UserWarning: categorical_feature in Dataset is overridden.\n",
      "New categorical_feature is ['brand', 'fueltype', 'gearbox', 'model', 'notrepaired', 'vehicletype']\n",
      "  'New categorical_feature is {}'.format(sorted(list(categorical_feature))))\n",
      "/opt/conda/lib/python3.7/site-packages/lightgbm/basic.py:1295: UserWarning: categorical_feature in Dataset is overridden.\n",
      "New categorical_feature is ['brand', 'fueltype', 'gearbox', 'model', 'notrepaired', 'vehicletype']\n",
      "  'New categorical_feature is {}'.format(sorted(list(categorical_feature))))\n",
      "/opt/conda/lib/python3.7/site-packages/lightgbm/basic.py:1295: UserWarning: categorical_feature in Dataset is overridden.\n",
      "New categorical_feature is ['brand', 'fueltype', 'gearbox', 'model', 'notrepaired', 'vehicletype']\n",
      "  'New categorical_feature is {}'.format(sorted(list(categorical_feature))))\n"
     ]
    },
    {
     "name": "stdout",
     "output_type": "stream",
     "text": [
      "Best hyperparams:  {'boosting_type': 'gbdt', 'force_col_wise': True, 'max_depth': 10, 'n_estimators': 100, 'num_leaves': 127, 'random_state': 12345, 'verbose': 0}\n",
      "RMSE score on train sample: 1548.44\n",
      "CPU times: user 5min 36s, sys: 3.05 s, total: 5min 39s\n",
      "Wall time: 5min 43s\n"
     ]
    }
   ],
   "source": [
    "%%time\n",
    "lgb_params = lgb_regr(X_train, y_train)"
   ]
  },
  {
   "cell_type": "code",
   "execution_count": 44,
   "metadata": {},
   "outputs": [
    {
     "name": "stdout",
     "output_type": "stream",
     "text": [
      "[10]\tvalid_0's rmse: 2438.22\tvalid_0's l2: 5.94493e+06\n",
      "[20]\tvalid_0's rmse: 1901.26\tvalid_0's l2: 3.61477e+06\n",
      "[30]\tvalid_0's rmse: 1743.72\tvalid_0's l2: 3.04056e+06\n",
      "[40]\tvalid_0's rmse: 1677.69\tvalid_0's l2: 2.81465e+06\n",
      "[50]\tvalid_0's rmse: 1647.79\tvalid_0's l2: 2.71523e+06\n",
      "[60]\tvalid_0's rmse: 1628.85\tvalid_0's l2: 2.65315e+06\n",
      "[70]\tvalid_0's rmse: 1614.82\tvalid_0's l2: 2.60765e+06\n",
      "[80]\tvalid_0's rmse: 1601.62\tvalid_0's l2: 2.56519e+06\n",
      "[90]\tvalid_0's rmse: 1592.5\tvalid_0's l2: 2.53605e+06\n",
      "[100]\tvalid_0's rmse: 1584.53\tvalid_0's l2: 2.51073e+06\n",
      "Test RMSE = 1593.78\n",
      "CPU times: user 20.9 s, sys: 145 ms, total: 21.1 s\n",
      "Wall time: 21.4 s\n"
     ]
    }
   ],
   "source": [
    "%%time\n",
    "model_lgb = LGBMRegressor(**lgb_params)\n",
    "model_lgb.fit(X_train, y_train, eval_set=(X_test, y_test), verbose=10, eval_metric='rmse')\n",
    "predict_lgb = model_lgb.predict(X_train_valid)\n",
    "print('Test RMSE = {:.2f}'.format(mse(y_train_valid, predict_lgb)**0.5))"
   ]
  },
  {
   "cell_type": "markdown",
   "metadata": {},
   "source": [
    "Использовав модель LGBMRegressor мы получили показатели: \n",
    " - на обучающей выборке: 1550.04\n",
    " - на валидационной выборке: 1593.78"
   ]
  },
  {
   "cell_type": "markdown",
   "metadata": {},
   "source": [
    "### CatBoostRegressor"
   ]
  },
  {
   "cell_type": "code",
   "execution_count": 45,
   "metadata": {},
   "outputs": [],
   "source": [
    "def catboost_regr(features, target):\n",
    "    model = CatBoostRegressor()\n",
    "    params = {\n",
    "            'n_estimators' : [50, 100],\n",
    "            'verbose' : [0],\n",
    "            'random_state' : [RND],\n",
    "            'max_depth' : [5, 7, 10]\n",
    "    }\n",
    "    grid_cv = GridSearchCV(estimator=model, \n",
    "    param_grid=params, cv=3, n_jobs=-1, scoring='neg_mean_squared_error')\n",
    "    grid_cv.fit(features, target, cat_features=cats_cols, verbose=10)\n",
    "    print('Best hyperparams: ', grid_cv.best_params_)\n",
    "    print('RMSE score on train sample: {:.2f}'.format((-grid_cv.best_score_) ** 0.5))\n",
    "    return grid_cv.best_params_"
   ]
  },
  {
   "cell_type": "code",
   "execution_count": 46,
   "metadata": {},
   "outputs": [
    {
     "name": "stdout",
     "output_type": "stream",
     "text": [
      "0:\tlearn: 4407.8664899\ttotal: 176ms\tremaining: 8.61s\n",
      "10:\tlearn: 3705.0685789\ttotal: 2.27s\tremaining: 8.05s\n",
      "20:\tlearn: 3213.1902540\ttotal: 4.27s\tremaining: 5.89s\n",
      "30:\tlearn: 2867.9715025\ttotal: 6.25s\tremaining: 3.83s\n",
      "40:\tlearn: 2617.7456727\ttotal: 8.25s\tremaining: 1.81s\n",
      "49:\tlearn: 2450.2292171\ttotal: 10s\tremaining: 0us\n",
      "0:\tlearn: 4410.9921458\ttotal: 138ms\tremaining: 6.76s\n",
      "10:\tlearn: 3712.3983768\ttotal: 2.23s\tremaining: 7.91s\n",
      "20:\tlearn: 3213.9966509\ttotal: 4.23s\tremaining: 5.84s\n",
      "30:\tlearn: 2871.5600549\ttotal: 6.22s\tremaining: 3.81s\n",
      "40:\tlearn: 2628.5184947\ttotal: 8.22s\tremaining: 1.8s\n",
      "49:\tlearn: 2455.4339069\ttotal: 10s\tremaining: 0us\n",
      "0:\tlearn: 4405.7999343\ttotal: 171ms\tremaining: 8.4s\n",
      "10:\tlearn: 3707.8509256\ttotal: 2.27s\tremaining: 8.05s\n",
      "20:\tlearn: 3218.9990871\ttotal: 4.36s\tremaining: 6.03s\n",
      "30:\tlearn: 2872.9948933\ttotal: 6.36s\tremaining: 3.9s\n",
      "40:\tlearn: 2627.9833524\ttotal: 8.45s\tremaining: 1.85s\n",
      "49:\tlearn: 2457.6542614\ttotal: 10.2s\tremaining: 0us\n",
      "0:\tlearn: 4407.8664899\ttotal: 153ms\tremaining: 15.1s\n",
      "10:\tlearn: 3705.0685789\ttotal: 2.24s\tremaining: 18.1s\n",
      "20:\tlearn: 3213.1902540\ttotal: 4.24s\tremaining: 15.9s\n",
      "30:\tlearn: 2867.9715025\ttotal: 6.33s\tremaining: 14.1s\n",
      "40:\tlearn: 2617.7456727\ttotal: 8.43s\tremaining: 12.1s\n",
      "50:\tlearn: 2435.9545600\ttotal: 10.5s\tremaining: 10.1s\n",
      "60:\tlearn: 2304.0174578\ttotal: 12.5s\tremaining: 8s\n",
      "70:\tlearn: 2208.5497168\ttotal: 14.5s\tremaining: 5.92s\n",
      "80:\tlearn: 2129.4360659\ttotal: 16.5s\tremaining: 3.87s\n",
      "90:\tlearn: 2072.9202759\ttotal: 18.4s\tremaining: 1.82s\n",
      "99:\tlearn: 2034.1993745\ttotal: 20.1s\tremaining: 0us\n",
      "0:\tlearn: 4410.9921458\ttotal: 177ms\tremaining: 17.6s\n",
      "10:\tlearn: 3712.3983768\ttotal: 2.27s\tremaining: 18.4s\n",
      "20:\tlearn: 3213.9966509\ttotal: 4.27s\tremaining: 16.1s\n",
      "30:\tlearn: 2871.5600549\ttotal: 6.26s\tremaining: 13.9s\n",
      "40:\tlearn: 2628.5184947\ttotal: 8.25s\tremaining: 11.9s\n",
      "50:\tlearn: 2440.0407333\ttotal: 10.2s\tremaining: 9.84s\n",
      "60:\tlearn: 2306.7874243\ttotal: 12.2s\tremaining: 7.83s\n",
      "70:\tlearn: 2214.2420964\ttotal: 14.1s\tremaining: 5.78s\n",
      "80:\tlearn: 2140.5428533\ttotal: 16.1s\tremaining: 3.78s\n",
      "90:\tlearn: 2079.6943970\ttotal: 18.1s\tremaining: 1.79s\n",
      "99:\tlearn: 2039.8085426\ttotal: 19.8s\tremaining: 0us\n",
      "0:\tlearn: 4405.7999343\ttotal: 167ms\tremaining: 16.6s\n",
      "10:\tlearn: 3707.8509256\ttotal: 2.45s\tremaining: 19.8s\n",
      "20:\tlearn: 3218.9990871\ttotal: 4.45s\tremaining: 16.7s\n",
      "30:\tlearn: 2872.9948933\ttotal: 6.54s\tremaining: 14.6s\n",
      "40:\tlearn: 2627.9833524\ttotal: 8.53s\tremaining: 12.3s\n",
      "50:\tlearn: 2442.8356801\ttotal: 10.5s\tremaining: 10.1s\n",
      "60:\tlearn: 2314.7824035\ttotal: 12.6s\tremaining: 8.06s\n",
      "70:\tlearn: 2218.8652798\ttotal: 14.6s\tremaining: 5.97s\n",
      "80:\tlearn: 2140.1130528\ttotal: 16.5s\tremaining: 3.87s\n",
      "90:\tlearn: 2082.5257124\ttotal: 18.5s\tremaining: 1.83s\n",
      "99:\tlearn: 2043.2069973\ttotal: 20.3s\tremaining: 0us\n",
      "0:\tlearn: 4398.0635381\ttotal: 306ms\tremaining: 15s\n",
      "10:\tlearn: 3636.4346313\ttotal: 3s\tremaining: 10.6s\n",
      "20:\tlearn: 3107.5364212\ttotal: 5.69s\tremaining: 7.86s\n",
      "30:\tlearn: 2746.0860604\ttotal: 8.38s\tremaining: 5.14s\n",
      "40:\tlearn: 2486.6020933\ttotal: 11.1s\tremaining: 2.43s\n",
      "49:\tlearn: 2311.9639104\ttotal: 13.5s\tremaining: 0us\n",
      "0:\tlearn: 4400.2130535\ttotal: 218ms\tremaining: 10.7s\n",
      "10:\tlearn: 3640.2667925\ttotal: 3s\tremaining: 10.6s\n",
      "20:\tlearn: 3111.2627296\ttotal: 5.69s\tremaining: 7.86s\n",
      "30:\tlearn: 2747.5415839\ttotal: 8.38s\tremaining: 5.14s\n",
      "40:\tlearn: 2490.7649640\ttotal: 11s\tremaining: 2.41s\n",
      "49:\tlearn: 2317.1777752\ttotal: 13.4s\tremaining: 0us\n",
      "0:\tlearn: 4396.2150597\ttotal: 285ms\tremaining: 13.9s\n",
      "10:\tlearn: 3633.0033438\ttotal: 3s\tremaining: 10.6s\n",
      "20:\tlearn: 3112.5225816\ttotal: 5.7s\tremaining: 7.87s\n",
      "30:\tlearn: 2750.3891015\ttotal: 8.29s\tremaining: 5.08s\n",
      "40:\tlearn: 2493.3250166\ttotal: 10.9s\tremaining: 2.39s\n",
      "49:\tlearn: 2320.8318800\ttotal: 13.3s\tremaining: 0us\n",
      "0:\tlearn: 4398.0635381\ttotal: 216ms\tremaining: 21.4s\n",
      "10:\tlearn: 3636.4346313\ttotal: 2.99s\tremaining: 24.2s\n",
      "20:\tlearn: 3107.5364212\ttotal: 5.71s\tremaining: 21.5s\n",
      "30:\tlearn: 2746.0860604\ttotal: 8.31s\tremaining: 18.5s\n",
      "40:\tlearn: 2486.6020933\ttotal: 10.9s\tremaining: 15.7s\n",
      "50:\tlearn: 2296.4087306\ttotal: 13.5s\tremaining: 13s\n",
      "60:\tlearn: 2167.8276465\ttotal: 16.1s\tremaining: 10.3s\n",
      "70:\tlearn: 2070.6819290\ttotal: 18.7s\tremaining: 7.63s\n",
      "80:\tlearn: 2002.3016129\ttotal: 21.4s\tremaining: 5.01s\n",
      "90:\tlearn: 1947.3775930\ttotal: 24.1s\tremaining: 2.38s\n",
      "99:\tlearn: 1913.3754983\ttotal: 26.5s\tremaining: 0us\n",
      "0:\tlearn: 4400.2130535\ttotal: 165ms\tremaining: 16.3s\n",
      "10:\tlearn: 3640.2667925\ttotal: 2.95s\tremaining: 23.9s\n",
      "20:\tlearn: 3111.2627296\ttotal: 5.65s\tremaining: 21.3s\n",
      "30:\tlearn: 2747.5415839\ttotal: 8.31s\tremaining: 18.5s\n",
      "40:\tlearn: 2490.7649640\ttotal: 10.9s\tremaining: 15.8s\n",
      "50:\tlearn: 2301.4918098\ttotal: 13.6s\tremaining: 13.1s\n",
      "60:\tlearn: 2174.5016640\ttotal: 16.2s\tremaining: 10.4s\n",
      "70:\tlearn: 2076.3598327\ttotal: 19s\tremaining: 7.77s\n",
      "80:\tlearn: 2004.7371528\ttotal: 21.7s\tremaining: 5.09s\n",
      "90:\tlearn: 1952.3838403\ttotal: 24.4s\tremaining: 2.41s\n",
      "99:\tlearn: 1918.4735543\ttotal: 26.7s\tremaining: 0us\n",
      "0:\tlearn: 4396.2150597\ttotal: 234ms\tremaining: 23.1s\n",
      "10:\tlearn: 3633.0033438\ttotal: 3.03s\tremaining: 24.5s\n",
      "20:\tlearn: 3112.5225816\ttotal: 5.72s\tremaining: 21.5s\n",
      "30:\tlearn: 2750.3891015\ttotal: 8.33s\tremaining: 18.5s\n",
      "40:\tlearn: 2493.3250166\ttotal: 11s\tremaining: 15.8s\n",
      "50:\tlearn: 2305.0984428\ttotal: 13.7s\tremaining: 13.2s\n",
      "60:\tlearn: 2178.1849202\ttotal: 16.5s\tremaining: 10.5s\n",
      "70:\tlearn: 2086.6988913\ttotal: 19.1s\tremaining: 7.8s\n",
      "80:\tlearn: 2011.7057062\ttotal: 21.7s\tremaining: 5.09s\n",
      "90:\tlearn: 1957.5043734\ttotal: 24.4s\tremaining: 2.41s\n",
      "99:\tlearn: 1924.2206434\ttotal: 26.8s\tremaining: 0us\n",
      "0:\tlearn: 4392.3741577\ttotal: 313ms\tremaining: 15.4s\n",
      "10:\tlearn: 3586.9772047\ttotal: 3.9s\tremaining: 13.8s\n",
      "20:\tlearn: 3029.1807984\ttotal: 7.39s\tremaining: 10.2s\n",
      "30:\tlearn: 2649.4917138\ttotal: 10.9s\tremaining: 6.67s\n",
      "40:\tlearn: 2377.0295304\ttotal: 14.5s\tremaining: 3.18s\n",
      "49:\tlearn: 2198.8247190\ttotal: 17.6s\tremaining: 0us\n",
      "0:\tlearn: 4395.8167429\ttotal: 282ms\tremaining: 13.8s\n",
      "10:\tlearn: 3590.2050983\ttotal: 3.88s\tremaining: 13.8s\n",
      "20:\tlearn: 3031.6576793\ttotal: 7.47s\tremaining: 10.3s\n",
      "30:\tlearn: 2652.1501527\ttotal: 11s\tremaining: 6.73s\n",
      "40:\tlearn: 2385.7966605\ttotal: 14.5s\tremaining: 3.17s\n",
      "49:\tlearn: 2205.2415677\ttotal: 17.6s\tremaining: 0us\n",
      "0:\tlearn: 4390.5868939\ttotal: 266ms\tremaining: 13s\n",
      "10:\tlearn: 3585.9596427\ttotal: 3.67s\tremaining: 13s\n",
      "20:\tlearn: 3030.2512312\ttotal: 7.26s\tremaining: 10s\n",
      "30:\tlearn: 2646.5796590\ttotal: 10.6s\tremaining: 6.5s\n",
      "40:\tlearn: 2379.6017462\ttotal: 14.2s\tremaining: 3.11s\n",
      "49:\tlearn: 2201.3643502\ttotal: 17.3s\tremaining: 0us\n",
      "0:\tlearn: 4392.3741577\ttotal: 263ms\tremaining: 26s\n",
      "10:\tlearn: 3586.9772047\ttotal: 3.76s\tremaining: 30.4s\n",
      "20:\tlearn: 3029.1807984\ttotal: 7.35s\tremaining: 27.7s\n",
      "30:\tlearn: 2649.4917138\ttotal: 10.8s\tremaining: 24.1s\n",
      "40:\tlearn: 2377.0295304\ttotal: 14.2s\tremaining: 20.5s\n",
      "50:\tlearn: 2182.8365112\ttotal: 18s\tremaining: 17.3s\n",
      "60:\tlearn: 2049.2019797\ttotal: 21.4s\tremaining: 13.7s\n",
      "70:\tlearn: 1952.0395882\ttotal: 24.9s\tremaining: 10.2s\n",
      "80:\tlearn: 1887.0884012\ttotal: 28.3s\tremaining: 6.64s\n",
      "90:\tlearn: 1836.8246841\ttotal: 31.7s\tremaining: 3.13s\n",
      "99:\tlearn: 1803.8168184\ttotal: 34.8s\tremaining: 0us\n",
      "0:\tlearn: 4395.8167429\ttotal: 232ms\tremaining: 23s\n",
      "10:\tlearn: 3590.2050983\ttotal: 3.83s\tremaining: 31s\n",
      "20:\tlearn: 3031.6576793\ttotal: 7.32s\tremaining: 27.5s\n",
      "30:\tlearn: 2652.1501527\ttotal: 10.8s\tremaining: 24.1s\n",
      "40:\tlearn: 2385.7966605\ttotal: 14.3s\tremaining: 20.6s\n",
      "50:\tlearn: 2189.1468502\ttotal: 17.7s\tremaining: 17s\n",
      "60:\tlearn: 2056.8069583\ttotal: 21.2s\tremaining: 13.5s\n",
      "70:\tlearn: 1959.9039658\ttotal: 24.7s\tremaining: 10.1s\n",
      "80:\tlearn: 1894.6466888\ttotal: 28s\tremaining: 6.56s\n",
      "90:\tlearn: 1844.7305282\ttotal: 31.5s\tremaining: 3.11s\n",
      "99:\tlearn: 1810.1987688\ttotal: 34.5s\tremaining: 0us\n",
      "0:\tlearn: 4390.5868939\ttotal: 303ms\tremaining: 29.9s\n",
      "10:\tlearn: 3585.9596427\ttotal: 3.89s\tremaining: 31.5s\n",
      "20:\tlearn: 3030.2512312\ttotal: 7.38s\tremaining: 27.8s\n",
      "30:\tlearn: 2646.5796590\ttotal: 10.8s\tremaining: 24s\n",
      "40:\tlearn: 2379.6017462\ttotal: 14.3s\tremaining: 20.6s\n",
      "50:\tlearn: 2185.1440172\ttotal: 17.7s\tremaining: 17s\n",
      "60:\tlearn: 2057.7056236\ttotal: 21.2s\tremaining: 13.5s\n",
      "70:\tlearn: 1962.0283728\ttotal: 24.7s\tremaining: 10.1s\n",
      "80:\tlearn: 1896.3127919\ttotal: 28.1s\tremaining: 6.58s\n",
      "90:\tlearn: 1845.2751650\ttotal: 31.5s\tremaining: 3.12s\n",
      "99:\tlearn: 1810.4723077\ttotal: 34.6s\tremaining: 0us\n",
      "0:\tlearn: 4392.5652979\ttotal: 443ms\tremaining: 43.9s\n",
      "10:\tlearn: 3587.1527339\ttotal: 5.33s\tremaining: 43.1s\n",
      "20:\tlearn: 3033.5911048\ttotal: 10s\tremaining: 37.7s\n",
      "30:\tlearn: 2648.1635493\ttotal: 14.7s\tremaining: 32.8s\n",
      "40:\tlearn: 2375.9716311\ttotal: 19.4s\tremaining: 27.9s\n",
      "50:\tlearn: 2183.3837179\ttotal: 24.1s\tremaining: 23.2s\n",
      "60:\tlearn: 2057.1396900\ttotal: 29s\tremaining: 18.5s\n",
      "70:\tlearn: 1959.2824724\ttotal: 33.7s\tremaining: 13.8s\n",
      "80:\tlearn: 1893.6329373\ttotal: 38.4s\tremaining: 9s\n",
      "90:\tlearn: 1841.2591828\ttotal: 43.1s\tremaining: 4.26s\n",
      "99:\tlearn: 1807.0483525\ttotal: 47.3s\tremaining: 0us\n",
      "Best hyperparams:  {'max_depth': 10, 'n_estimators': 100, 'random_state': 12345, 'verbose': 0}\n",
      "RMSE score on train sample: 1821.86\n",
      "CPU times: user 6min 31s, sys: 45.3 s, total: 7min 16s\n",
      "Wall time: 7min 50s\n"
     ]
    }
   ],
   "source": [
    "%%time\n",
    "catb_params = catboost_regr(X_train, y_train)"
   ]
  },
  {
   "cell_type": "code",
   "execution_count": 47,
   "metadata": {},
   "outputs": [
    {
     "name": "stdout",
     "output_type": "stream",
     "text": [
      "0:\tlearn: 4393.3068740\ttotal: 223ms\tremaining: 22.1s\n",
      "10:\tlearn: 3583.3560193\ttotal: 3.12s\tremaining: 25.2s\n",
      "20:\tlearn: 3023.8825421\ttotal: 6s\tremaining: 22.6s\n",
      "30:\tlearn: 2641.0376368\ttotal: 8.9s\tremaining: 19.8s\n",
      "40:\tlearn: 2381.3765505\ttotal: 11.8s\tremaining: 17s\n",
      "50:\tlearn: 2202.6946299\ttotal: 14.7s\tremaining: 14.1s\n",
      "60:\tlearn: 2083.3561221\ttotal: 17.6s\tremaining: 11.2s\n",
      "70:\tlearn: 1998.1542330\ttotal: 20.5s\tremaining: 8.36s\n",
      "80:\tlearn: 1935.6113391\ttotal: 23.4s\tremaining: 5.48s\n",
      "90:\tlearn: 1888.6576597\ttotal: 26.2s\tremaining: 2.6s\n",
      "99:\tlearn: 1853.0813173\ttotal: 28.8s\tremaining: 0us\n",
      "Test RMSE : 1894.91 \n",
      "CPU times: user 26.3 s, sys: 3.14 s, total: 29.5 s\n",
      "Wall time: 31 s\n"
     ]
    }
   ],
   "source": [
    "%%time\n",
    "catb_model = CatBoostRegressor(**catb_params)\n",
    "catb_model.fit(X_train, y_train, verbose=10)\n",
    "catb_pred = catb_model.predict(X_train_valid)\n",
    "print('Test RMSE : {:.2f} '.format(mse(y_train_valid, catb_pred)**0.5))"
   ]
  },
  {
   "cell_type": "markdown",
   "metadata": {},
   "source": [
    "Использовав модель CatBoostRegressor мы получили показатели: \n",
    " - на обучающей выборке: 1588.17\n",
    " - на валидационной выборке: 1591.36 "
   ]
  },
  {
   "cell_type": "markdown",
   "metadata": {},
   "source": [
    "### XGBRegressor"
   ]
  },
  {
   "cell_type": "code",
   "execution_count": 48,
   "metadata": {},
   "outputs": [],
   "source": [
    "def xgb_regr(features, target):\n",
    "    model = XGBRegressor()\n",
    "    params = {\n",
    "        'max_depth': [3, 5, 7], \n",
    "         'eta': [0.5], \n",
    "         'min_child_weight':[4],\n",
    "         'sampling_method':['gradient_based'], \n",
    "         'verbosity':[1],  \n",
    "         'seed':[RND]}\n",
    "    grid_cv = GridSearchCV(estimator=model, param_grid=params, cv=2, n_jobs=-1, scoring='neg_mean_squared_error')\n",
    "    grid_cv.fit(features, target, eval_metric='rmse', verbose = 10, eval_set = [(X_test, y_test)])\n",
    "    print('Best hyperparams: ', grid_cv.best_params_)\n",
    "    print('Best RMSE score: {:.2f}'.format((-grid_cv.best_score_) ** 0.5))\n",
    "    return grid_cv.best_params_"
   ]
  },
  {
   "cell_type": "code",
   "execution_count": 49,
   "metadata": {},
   "outputs": [
    {
     "name": "stderr",
     "output_type": "stream",
     "text": [
      "/opt/conda/lib/python3.7/site-packages/xgboost/core.py:587: FutureWarning: Series.base is deprecated and will be removed in a future version\n",
      "  if getattr(data, 'base', None) is not None and \\\n"
     ]
    },
    {
     "name": "stdout",
     "output_type": "stream",
     "text": [
      "[09:12:40] WARNING: /workspace/src/objective/regression_obj.cu:152: reg:linear is now deprecated in favor of reg:squarederror.\n",
      "[0]\tvalidation_0-rmse:5918.13\n",
      "[10]\tvalidation_0-rmse:3194.32\n",
      "[20]\tvalidation_0-rmse:2416.24\n",
      "[30]\tvalidation_0-rmse:2191.33\n",
      "[40]\tvalidation_0-rmse:2083.88\n",
      "[50]\tvalidation_0-rmse:2019.3\n",
      "[60]\tvalidation_0-rmse:1979.64\n",
      "[70]\tvalidation_0-rmse:1952.68\n",
      "[80]\tvalidation_0-rmse:1929.51\n",
      "[90]\tvalidation_0-rmse:1914.62\n",
      "[99]\tvalidation_0-rmse:1904.5\n"
     ]
    },
    {
     "name": "stderr",
     "output_type": "stream",
     "text": [
      "/opt/conda/lib/python3.7/site-packages/xgboost/core.py:587: FutureWarning: Series.base is deprecated and will be removed in a future version\n",
      "  if getattr(data, 'base', None) is not None and \\\n"
     ]
    },
    {
     "name": "stdout",
     "output_type": "stream",
     "text": [
      "[09:12:51] WARNING: /workspace/src/objective/regression_obj.cu:152: reg:linear is now deprecated in favor of reg:squarederror.\n",
      "[0]\tvalidation_0-rmse:5918.83\n",
      "[10]\tvalidation_0-rmse:3196.39\n",
      "[20]\tvalidation_0-rmse:2424.49\n",
      "[30]\tvalidation_0-rmse:2202.17\n",
      "[40]\tvalidation_0-rmse:2103.03\n",
      "[50]\tvalidation_0-rmse:2038.54\n",
      "[60]\tvalidation_0-rmse:1994.59\n",
      "[70]\tvalidation_0-rmse:1967.03\n",
      "[80]\tvalidation_0-rmse:1940.08\n",
      "[90]\tvalidation_0-rmse:1917.64\n",
      "[99]\tvalidation_0-rmse:1902.94\n"
     ]
    },
    {
     "name": "stderr",
     "output_type": "stream",
     "text": [
      "/opt/conda/lib/python3.7/site-packages/xgboost/core.py:587: FutureWarning: Series.base is deprecated and will be removed in a future version\n",
      "  if getattr(data, 'base', None) is not None and \\\n"
     ]
    },
    {
     "name": "stdout",
     "output_type": "stream",
     "text": [
      "[09:13:02] WARNING: /workspace/src/objective/regression_obj.cu:152: reg:linear is now deprecated in favor of reg:squarederror.\n",
      "[0]\tvalidation_0-rmse:5873.57\n",
      "[10]\tvalidation_0-rmse:2918.46\n",
      "[20]\tvalidation_0-rmse:2164.42\n",
      "[30]\tvalidation_0-rmse:1955.86\n",
      "[40]\tvalidation_0-rmse:1874.21\n",
      "[50]\tvalidation_0-rmse:1824.68\n",
      "[60]\tvalidation_0-rmse:1793.48\n",
      "[70]\tvalidation_0-rmse:1772.62\n",
      "[80]\tvalidation_0-rmse:1755.38\n",
      "[90]\tvalidation_0-rmse:1741.62\n",
      "[99]\tvalidation_0-rmse:1731.03\n"
     ]
    },
    {
     "name": "stderr",
     "output_type": "stream",
     "text": [
      "/opt/conda/lib/python3.7/site-packages/xgboost/core.py:587: FutureWarning: Series.base is deprecated and will be removed in a future version\n",
      "  if getattr(data, 'base', None) is not None and \\\n"
     ]
    },
    {
     "name": "stdout",
     "output_type": "stream",
     "text": [
      "[09:13:19] WARNING: /workspace/src/objective/regression_obj.cu:152: reg:linear is now deprecated in favor of reg:squarederror.\n",
      "[0]\tvalidation_0-rmse:5874.8\n",
      "[10]\tvalidation_0-rmse:2920.6\n",
      "[20]\tvalidation_0-rmse:2162.43\n",
      "[30]\tvalidation_0-rmse:1957.11\n",
      "[40]\tvalidation_0-rmse:1874.76\n",
      "[50]\tvalidation_0-rmse:1824.38\n",
      "[60]\tvalidation_0-rmse:1794.58\n",
      "[70]\tvalidation_0-rmse:1774.09\n",
      "[80]\tvalidation_0-rmse:1761.11\n",
      "[90]\tvalidation_0-rmse:1748.29\n",
      "[99]\tvalidation_0-rmse:1734.42\n"
     ]
    },
    {
     "name": "stderr",
     "output_type": "stream",
     "text": [
      "/opt/conda/lib/python3.7/site-packages/xgboost/core.py:587: FutureWarning: Series.base is deprecated and will be removed in a future version\n",
      "  if getattr(data, 'base', None) is not None and \\\n"
     ]
    },
    {
     "name": "stdout",
     "output_type": "stream",
     "text": [
      "[09:13:36] WARNING: /workspace/src/objective/regression_obj.cu:152: reg:linear is now deprecated in favor of reg:squarederror.\n",
      "[0]\tvalidation_0-rmse:5856.4\n",
      "[10]\tvalidation_0-rmse:2795.84\n",
      "[20]\tvalidation_0-rmse:2010.65\n",
      "[30]\tvalidation_0-rmse:1810.22\n",
      "[40]\tvalidation_0-rmse:1743.08\n",
      "[50]\tvalidation_0-rmse:1706.23\n",
      "[60]\tvalidation_0-rmse:1687.63\n",
      "[70]\tvalidation_0-rmse:1676.17\n",
      "[80]\tvalidation_0-rmse:1665.19\n",
      "[90]\tvalidation_0-rmse:1654\n",
      "[99]\tvalidation_0-rmse:1645.79\n"
     ]
    },
    {
     "name": "stderr",
     "output_type": "stream",
     "text": [
      "/opt/conda/lib/python3.7/site-packages/xgboost/core.py:587: FutureWarning: Series.base is deprecated and will be removed in a future version\n",
      "  if getattr(data, 'base', None) is not None and \\\n"
     ]
    },
    {
     "name": "stdout",
     "output_type": "stream",
     "text": [
      "[09:14:00] WARNING: /workspace/src/objective/regression_obj.cu:152: reg:linear is now deprecated in favor of reg:squarederror.\n",
      "[0]\tvalidation_0-rmse:5856.69\n",
      "[10]\tvalidation_0-rmse:2798.28\n",
      "[20]\tvalidation_0-rmse:2010.53\n",
      "[30]\tvalidation_0-rmse:1811.69\n",
      "[40]\tvalidation_0-rmse:1740.43\n",
      "[50]\tvalidation_0-rmse:1707.44\n",
      "[60]\tvalidation_0-rmse:1688.51\n",
      "[70]\tvalidation_0-rmse:1675.52\n",
      "[80]\tvalidation_0-rmse:1662.34\n",
      "[90]\tvalidation_0-rmse:1651.43\n",
      "[99]\tvalidation_0-rmse:1643.46\n"
     ]
    },
    {
     "name": "stderr",
     "output_type": "stream",
     "text": [
      "/opt/conda/lib/python3.7/site-packages/xgboost/core.py:587: FutureWarning: Series.base is deprecated and will be removed in a future version\n",
      "  if getattr(data, 'base', None) is not None and \\\n"
     ]
    },
    {
     "name": "stdout",
     "output_type": "stream",
     "text": [
      "[09:14:23] WARNING: /workspace/src/objective/regression_obj.cu:152: reg:linear is now deprecated in favor of reg:squarederror.\n",
      "[0]\tvalidation_0-rmse:5855.78\n",
      "[10]\tvalidation_0-rmse:2796.1\n",
      "[20]\tvalidation_0-rmse:2010.39\n",
      "[30]\tvalidation_0-rmse:1806.87\n",
      "[40]\tvalidation_0-rmse:1736.92\n",
      "[50]\tvalidation_0-rmse:1702.76\n",
      "[60]\tvalidation_0-rmse:1684.52\n",
      "[70]\tvalidation_0-rmse:1666.74\n",
      "[80]\tvalidation_0-rmse:1652.7\n",
      "[90]\tvalidation_0-rmse:1640.46\n",
      "[99]\tvalidation_0-rmse:1630.86\n",
      "Best hyperparams:  {'eta': 0.5, 'max_depth': 7, 'min_child_weight': 4, 'sampling_method': 'gradient_based', 'seed': 12345, 'verbosity': 1}\n",
      "Best RMSE score: 1636.54\n",
      "CPU times: user 2min 27s, sys: 0 ns, total: 2min 27s\n",
      "Wall time: 2min 27s\n"
     ]
    }
   ],
   "source": [
    "%%time\n",
    "xgb_params = xgb_regr(X_train, y_train)"
   ]
  },
  {
   "cell_type": "code",
   "execution_count": 50,
   "metadata": {},
   "outputs": [
    {
     "name": "stdout",
     "output_type": "stream",
     "text": [
      "[09:15:08] WARNING: /workspace/src/objective/regression_obj.cu:152: reg:linear is now deprecated in favor of reg:squarederror.\n",
      "[0]\tvalidation_0-rmse:5855.78\n",
      "[10]\tvalidation_0-rmse:2796.1\n",
      "[20]\tvalidation_0-rmse:2010.39\n",
      "[30]\tvalidation_0-rmse:1806.87\n",
      "[40]\tvalidation_0-rmse:1736.92\n",
      "[50]\tvalidation_0-rmse:1702.76\n",
      "[60]\tvalidation_0-rmse:1684.52\n",
      "[70]\tvalidation_0-rmse:1666.74\n",
      "[80]\tvalidation_0-rmse:1652.7\n",
      "[90]\tvalidation_0-rmse:1640.46\n",
      "[99]\tvalidation_0-rmse:1630.86\n",
      "Test RMSE : 1643.58\n",
      "CPU times: user 42.5 s, sys: 0 ns, total: 42.5 s\n",
      "Wall time: 42.8 s\n"
     ]
    }
   ],
   "source": [
    "%%time\n",
    "model_xgb = XGBRegressor(**xgb_params)\n",
    "model_xgb.fit(X_train, y_train, eval_metric='rmse', verbose = 10, eval_set = [(X_test, y_test)])\n",
    "xgb_pred = model_xgb.predict(X_train_valid)\n",
    "print('Test RMSE : {:.2f}'.format(mse(y_train_valid, xgb_pred)**0.5))"
   ]
  },
  {
   "cell_type": "markdown",
   "metadata": {},
   "source": [
    "Использовав модель XGBRegressor мы получили показатели: \n",
    " - на обучающей выборке: 1613.46\n",
    " - на валидационной выборке: 1581.30 "
   ]
  },
  {
   "cell_type": "markdown",
   "metadata": {},
   "source": [
    "# 3. Анализ моделей"
   ]
  },
  {
   "cell_type": "markdown",
   "metadata": {},
   "source": [
    "Мы провели анализ и обработку данных. Подготовили их и обучили модели на их основе. Нашли лучшие гиперпараметры для моделей и протестировали их на валидационных выборках, применив метрику RMSE."
   ]
  },
  {
   "cell_type": "code",
   "execution_count": 51,
   "metadata": {},
   "outputs": [
    {
     "data": {
      "text/html": [
       "<div>\n",
       "<style scoped>\n",
       "    .dataframe tbody tr th:only-of-type {\n",
       "        vertical-align: middle;\n",
       "    }\n",
       "\n",
       "    .dataframe tbody tr th {\n",
       "        vertical-align: top;\n",
       "    }\n",
       "\n",
       "    .dataframe thead th {\n",
       "        text-align: right;\n",
       "    }\n",
       "</style>\n",
       "<table border=\"1\" class=\"dataframe\">\n",
       "  <thead>\n",
       "    <tr style=\"text-align: right;\">\n",
       "      <th></th>\n",
       "      <th>Model</th>\n",
       "      <th>Train RMSE</th>\n",
       "      <th>Train Time, sec</th>\n",
       "      <th>Test RMSE</th>\n",
       "      <th>Test Time, sec</th>\n",
       "    </tr>\n",
       "  </thead>\n",
       "  <tbody>\n",
       "    <tr>\n",
       "      <td>0</td>\n",
       "      <td>LGBMRegressor</td>\n",
       "      <td>1550.04</td>\n",
       "      <td>26.5</td>\n",
       "      <td>1593.78</td>\n",
       "      <td>3.41</td>\n",
       "    </tr>\n",
       "    <tr>\n",
       "      <td>1</td>\n",
       "      <td>CatBoostRegressor</td>\n",
       "      <td>1588.17</td>\n",
       "      <td>105.0</td>\n",
       "      <td>1591.36</td>\n",
       "      <td>7.25</td>\n",
       "    </tr>\n",
       "    <tr>\n",
       "      <td>2</td>\n",
       "      <td>XGBRegressor</td>\n",
       "      <td>1613.46</td>\n",
       "      <td>38.1</td>\n",
       "      <td>1581.30</td>\n",
       "      <td>8.94</td>\n",
       "    </tr>\n",
       "  </tbody>\n",
       "</table>\n",
       "</div>"
      ],
      "text/plain": [
       "               Model  Train RMSE  Train Time, sec  Test RMSE  Test Time, sec\n",
       "0      LGBMRegressor     1550.04             26.5    1593.78            3.41\n",
       "1  CatBoostRegressor     1588.17            105.0    1591.36            7.25\n",
       "2       XGBRegressor     1613.46             38.1    1581.30            8.94"
      ]
     },
     "metadata": {},
     "output_type": "display_data"
    }
   ],
   "source": [
    "results = {\n",
    "    'Model' : ['LGBMRegressor', 'CatBoostRegressor', 'XGBRegressor'],\n",
    "    'Train RMSE' :pd.Series([1550.04, 1588.17, 1613.46]),\n",
    "    'Train Time, sec': pd.Series([26.5, 105, 38.1]),\n",
    "    'Test RMSE' :pd.Series([1593.78, 1591.36, 1581.3]),\n",
    "    'Test Time, sec': pd.Series([3.41, 7.25, 8.94])\n",
    "    }\n",
    "display(pd.DataFrame(results))"
   ]
  },
  {
   "cell_type": "markdown",
   "metadata": {},
   "source": [
    "XGBRegressor показал худшие результат на обучающей выборке, но на валидационной вышел на первое место, хотя занял времени больше остальных."
   ]
  }
 ],
 "metadata": {
  "kernelspec": {
   "display_name": "Python 3",
   "language": "python",
   "name": "python3"
  },
  "language_info": {
   "codemirror_mode": {
    "name": "ipython",
    "version": 3
   },
   "file_extension": ".py",
   "mimetype": "text/x-python",
   "name": "python",
   "nbconvert_exporter": "python",
   "pygments_lexer": "ipython3",
   "version": "3.7.6"
  }
 },
 "nbformat": 4,
 "nbformat_minor": 2
}
